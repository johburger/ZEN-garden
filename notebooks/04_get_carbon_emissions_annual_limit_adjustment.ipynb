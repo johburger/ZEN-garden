{
 "cells": [
  {
   "cell_type": "code",
   "execution_count": 1,
   "id": "initial_id",
   "metadata": {
    "collapsed": true,
    "ExecuteTime": {
     "end_time": "2024-03-12T09:04:56.594117Z",
     "start_time": "2024-03-12T09:04:54.815391Z"
    }
   },
   "outputs": [],
   "source": [
    "%load_ext autoreload\n",
    "%autoreload 2\n",
    "%matplotlib inline\n",
    "\n",
    "# import\n",
    "import pandas as pd\n",
    "from pprint import pprint\n",
    "from zen_garden.postprocess.results import Results\n",
    "from pathlib import Path\n",
    "from os import chdir\n",
    "\n",
    "# set path\n",
    "path = Path('/Users/davidbertschinger/Documents/GitHub/ZEN-garden/notebooks')\n",
    "chdir(path)"
   ]
  },
  {
   "cell_type": "code",
   "execution_count": 2,
   "outputs": [],
   "source": [
    "# define import path\n",
    "path_import = Path(\"../data/outputs/03_example_CCTS_N-1_03_CT_infisbal\")\n",
    "\n",
    "# define export path\n",
    "path_export = Path(\"../data/03_example_CCTS_N-1_03_CT_infisbal_adjusted/energy_system/carbon_emissions_annual_limit_adjustment.csv\")"
   ],
   "metadata": {
    "collapsed": false,
    "ExecuteTime": {
     "end_time": "2024-03-12T09:04:56.607410Z",
     "start_time": "2024-03-12T09:04:56.582890Z"
    }
   },
   "id": "d71a4a748e08e539"
  },
  {
   "cell_type": "code",
   "execution_count": 3,
   "outputs": [
    {
     "name": "stderr",
     "output_type": "stream",
     "text": [
      "/Users/davidbertschinger/Applications/PyCharm Professional Edition.app/Contents/plugins/python/helpers/pydev/pydevd_plugins/__init__.py:2: DeprecationWarning: Deprecated call to `pkg_resources.declare_namespace('pydevd_plugins')`.\n",
      "Implementing implicit namespace packages (as specified in PEP 420) is preferred to `pkg_resources.declare_namespace`. See https://setuptools.pypa.io/en/latest/references/keywords.html#keyword-namespace-packages\n",
      "  __import__('pkg_resources').declare_namespace(__name__)\n",
      "\n",
      "/Users/davidbertschinger/Applications/PyCharm Professional Edition.app/Contents/plugins/python/helpers/pydev/pydevd_plugins/extensions/__init__.py:2: DeprecationWarning: Deprecated call to `pkg_resources.declare_namespace('pydevd_plugins.extensions')`.\n",
      "Implementing implicit namespace packages (as specified in PEP 420) is preferred to `pkg_resources.declare_namespace`. See https://setuptools.pypa.io/en/latest/references/keywords.html#keyword-namespace-packages\n",
      "  __import__('pkg_resources').declare_namespace(__name__)\n",
      "\n",
      "/Users/davidbertschinger/Applications/PyCharm Professional Edition.app/Contents/plugins/python/helpers/pydev/pydevd_plugins/extensions/types/__init__.py:2: DeprecationWarning: Deprecated call to `pkg_resources.declare_namespace('pydevd_plugins.extensions.types')`.\n",
      "Implementing implicit namespace packages (as specified in PEP 420) is preferred to `pkg_resources.declare_namespace`. See https://setuptools.pypa.io/en/latest/references/keywords.html#keyword-namespace-packages\n",
      "  __import__('pkg_resources').declare_namespace(__name__)\n",
      "\n"
     ]
    }
   ],
   "source": [
    "# infeasible solution\n",
    "results = Results(path_import)"
   ],
   "metadata": {
    "collapsed": false,
    "ExecuteTime": {
     "end_time": "2024-03-12T09:04:58.362733Z",
     "start_time": "2024-03-12T09:04:57.217736Z"
    }
   },
   "id": "fde41797d10bccf6"
  },
  {
   "cell_type": "code",
   "execution_count": 4,
   "outputs": [
    {
     "data": {
      "text/plain": "carrier      node              failure_states                              time_operation\nco2_ambient  swiss_storage_CH  no_failure_technology: no_failure_location  0                 0.0\n                                                                           1                 0.0\n                                                                           2                 0.0\n                                                                           3                 0.0\n                                                                           4                 0.0\n                                                                                            ... \nco2_stored   waste_2_CH        flowline: waste_2_CH-swiss_storage_CH       0                 0.0\n                                                                           1                 0.0\n                                                                           2                 0.0\n                                                                           3                 0.0\n                                                                           4                 0.0\nName: flow_export, Length: 825, dtype: float64"
     },
     "execution_count": 4,
     "metadata": {},
     "output_type": "execute_result"
    }
   ],
   "source": [
    "# get flow export and save as csv\n",
    "results.get_df('flow_export', to_csv=\"flow_export\")"
   ],
   "metadata": {
    "collapsed": false,
    "ExecuteTime": {
     "end_time": "2024-03-12T09:05:00.627760Z",
     "start_time": "2024-03-12T09:05:00.562926Z"
    }
   },
   "id": "fc5db256355e390e"
  },
  {
   "cell_type": "code",
   "execution_count": 5,
   "outputs": [],
   "source": [
    "# get flow export csv\n",
    "df = pd.read_csv('flow_export.csv')"
   ],
   "metadata": {
    "collapsed": false,
    "ExecuteTime": {
     "end_time": "2024-03-12T09:05:02.121163Z",
     "start_time": "2024-03-12T09:05:02.070515Z"
    }
   },
   "id": "c5b46bb8b4725cdb"
  },
  {
   "cell_type": "code",
   "execution_count": 6,
   "outputs": [
    {
     "ename": "OSError",
     "evalue": "Cannot save file into a non-existent directory: '../data/03_example_CCTS_N-1_03_CT_infisbal_adjusted/energy_system'",
     "output_type": "error",
     "traceback": [
      "\u001B[0;31m---------------------------------------------------------------------------\u001B[0m",
      "\u001B[0;31mOSError\u001B[0m                                   Traceback (most recent call last)",
      "Cell \u001B[0;32mIn[6], line 26\u001B[0m\n\u001B[1;32m     24\u001B[0m \u001B[38;5;66;03m# safe the table DataFrame\u001B[39;00m\n\u001B[1;32m     25\u001B[0m filepath \u001B[38;5;241m=\u001B[39m Path(path_export)\n\u001B[0;32m---> 26\u001B[0m table_df\u001B[38;5;241m.\u001B[39mto_csv(filepath, index\u001B[38;5;241m=\u001B[39m\u001B[38;5;28;01mFalse\u001B[39;00m)\n",
      "File \u001B[0;32m~/anaconda3/envs/zen-garden-linopy/lib/python3.11/site-packages/pandas/core/generic.py:3902\u001B[0m, in \u001B[0;36mNDFrame.to_csv\u001B[0;34m(self, path_or_buf, sep, na_rep, float_format, columns, header, index, index_label, mode, encoding, compression, quoting, quotechar, lineterminator, chunksize, date_format, doublequote, escapechar, decimal, errors, storage_options)\u001B[0m\n\u001B[1;32m   3891\u001B[0m df \u001B[38;5;241m=\u001B[39m \u001B[38;5;28mself\u001B[39m \u001B[38;5;28;01mif\u001B[39;00m \u001B[38;5;28misinstance\u001B[39m(\u001B[38;5;28mself\u001B[39m, ABCDataFrame) \u001B[38;5;28;01melse\u001B[39;00m \u001B[38;5;28mself\u001B[39m\u001B[38;5;241m.\u001B[39mto_frame()\n\u001B[1;32m   3893\u001B[0m formatter \u001B[38;5;241m=\u001B[39m DataFrameFormatter(\n\u001B[1;32m   3894\u001B[0m     frame\u001B[38;5;241m=\u001B[39mdf,\n\u001B[1;32m   3895\u001B[0m     header\u001B[38;5;241m=\u001B[39mheader,\n\u001B[0;32m   (...)\u001B[0m\n\u001B[1;32m   3899\u001B[0m     decimal\u001B[38;5;241m=\u001B[39mdecimal,\n\u001B[1;32m   3900\u001B[0m )\n\u001B[0;32m-> 3902\u001B[0m \u001B[38;5;28;01mreturn\u001B[39;00m DataFrameRenderer(formatter)\u001B[38;5;241m.\u001B[39mto_csv(\n\u001B[1;32m   3903\u001B[0m     path_or_buf,\n\u001B[1;32m   3904\u001B[0m     lineterminator\u001B[38;5;241m=\u001B[39mlineterminator,\n\u001B[1;32m   3905\u001B[0m     sep\u001B[38;5;241m=\u001B[39msep,\n\u001B[1;32m   3906\u001B[0m     encoding\u001B[38;5;241m=\u001B[39mencoding,\n\u001B[1;32m   3907\u001B[0m     errors\u001B[38;5;241m=\u001B[39merrors,\n\u001B[1;32m   3908\u001B[0m     compression\u001B[38;5;241m=\u001B[39mcompression,\n\u001B[1;32m   3909\u001B[0m     quoting\u001B[38;5;241m=\u001B[39mquoting,\n\u001B[1;32m   3910\u001B[0m     columns\u001B[38;5;241m=\u001B[39mcolumns,\n\u001B[1;32m   3911\u001B[0m     index_label\u001B[38;5;241m=\u001B[39mindex_label,\n\u001B[1;32m   3912\u001B[0m     mode\u001B[38;5;241m=\u001B[39mmode,\n\u001B[1;32m   3913\u001B[0m     chunksize\u001B[38;5;241m=\u001B[39mchunksize,\n\u001B[1;32m   3914\u001B[0m     quotechar\u001B[38;5;241m=\u001B[39mquotechar,\n\u001B[1;32m   3915\u001B[0m     date_format\u001B[38;5;241m=\u001B[39mdate_format,\n\u001B[1;32m   3916\u001B[0m     doublequote\u001B[38;5;241m=\u001B[39mdoublequote,\n\u001B[1;32m   3917\u001B[0m     escapechar\u001B[38;5;241m=\u001B[39mescapechar,\n\u001B[1;32m   3918\u001B[0m     storage_options\u001B[38;5;241m=\u001B[39mstorage_options,\n\u001B[1;32m   3919\u001B[0m )\n",
      "File \u001B[0;32m~/anaconda3/envs/zen-garden-linopy/lib/python3.11/site-packages/pandas/io/formats/format.py:1152\u001B[0m, in \u001B[0;36mDataFrameRenderer.to_csv\u001B[0;34m(self, path_or_buf, encoding, sep, columns, index_label, mode, compression, quoting, quotechar, lineterminator, chunksize, date_format, doublequote, escapechar, errors, storage_options)\u001B[0m\n\u001B[1;32m   1131\u001B[0m     created_buffer \u001B[38;5;241m=\u001B[39m \u001B[38;5;28;01mFalse\u001B[39;00m\n\u001B[1;32m   1133\u001B[0m csv_formatter \u001B[38;5;241m=\u001B[39m CSVFormatter(\n\u001B[1;32m   1134\u001B[0m     path_or_buf\u001B[38;5;241m=\u001B[39mpath_or_buf,\n\u001B[1;32m   1135\u001B[0m     lineterminator\u001B[38;5;241m=\u001B[39mlineterminator,\n\u001B[0;32m   (...)\u001B[0m\n\u001B[1;32m   1150\u001B[0m     formatter\u001B[38;5;241m=\u001B[39m\u001B[38;5;28mself\u001B[39m\u001B[38;5;241m.\u001B[39mfmt,\n\u001B[1;32m   1151\u001B[0m )\n\u001B[0;32m-> 1152\u001B[0m csv_formatter\u001B[38;5;241m.\u001B[39msave()\n\u001B[1;32m   1154\u001B[0m \u001B[38;5;28;01mif\u001B[39;00m created_buffer:\n\u001B[1;32m   1155\u001B[0m     \u001B[38;5;28;01massert\u001B[39;00m \u001B[38;5;28misinstance\u001B[39m(path_or_buf, StringIO)\n",
      "File \u001B[0;32m~/anaconda3/envs/zen-garden-linopy/lib/python3.11/site-packages/pandas/io/formats/csvs.py:247\u001B[0m, in \u001B[0;36mCSVFormatter.save\u001B[0;34m(self)\u001B[0m\n\u001B[1;32m    243\u001B[0m \u001B[38;5;250m\u001B[39m\u001B[38;5;124;03m\"\"\"\u001B[39;00m\n\u001B[1;32m    244\u001B[0m \u001B[38;5;124;03mCreate the writer & save.\u001B[39;00m\n\u001B[1;32m    245\u001B[0m \u001B[38;5;124;03m\"\"\"\u001B[39;00m\n\u001B[1;32m    246\u001B[0m \u001B[38;5;66;03m# apply compression and byte/text conversion\u001B[39;00m\n\u001B[0;32m--> 247\u001B[0m \u001B[38;5;28;01mwith\u001B[39;00m get_handle(\n\u001B[1;32m    248\u001B[0m     \u001B[38;5;28mself\u001B[39m\u001B[38;5;241m.\u001B[39mfilepath_or_buffer,\n\u001B[1;32m    249\u001B[0m     \u001B[38;5;28mself\u001B[39m\u001B[38;5;241m.\u001B[39mmode,\n\u001B[1;32m    250\u001B[0m     encoding\u001B[38;5;241m=\u001B[39m\u001B[38;5;28mself\u001B[39m\u001B[38;5;241m.\u001B[39mencoding,\n\u001B[1;32m    251\u001B[0m     errors\u001B[38;5;241m=\u001B[39m\u001B[38;5;28mself\u001B[39m\u001B[38;5;241m.\u001B[39merrors,\n\u001B[1;32m    252\u001B[0m     compression\u001B[38;5;241m=\u001B[39m\u001B[38;5;28mself\u001B[39m\u001B[38;5;241m.\u001B[39mcompression,\n\u001B[1;32m    253\u001B[0m     storage_options\u001B[38;5;241m=\u001B[39m\u001B[38;5;28mself\u001B[39m\u001B[38;5;241m.\u001B[39mstorage_options,\n\u001B[1;32m    254\u001B[0m ) \u001B[38;5;28;01mas\u001B[39;00m handles:\n\u001B[1;32m    255\u001B[0m     \u001B[38;5;66;03m# Note: self.encoding is irrelevant here\u001B[39;00m\n\u001B[1;32m    256\u001B[0m     \u001B[38;5;28mself\u001B[39m\u001B[38;5;241m.\u001B[39mwriter \u001B[38;5;241m=\u001B[39m csvlib\u001B[38;5;241m.\u001B[39mwriter(\n\u001B[1;32m    257\u001B[0m         handles\u001B[38;5;241m.\u001B[39mhandle,\n\u001B[1;32m    258\u001B[0m         lineterminator\u001B[38;5;241m=\u001B[39m\u001B[38;5;28mself\u001B[39m\u001B[38;5;241m.\u001B[39mlineterminator,\n\u001B[0;32m   (...)\u001B[0m\n\u001B[1;32m    263\u001B[0m         quotechar\u001B[38;5;241m=\u001B[39m\u001B[38;5;28mself\u001B[39m\u001B[38;5;241m.\u001B[39mquotechar,\n\u001B[1;32m    264\u001B[0m     )\n\u001B[1;32m    266\u001B[0m     \u001B[38;5;28mself\u001B[39m\u001B[38;5;241m.\u001B[39m_save()\n",
      "File \u001B[0;32m~/anaconda3/envs/zen-garden-linopy/lib/python3.11/site-packages/pandas/io/common.py:739\u001B[0m, in \u001B[0;36mget_handle\u001B[0;34m(path_or_buf, mode, encoding, compression, memory_map, is_text, errors, storage_options)\u001B[0m\n\u001B[1;32m    737\u001B[0m \u001B[38;5;66;03m# Only for write methods\u001B[39;00m\n\u001B[1;32m    738\u001B[0m \u001B[38;5;28;01mif\u001B[39;00m \u001B[38;5;124m\"\u001B[39m\u001B[38;5;124mr\u001B[39m\u001B[38;5;124m\"\u001B[39m \u001B[38;5;129;01mnot\u001B[39;00m \u001B[38;5;129;01min\u001B[39;00m mode \u001B[38;5;129;01mand\u001B[39;00m is_path:\n\u001B[0;32m--> 739\u001B[0m     check_parent_directory(\u001B[38;5;28mstr\u001B[39m(handle))\n\u001B[1;32m    741\u001B[0m \u001B[38;5;28;01mif\u001B[39;00m compression:\n\u001B[1;32m    742\u001B[0m     \u001B[38;5;28;01mif\u001B[39;00m compression \u001B[38;5;241m!=\u001B[39m \u001B[38;5;124m\"\u001B[39m\u001B[38;5;124mzstd\u001B[39m\u001B[38;5;124m\"\u001B[39m:\n\u001B[1;32m    743\u001B[0m         \u001B[38;5;66;03m# compression libraries do not like an explicit text-mode\u001B[39;00m\n",
      "File \u001B[0;32m~/anaconda3/envs/zen-garden-linopy/lib/python3.11/site-packages/pandas/io/common.py:604\u001B[0m, in \u001B[0;36mcheck_parent_directory\u001B[0;34m(path)\u001B[0m\n\u001B[1;32m    602\u001B[0m parent \u001B[38;5;241m=\u001B[39m Path(path)\u001B[38;5;241m.\u001B[39mparent\n\u001B[1;32m    603\u001B[0m \u001B[38;5;28;01mif\u001B[39;00m \u001B[38;5;129;01mnot\u001B[39;00m parent\u001B[38;5;241m.\u001B[39mis_dir():\n\u001B[0;32m--> 604\u001B[0m     \u001B[38;5;28;01mraise\u001B[39;00m \u001B[38;5;167;01mOSError\u001B[39;00m(\u001B[38;5;124mrf\u001B[39m\u001B[38;5;124m\"\u001B[39m\u001B[38;5;124mCannot save file into a non-existent directory: \u001B[39m\u001B[38;5;124m'\u001B[39m\u001B[38;5;132;01m{\u001B[39;00mparent\u001B[38;5;132;01m}\u001B[39;00m\u001B[38;5;124m'\u001B[39m\u001B[38;5;124m\"\u001B[39m)\n",
      "\u001B[0;31mOSError\u001B[0m: Cannot save file into a non-existent directory: '../data/03_example_CCTS_N-1_03_CT_infisbal_adjusted/energy_system'"
     ]
    }
   ],
   "source": [
    "# find unique failure states and time steps\n",
    "states = df['failure_states'].unique()\n",
    "time_steps = df['time_operation'].unique()\n",
    "\n",
    "# filter for co2 stored\n",
    "co2_stored = df[df['carrier'] == \"co2_stored\"]\n",
    "\n",
    "# Initialize an empty list to store data\n",
    "table_data = []\n",
    "\n",
    "# Iterate over time_steps\n",
    "for time_step in range(len(time_steps)):\n",
    "    co2_stored_time_step = co2_stored[co2_stored['time_operation'] == time_step]\n",
    "    co2_stored_no_failure = co2_stored_time_step[co2_stored_time_step['failure_states'] == \"no_failure_technology: no_failure_location\"].sum()\n",
    "    co2_not_stored = (len(states) * co2_stored_no_failure[\"flow_export\"] - co2_stored_time_step.sum()[\"flow_export\"]) * 8.76\n",
    "    \n",
    "    # Append data as a tuple to the list\n",
    "    table_data.append((time_steps[time_step], co2_not_stored))\n",
    "\n",
    "# Create a DataFrame from the list\n",
    "table_df = pd.DataFrame(table_data, columns=[\"year\", \"carbon_emissions_limit\"])\n",
    "table_df['year'] = table_df['year'] + 2025\n",
    "\n",
    "# safe the table DataFrame\n",
    "filepath = Path(path_export)\n",
    "table_df.to_csv(filepath, index=False)"
   ],
   "metadata": {
    "collapsed": false,
    "ExecuteTime": {
     "end_time": "2024-03-12T09:05:04.045568Z",
     "start_time": "2024-03-12T09:05:03.094258Z"
    }
   },
   "id": "502d5d5769d30044"
  },
  {
   "cell_type": "code",
   "execution_count": null,
   "outputs": [],
   "source": [],
   "metadata": {
    "collapsed": false
   },
   "id": "e74b63071831db30"
  }
 ],
 "metadata": {
  "kernelspec": {
   "display_name": "Python 3",
   "language": "python",
   "name": "python3"
  },
  "language_info": {
   "codemirror_mode": {
    "name": "ipython",
    "version": 2
   },
   "file_extension": ".py",
   "mimetype": "text/x-python",
   "name": "python",
   "nbconvert_exporter": "python",
   "pygments_lexer": "ipython2",
   "version": "2.7.6"
  }
 },
 "nbformat": 4,
 "nbformat_minor": 5
}
