{
 "cells": [
  {
   "cell_type": "code",
   "execution_count": 4,
   "id": "initial_id",
   "metadata": {
    "collapsed": true,
    "ExecuteTime": {
     "end_time": "2024-03-04T14:26:13.091269Z",
     "start_time": "2024-03-04T14:26:13.050077Z"
    }
   },
   "outputs": [],
   "source": [
    "import pandas as pd\n",
    "%load_ext autoreload\n",
    "%autoreload 2"
   ]
  },
  {
   "cell_type": "code",
   "execution_count": 5,
   "outputs": [],
   "source": [
    "%matplotlib inline\n",
    "\n",
    "from pprint import pprint\n",
    "from zen_garden.postprocess.results import Results\n",
    "\n",
    "from pathlib import Path\n",
    "from os import chdir"
   ],
   "metadata": {
    "collapsed": false,
    "ExecuteTime": {
     "end_time": "2024-03-04T14:26:13.250212Z",
     "start_time": "2024-03-04T14:26:13.232574Z"
    }
   },
   "id": "780397ba889ec419"
  },
  {
   "cell_type": "code",
   "execution_count": 6,
   "outputs": [],
   "source": [
    "# set path\n",
    "path = Path('/Users/davidbertschinger/Documents/GitHub/ZEN-garden/notebooks')\n",
    "chdir(path)"
   ],
   "metadata": {
    "collapsed": false,
    "ExecuteTime": {
     "end_time": "2024-03-04T14:26:13.708440Z",
     "start_time": "2024-03-04T14:26:13.693423Z"
    }
   },
   "id": "1993ef780d414ee9"
  },
  {
   "cell_type": "code",
   "execution_count": 7,
   "outputs": [],
   "source": [
    "# cost optimal solution\n",
    "res_adjusted = Results(\"../data/outputs/03_example_CCTS_N-1_03_CT_infeasible_adjusted_scenarios\")\n",
    "for scenario in res_adjusted.scenarios:\n",
    "    res_adjusted.get_df('flow_export', scenario=scenario, to_csv=\"flow_export_adjusted\")\n",
    "    \n",
    "    # get flow transport csv\n",
    "    df = pd.read_csv('flow_export_adjusted.csv')\n",
    "    # find unique failure states\n",
    "    states = df['failure_states'].unique()\n",
    "    time_steps = df['time_operation'].unique()\n",
    "    # find unique technologies\n",
    "    co2_stored = df[df['carrier'] == \"co2_stored\"]\n",
    "    # Initialize an empty list to store data\n",
    "    table_data = []\n",
    "    \n",
    "    # Iterate over time_steps\n",
    "    for time_step in range(len(time_steps)):\n",
    "        co2_stored_time_step = co2_stored[co2_stored['time_operation'] == time_step]\n",
    "        co2_stored_no_failure = co2_stored_time_step[\n",
    "            co2_stored_time_step['failure_states'] == \"no_failure_technology: no_failure_location\"].sum()\n",
    "        co2_not_stored = (len(states) * co2_stored_no_failure[\"flow_export\"] - co2_stored_time_step.sum()[\n",
    "            \"flow_export\"]) * 8.76\n",
    "    \n",
    "        # Append data as a tuple to the list\n",
    "        table_data.append((time_steps[time_step], co2_not_stored))\n",
    "    \n",
    "    # Create a DataFrame from the list\n",
    "    table_df = pd.DataFrame(table_data, columns=[\"year\", \"carbon_emissions_limit\"])\n",
    "    table_df['year'] = table_df['year'] + 2025\n",
    "    "
   ],
   "metadata": {
    "collapsed": false,
    "ExecuteTime": {
     "end_time": "2024-03-04T14:26:14.373033Z",
     "start_time": "2024-03-04T14:26:14.172564Z"
    }
   },
   "id": "1ebce8a12674550d"
  },
  {
   "cell_type": "code",
   "execution_count": 116,
   "outputs": [
    {
     "name": "stdout",
     "output_type": "stream",
     "text": [
      "               factor1  factor0.8  factor0.6  factor0.4  factor0.2  factor0\n",
      "year                                                                       \n",
      "2025      0.0      0.0        0.0        0.0        0.0        0.0      0.0\n",
      "2026  13501.5  13501.5    13668.9    13839.7    14018.2    14196.6  14375.3\n",
      "2027  13501.5  13501.5    13668.9    13839.7    14018.2    14196.6  14375.3\n",
      "2028  23273.9  23273.9    23577.4    23883.7    24207.3    24530.9  24854.9\n",
      "2029  23273.9  23273.9    23577.4    23883.7    24207.3    24530.9  24854.9\n"
     ]
    }
   ],
   "source": [
    "# Initialize the Results object\n",
    "res_adjusted = Results(\"../data/outputs/03_example_CCTS_N-1_03_CT_infeasible_adjusted_scenarios\")\n",
    "\n",
    "flow = 'flow_export'\n",
    "carrier = \"co2_stored\"\n",
    "\n",
    "# Initialize an empty DataFrame to store the combined results\n",
    "combined_df = pd.DataFrame()\n",
    "\n",
    "# Iterate over each scenario\n",
    "for scenario in res_adjusted.scenarios:\n",
    "    # Export the flowdata to CSV for the current scenario\n",
    "    res_adjusted.get_df(flow, scenario=scenario, to_csv=\"flow_adjusted.csv\")\n",
    "    res_adjusted.get_df(\"cost_total\", scenario=scenario, to_csv=\"opex_yearly.csv\")\n",
    "    \n",
    "    # Load the exported data\n",
    "    df = pd.read_csv('flow_adjusted.csv')\n",
    "    opex = pd.read_csv('opex_yearly.csv')\n",
    "    \n",
    "    # Find unique failure states and time steps\n",
    "    time_steps = df['time_operation'].unique()\n",
    "    \n",
    "    # Filter for carrier\n",
    "    df = df[df['carrier'] == carrier]\n",
    "    \n",
    "    # Initialize a list to store data for the current scenario\n",
    "    scenario_data = []\n",
    "\n",
    "    # Iterate over time_steps\n",
    "    for time_step in time_steps:\n",
    "        # Filter data for the current time_step\n",
    "        df_time_step = df[df['time_operation'] == time_step]\n",
    "        cost_total = opex[opex['year'] == time_step]\n",
    "        # Sum up the flow where there's no failure\n",
    "        df_no_failure = df_time_step[df_time_step['failure_states'] == \"no_failure_technology: no_failure_location\"][flow].sum()\n",
    "        # difference in flow for carrier fore each failure state minus no failure\n",
    "        flow_difference = (df_time_step[flow].sum() - len(df['failure_states'].unique()) * df_no_failure) * 8.76\n",
    "        total_flow = (df_time_step[flow].sum() - (len(df['failure_states'].unique())-1) * df_no_failure) * 8.76\n",
    "        cost_per_total_flow = (cost_total['cost_total'].sum())/1000\n",
    "        \n",
    "        # Append the result to the list\n",
    "        scenario_data.append(round(cost_per_total_flow,1))\n",
    "    \n",
    "    # Modify the scenario name to only include the part after the last underscore\n",
    "    simplified_scenario_name = scenario.split('_')[-1] \n",
    "    # Create a DataFrame from the collected scenario data\n",
    "    table_df = pd.DataFrame({\"year\": time_steps, simplified_scenario_name: scenario_data})\n",
    "    \n",
    "    # Adjust year based on your setup\n",
    "    table_df['year'] = table_df['year'] + 2025\n",
    "    \n",
    "    if combined_df.empty:\n",
    "        combined_df = table_df.set_index('year')\n",
    "    else:\n",
    "        # Merge the new scenario data into the combined DataFrame\n",
    "        combined_df = combined_df.merge(table_df.set_index('year'), left_index=True, right_index=True, how='outer')\n",
    "\n",
    "# After processing all scenarios, `combined_df` now contains all the data\n",
    "print(combined_df)"
   ],
   "metadata": {
    "collapsed": false,
    "ExecuteTime": {
     "end_time": "2024-03-05T13:42:16.628117Z",
     "start_time": "2024-03-05T13:42:15.435588Z"
    }
   },
   "id": "c99afda1e3c9755a"
  },
  {
   "cell_type": "code",
   "execution_count": 27,
   "outputs": [
    {
     "ename": "KeyError",
     "evalue": "'time_operation'",
     "output_type": "error",
     "traceback": [
      "\u001B[0;31m---------------------------------------------------------------------------\u001B[0m",
      "\u001B[0;31mKeyError\u001B[0m                                  Traceback (most recent call last)",
      "File \u001B[0;32m~/anaconda3/envs/zen-garden-linopy/lib/python3.11/site-packages/pandas/core/indexes/base.py:3790\u001B[0m, in \u001B[0;36mIndex.get_loc\u001B[0;34m(self, key)\u001B[0m\n\u001B[1;32m   3789\u001B[0m \u001B[38;5;28;01mtry\u001B[39;00m:\n\u001B[0;32m-> 3790\u001B[0m     \u001B[38;5;28;01mreturn\u001B[39;00m \u001B[38;5;28mself\u001B[39m\u001B[38;5;241m.\u001B[39m_engine\u001B[38;5;241m.\u001B[39mget_loc(casted_key)\n\u001B[1;32m   3791\u001B[0m \u001B[38;5;28;01mexcept\u001B[39;00m \u001B[38;5;167;01mKeyError\u001B[39;00m \u001B[38;5;28;01mas\u001B[39;00m err:\n",
      "File \u001B[0;32mindex.pyx:152\u001B[0m, in \u001B[0;36mpandas._libs.index.IndexEngine.get_loc\u001B[0;34m()\u001B[0m\n",
      "File \u001B[0;32mindex.pyx:181\u001B[0m, in \u001B[0;36mpandas._libs.index.IndexEngine.get_loc\u001B[0;34m()\u001B[0m\n",
      "File \u001B[0;32mpandas/_libs/hashtable_class_helper.pxi:7080\u001B[0m, in \u001B[0;36mpandas._libs.hashtable.PyObjectHashTable.get_item\u001B[0;34m()\u001B[0m\n",
      "File \u001B[0;32mpandas/_libs/hashtable_class_helper.pxi:7088\u001B[0m, in \u001B[0;36mpandas._libs.hashtable.PyObjectHashTable.get_item\u001B[0;34m()\u001B[0m\n",
      "\u001B[0;31mKeyError\u001B[0m: 'time_operation'",
      "\nThe above exception was the direct cause of the following exception:\n",
      "\u001B[0;31mKeyError\u001B[0m                                  Traceback (most recent call last)",
      "Cell \u001B[0;32mIn[27], line 19\u001B[0m\n\u001B[1;32m     16\u001B[0m df \u001B[38;5;241m=\u001B[39m pd\u001B[38;5;241m.\u001B[39mread_csv(\u001B[38;5;124m'\u001B[39m\u001B[38;5;124mflow_adjusted.csv\u001B[39m\u001B[38;5;124m'\u001B[39m)\n\u001B[1;32m     18\u001B[0m \u001B[38;5;66;03m# Find unique failure states and time steps\u001B[39;00m\n\u001B[0;32m---> 19\u001B[0m time_steps \u001B[38;5;241m=\u001B[39m df[\u001B[38;5;124m'\u001B[39m\u001B[38;5;124mtime_operation\u001B[39m\u001B[38;5;124m'\u001B[39m]\u001B[38;5;241m.\u001B[39munique()\n\u001B[1;32m     21\u001B[0m \u001B[38;5;66;03m# Filter for carrier\u001B[39;00m\n\u001B[1;32m     22\u001B[0m df \u001B[38;5;241m=\u001B[39m df[df[\u001B[38;5;124m'\u001B[39m\u001B[38;5;124mcarrier\u001B[39m\u001B[38;5;124m'\u001B[39m] \u001B[38;5;241m==\u001B[39m carrier]\n",
      "File \u001B[0;32m~/anaconda3/envs/zen-garden-linopy/lib/python3.11/site-packages/pandas/core/frame.py:3893\u001B[0m, in \u001B[0;36mDataFrame.__getitem__\u001B[0;34m(self, key)\u001B[0m\n\u001B[1;32m   3891\u001B[0m \u001B[38;5;28;01mif\u001B[39;00m \u001B[38;5;28mself\u001B[39m\u001B[38;5;241m.\u001B[39mcolumns\u001B[38;5;241m.\u001B[39mnlevels \u001B[38;5;241m>\u001B[39m \u001B[38;5;241m1\u001B[39m:\n\u001B[1;32m   3892\u001B[0m     \u001B[38;5;28;01mreturn\u001B[39;00m \u001B[38;5;28mself\u001B[39m\u001B[38;5;241m.\u001B[39m_getitem_multilevel(key)\n\u001B[0;32m-> 3893\u001B[0m indexer \u001B[38;5;241m=\u001B[39m \u001B[38;5;28mself\u001B[39m\u001B[38;5;241m.\u001B[39mcolumns\u001B[38;5;241m.\u001B[39mget_loc(key)\n\u001B[1;32m   3894\u001B[0m \u001B[38;5;28;01mif\u001B[39;00m is_integer(indexer):\n\u001B[1;32m   3895\u001B[0m     indexer \u001B[38;5;241m=\u001B[39m [indexer]\n",
      "File \u001B[0;32m~/anaconda3/envs/zen-garden-linopy/lib/python3.11/site-packages/pandas/core/indexes/base.py:3797\u001B[0m, in \u001B[0;36mIndex.get_loc\u001B[0;34m(self, key)\u001B[0m\n\u001B[1;32m   3792\u001B[0m     \u001B[38;5;28;01mif\u001B[39;00m \u001B[38;5;28misinstance\u001B[39m(casted_key, \u001B[38;5;28mslice\u001B[39m) \u001B[38;5;129;01mor\u001B[39;00m (\n\u001B[1;32m   3793\u001B[0m         \u001B[38;5;28misinstance\u001B[39m(casted_key, abc\u001B[38;5;241m.\u001B[39mIterable)\n\u001B[1;32m   3794\u001B[0m         \u001B[38;5;129;01mand\u001B[39;00m \u001B[38;5;28many\u001B[39m(\u001B[38;5;28misinstance\u001B[39m(x, \u001B[38;5;28mslice\u001B[39m) \u001B[38;5;28;01mfor\u001B[39;00m x \u001B[38;5;129;01min\u001B[39;00m casted_key)\n\u001B[1;32m   3795\u001B[0m     ):\n\u001B[1;32m   3796\u001B[0m         \u001B[38;5;28;01mraise\u001B[39;00m InvalidIndexError(key)\n\u001B[0;32m-> 3797\u001B[0m     \u001B[38;5;28;01mraise\u001B[39;00m \u001B[38;5;167;01mKeyError\u001B[39;00m(key) \u001B[38;5;28;01mfrom\u001B[39;00m \u001B[38;5;21;01merr\u001B[39;00m\n\u001B[1;32m   3798\u001B[0m \u001B[38;5;28;01mexcept\u001B[39;00m \u001B[38;5;167;01mTypeError\u001B[39;00m:\n\u001B[1;32m   3799\u001B[0m     \u001B[38;5;66;03m# If we have a listlike key, _check_indexing_error will raise\u001B[39;00m\n\u001B[1;32m   3800\u001B[0m     \u001B[38;5;66;03m#  InvalidIndexError. Otherwise we fall through and re-raise\u001B[39;00m\n\u001B[1;32m   3801\u001B[0m     \u001B[38;5;66;03m#  the TypeError.\u001B[39;00m\n\u001B[1;32m   3802\u001B[0m     \u001B[38;5;28mself\u001B[39m\u001B[38;5;241m.\u001B[39m_check_indexing_error(key)\n",
      "\u001B[0;31mKeyError\u001B[0m: 'time_operation'"
     ]
    }
   ],
   "source": [
    "# Initialize the Results object\n",
    "res_adjusted = Results(\"../data/outputs/03_example_CCTS_N-1_03_CT_infeasible_adjusted_scenarios\")\n",
    "\n",
    "flow = 'opex_yearly'\n",
    "carrier = \"co2_stored\"\n",
    "\n",
    "# Initialize an empty DataFrame to store the combined results\n",
    "combined_df = pd.DataFrame()\n",
    "\n",
    "# Iterate over each scenario\n",
    "for scenario in res_adjusted.scenarios:\n",
    "    # Export the flowdata to CSV for the current scenario\n",
    "    res_adjusted.get_df(flow, scenario=scenario, to_csv=\"flow_adjusted.csv\")\n",
    "    \n",
    "    # Load the exported data\n",
    "    df = pd.read_csv('flow_adjusted.csv')\n",
    "    \n",
    "    # Find unique failure states and time steps\n",
    "    time_steps = df['time_operation'].unique()\n",
    "    \n",
    "    # Filter for carrier\n",
    "    df = df[df['carrier'] == carrier]\n",
    "    \n",
    "    # Initialize a list to store data for the current scenario\n",
    "    scenario_data = []\n",
    "\n",
    "    # Iterate over time_steps\n",
    "    for time_step in time_steps:\n",
    "        # Filter data for the current time_step\n",
    "        df_time_step = df[df['time_operation'] == time_step]\n",
    "        # Sum up the flow where there's no failure\n",
    "        df_no_failure = df_time_step[df_time_step['failure_states'] == \"no_failure_technology: no_failure_location\"][flow].sum()\n",
    "        # difference in flow for carrier fore each failure state minus no failure\n",
    "        flow_difference = (df_time_step[flow].sum() - len(df['failure_states'].unique()) * df_no_failure) * 8.76\n",
    "        total_flow = (df_time_step[flow].sum() - (len(df['failure_states'].unique())-1) * df_no_failure) * 8.76\n",
    "        \n",
    "        # Append the result to the list\n",
    "        scenario_data.append(total_flow)\n",
    "    \n",
    "    # Create a DataFrame from the collected scenario data\n",
    "    table_df = pd.DataFrame({\"year\": time_steps, scenario: scenario_data})\n",
    "    \n",
    "    # Adjust year based on your setup\n",
    "    table_df['year'] = table_df['year'] + 2025\n",
    "    \n",
    "    if combined_df.empty:\n",
    "        combined_df = table_df.set_index('year')\n",
    "    else:\n",
    "        # Merge the new scenario data into the combined DataFrame\n",
    "        combined_df = combined_df.merge(table_df.set_index('year'), left_index=True, right_index=True, how='outer')\n",
    "\n",
    "# After processing all scenarios, `combined_df` now contains all the data\n",
    "print(combined_df)"
   ],
   "metadata": {
    "collapsed": false,
    "ExecuteTime": {
     "end_time": "2024-03-04T15:07:44.120958Z",
     "start_time": "2024-03-04T15:07:43.066387Z"
    }
   },
   "id": "bfe802f7da713b8d"
  },
  {
   "cell_type": "code",
   "execution_count": 32,
   "outputs": [
    {
     "name": "stdout",
     "output_type": "stream",
     "text": [
      "   year    cost_total\n",
      "0     0  0.000000e+00\n",
      "1     1  1.350149e+07\n",
      "2     2  1.350149e+07\n",
      "3     3  2.327387e+07\n",
      "4     4  2.327387e+07\n",
      "   year    cost_total\n",
      "0     0  0.000000e+00\n",
      "1     1  1.350149e+07\n",
      "2     2  1.350149e+07\n",
      "3     3  2.327387e+07\n",
      "4     4  2.327387e+07\n",
      "   year    cost_total\n",
      "0     0  0.000000e+00\n",
      "1     1  1.366887e+07\n",
      "2     2  1.366887e+07\n",
      "3     3  2.357740e+07\n",
      "4     4  2.357740e+07\n",
      "   year    cost_total\n",
      "0     0  0.000000e+00\n",
      "1     1  1.383973e+07\n",
      "2     2  1.383973e+07\n",
      "3     3  2.388373e+07\n",
      "4     4  2.388373e+07\n",
      "   year    cost_total\n",
      "0     0  0.000000e+00\n",
      "1     1  1.401817e+07\n",
      "2     2  1.401817e+07\n",
      "3     3  2.420732e+07\n",
      "4     4  2.420732e+07\n",
      "   year    cost_total\n",
      "0     0  0.000000e+00\n",
      "1     1  1.419661e+07\n",
      "2     2  1.419661e+07\n",
      "3     3  2.453091e+07\n",
      "4     4  2.453091e+07\n",
      "   year    cost_total\n",
      "0     0  0.000000e+00\n",
      "1     1  1.437526e+07\n",
      "2     2  1.437526e+07\n",
      "3     3  2.485487e+07\n",
      "4     4  2.485487e+07\n"
     ]
    }
   ],
   "source": [
    "res_adjusted = Results(\"../data/outputs/03_example_CCTS_N-1_03_CT_infeasible_adjusted_scenarios\")\n",
    "\n",
    "flow = 'cost_total'\n",
    "carrier = \"co2_stored\"\n",
    "\n",
    "# Initialize an empty DataFrame to store the combined results\n",
    "combined_df = pd.DataFrame()\n",
    "\n",
    "# Iterate over each scenario\n",
    "for scenario in res_adjusted.scenarios:\n",
    "    # Export the flowdata to CSV for the current scenario\n",
    "    res_adjusted.get_df(flow, scenario=scenario, to_csv=\"flow_adjusted.csv\")\n",
    "    \n",
    "    # Load the exported data\n",
    "    df = pd.read_csv('flow_adjusted.csv')\n",
    "    \n",
    "    # Find unique failure states and time steps\n",
    "    print(df)"
   ],
   "metadata": {
    "collapsed": false,
    "ExecuteTime": {
     "end_time": "2024-03-04T15:10:07.603589Z",
     "start_time": "2024-03-04T15:10:07.450373Z"
    }
   },
   "id": "696b0fdac7d06695"
  },
  {
   "cell_type": "code",
   "execution_count": 34,
   "outputs": [
    {
     "data": {
      "text/plain": "Empty DataFrame\nColumns: []\nIndex: []",
      "text/html": "<div>\n<style scoped>\n    .dataframe tbody tr th:only-of-type {\n        vertical-align: middle;\n    }\n\n    .dataframe tbody tr th {\n        vertical-align: top;\n    }\n\n    .dataframe thead th {\n        text-align: right;\n    }\n</style>\n<table border=\"1\" class=\"dataframe\">\n  <thead>\n    <tr style=\"text-align: right;\">\n      <th></th>\n    </tr>\n  </thead>\n  <tbody>\n  </tbody>\n</table>\n</div>"
     },
     "execution_count": 34,
     "metadata": {},
     "output_type": "execute_result"
    }
   ],
   "source": [
    "combined_df"
   ],
   "metadata": {
    "collapsed": false,
    "ExecuteTime": {
     "end_time": "2024-03-04T15:11:52.746529Z",
     "start_time": "2024-03-04T15:11:52.721192Z"
    }
   },
   "id": "718b36daf576f9eb"
  },
  {
   "cell_type": "code",
   "execution_count": 139,
   "outputs": [
    {
     "data": {
      "text/plain": "technology         carrier      node              failure_states                              time_operation\ncapture_amine      co2_ambient  swiss_storage_CH  no_failure_technology: no_failure_location  0                 0.0\n                                                                                              1                 0.0\n                                                                                              2                 0.0\n                                                                                              3                 0.0\n                                                                                              4                 0.0\n                                                                                                               ... \npermanent_storage  co2_stored   waste_2_CH        flowline: waste_2_CH-swiss_storage_CH       0                 0.0\n                                                                                              1                 0.0\n                                                                                              2                 0.0\n                                                                                              3                 0.0\n                                                                                              4                 0.0\nName: flow_conversion_output, Length: 975, dtype: float64"
     },
     "execution_count": 139,
     "metadata": {},
     "output_type": "execute_result"
    }
   ],
   "source": [
    "res_adjusted.get_df('flow_conversion_output', scenario=scenario\n",
    "                    )\n"
   ],
   "metadata": {
    "collapsed": false,
    "ExecuteTime": {
     "end_time": "2024-03-04T11:00:16.192525Z",
     "start_time": "2024-03-04T11:00:16.118402Z"
    }
   },
   "id": "a825c4155ecfccef"
  }
 ],
 "metadata": {
  "kernelspec": {
   "display_name": "Python 3",
   "language": "python",
   "name": "python3"
  },
  "language_info": {
   "codemirror_mode": {
    "name": "ipython",
    "version": 2
   },
   "file_extension": ".py",
   "mimetype": "text/x-python",
   "name": "python",
   "nbconvert_exporter": "python",
   "pygments_lexer": "ipython2",
   "version": "2.7.6"
  }
 },
 "nbformat": 4,
 "nbformat_minor": 5
}
