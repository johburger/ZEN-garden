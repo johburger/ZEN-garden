{
 "cells": [
  {
   "cell_type": "code",
   "execution_count": 2,
   "id": "initial_id",
   "metadata": {
    "collapsed": true,
    "ExecuteTime": {
     "end_time": "2024-03-25T19:18:54.769722Z",
     "start_time": "2024-03-25T19:18:52.998187Z"
    }
   },
   "outputs": [],
   "source": [
    "%load_ext autoreload\n",
    "%autoreload 2\n",
    "%matplotlib inline\n",
    "\n",
    "# import\n",
    "import pandas as pd\n",
    "from pprint import pprint\n",
    "from zen_garden.postprocess.results import Results\n",
    "from pathlib import Path\n",
    "from os import chdir\n",
    "\n",
    "# set path\n",
    "path = Path('/Users/davidbertschinger/Documents/GitHub/ZEN-garden/notebooks')\n",
    "chdir(path)"
   ]
  },
  {
   "cell_type": "code",
   "execution_count": 3,
   "outputs": [],
   "source": [
    "opt = Results('../data/outputs/05_CCTS_WTE_small_01_cost_optimal')\n",
    "n1= Results('../data/outputs/05_CCTS_WTE_small_02_n1')\n",
    "expected_not_stored = Results('../data/outputs/05_CCTS_WTE_small_03_n1_expected_carbon_not_stored')\n",
    "n1_adjusted = Results('../data/outputs/05_CCTS_WTE_small_04_n1_adjusted')\n",
    "\n",
    "list = [opt, n1, expected_not_stored, n1_adjusted]"
   ],
   "metadata": {
    "collapsed": false,
    "ExecuteTime": {
     "end_time": "2024-03-25T19:18:55.031841Z",
     "start_time": "2024-03-25T19:18:54.768327Z"
    }
   },
   "id": "c77fd62cb57951e3"
  },
  {
   "cell_type": "code",
   "execution_count": 29,
   "outputs": [],
   "source": [
    "import pandas as pd\n",
    "\n",
    "# List of technologies to keep\n",
    "tech_filter = ['truck_batch', 'train_batch', 'flowline']\n",
    "\n",
    "# Initialize an empty DataFrame\n",
    "df = pd.DataFrame()\n",
    "\n",
    "for i, scenario in enumerate(list):  # Assuming 'list' is your list of scenarios\n",
    "    # Assuming scenario.get_df() saves a CSV file named 'capacity.csv'\n",
    "    scenario.get_df(\"capacity\", to_csv=\"capacity.csv\")\n",
    "    \n",
    "    # Load the CSV file and filter by technology\n",
    "    capacity = pd.read_csv('capacity.csv')\n",
    "    capacity = capacity[capacity['technology'].isin(tech_filter)]\n",
    "    \n",
    "    # If it's the first scenario, set the 'node' and 'technology' columns\n",
    "    if i == 0:\n",
    "        df['edges'] = capacity['location']\n",
    "        df['technology'] = capacity['technology']\n",
    "        \n",
    "    # Add the capacity values as a new column, named for the scenario\n",
    "    df[f'scenario_{scenario.name}'] = capacity['capacity'].values  # Using .values to avoid index mismatch\n",
    "\n",
    "# Remove rows where all capacity values across scenarios are 0\n",
    "df = df.loc[~(df.filter(like='scenario').eq(0).all(axis=1))]\n",
    "\n",
    "# Save the DataFrame to a CSV file\n",
    "df.to_csv('tables/aggregated_capacity.csv', index=False)\n"
   ],
   "metadata": {
    "collapsed": false,
    "ExecuteTime": {
     "end_time": "2024-03-26T18:56:13.297064Z",
     "start_time": "2024-03-26T18:56:13.209345Z"
    }
   },
   "id": "be26bb006bc693d6"
  },
  {
   "cell_type": "code",
   "execution_count": 30,
   "outputs": [],
   "source": [
    "import pandas as pd\n",
    "\n",
    "# List of technologies to keep\n",
    "tech_filter = ['truck_batch', 'train_batch', 'flowline']\n",
    "\n",
    "# Initialize an empty DataFrame\n",
    "df = pd.DataFrame()\n",
    "\n",
    "for i, scenario in enumerate(list):  # Assuming 'list' is your list of scenarios\n",
    "    # Assuming scenario.get_df() saves a CSV file named 'capacity.csv'\n",
    "    scenario.get_df(\"capacity\", to_csv=\"capacity.csv\")\n",
    "    \n",
    "    # Load the CSV file and filter by technology\n",
    "    capacity = pd.read_csv('capacity.csv')\n",
    "    capacity = capacity[capacity['technology'].isin(tech_filter)]\n",
    "    \n",
    "    # If it's the first scenario, set the 'node' and 'technology' columns\n",
    "    if i == 0:\n",
    "        df['edge'] = capacity['location']\n",
    "        df['technology'] = capacity['technology']\n",
    "        \n",
    "    # Add the capacity values as a new column, named for the scenario\n",
    "    df[f'scenario_{i+1}'] = capacity['capacity'].values  # Using .values to avoid index mismatch\n",
    "\n",
    "# Remove rows where all capacity values across scenarios are 0\n",
    "df = df.loc[~(df.filter(like='scenario').eq(0).all(axis=1))]\n",
    "\n",
    "# Calculate the difference to scenario 1 for subsequent scenarios\n",
    "for scenario_col in df.columns[3:]:  # Start from 3rd column as first two are 'node' and 'technology'\n",
    "    df[scenario_col] = df[scenario_col] - df['scenario_1']\n",
    "\n",
    "# Save the DataFrame to a CSV file\n",
    "df.to_csv('tables/aggregated_capacity_difference.csv', index=False)\n"
   ],
   "metadata": {
    "collapsed": false,
    "ExecuteTime": {
     "end_time": "2024-03-26T18:56:56.662096Z",
     "start_time": "2024-03-26T18:56:56.540929Z"
    }
   },
   "id": "f7e685e8b2266d62"
  }
 ],
 "metadata": {
  "kernelspec": {
   "display_name": "Python 3",
   "language": "python",
   "name": "python3"
  },
  "language_info": {
   "codemirror_mode": {
    "name": "ipython",
    "version": 2
   },
   "file_extension": ".py",
   "mimetype": "text/x-python",
   "name": "python",
   "nbconvert_exporter": "python",
   "pygments_lexer": "ipython2",
   "version": "2.7.6"
  }
 },
 "nbformat": 4,
 "nbformat_minor": 5
}
