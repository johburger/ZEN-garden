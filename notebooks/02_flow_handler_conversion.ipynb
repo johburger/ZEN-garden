{
 "cells": [
  {
   "cell_type": "code",
   "execution_count": 1,
   "id": "initial_id",
   "metadata": {
    "collapsed": true,
    "ExecuteTime": {
     "end_time": "2024-02-05T17:10:27.467082Z",
     "start_time": "2024-02-05T17:10:27.169498Z"
    }
   },
   "outputs": [],
   "source": [
    "import pandas as pd\n",
    "%load_ext autoreload\n",
    "%autoreload 2"
   ]
  },
  {
   "cell_type": "code",
   "execution_count": 2,
   "outputs": [],
   "source": [
    "%matplotlib inline\n",
    "\n",
    "from pprint import pprint\n",
    "from zen_garden.postprocess.results import Results\n",
    "\n",
    "from pathlib import Path\n",
    "from os import chdir"
   ],
   "metadata": {
    "collapsed": false,
    "ExecuteTime": {
     "end_time": "2024-02-05T17:10:28.369562Z",
     "start_time": "2024-02-05T17:10:27.468241Z"
    }
   },
   "id": "780397ba889ec419"
  },
  {
   "cell_type": "code",
   "execution_count": 3,
   "outputs": [],
   "source": [
    "# set path\n",
    "path = Path('/Users/davidbertschinger/Documents/GitHub/ZEN-garden/notebooks')\n",
    "chdir(path)"
   ],
   "metadata": {
    "collapsed": false,
    "ExecuteTime": {
     "end_time": "2024-02-05T17:10:28.384739Z",
     "start_time": "2024-02-05T17:10:28.369198Z"
    }
   },
   "id": "1993ef780d414ee9"
  },
  {
   "cell_type": "code",
   "execution_count": 4,
   "outputs": [],
   "source": [
    "# cost optimal solution\n",
    "res_basic = Results(\"../data/outputs/03_example_CCTS\")"
   ],
   "metadata": {
    "collapsed": false,
    "ExecuteTime": {
     "end_time": "2024-02-05T17:10:28.511860Z",
     "start_time": "2024-02-05T17:10:28.384859Z"
    }
   },
   "id": "fde41797d10bccf6"
  },
  {
   "cell_type": "code",
   "execution_count": 5,
   "outputs": [
    {
     "name": "stderr",
     "output_type": "stream",
     "text": [
      "/Users/davidbertschinger/Applications/PyCharm Professional Edition.app/Contents/plugins/python/helpers/pydev/pydevd_plugins/__init__.py:2: DeprecationWarning: Deprecated call to `pkg_resources.declare_namespace('pydevd_plugins')`.\n",
      "Implementing implicit namespace packages (as specified in PEP 420) is preferred to `pkg_resources.declare_namespace`. See https://setuptools.pypa.io/en/latest/references/keywords.html#keyword-namespace-packages\n",
      "  __import__('pkg_resources').declare_namespace(__name__)\n",
      "\n",
      "/Users/davidbertschinger/Applications/PyCharm Professional Edition.app/Contents/plugins/python/helpers/pydev/pydevd_plugins/extensions/__init__.py:2: DeprecationWarning: Deprecated call to `pkg_resources.declare_namespace('pydevd_plugins.extensions')`.\n",
      "Implementing implicit namespace packages (as specified in PEP 420) is preferred to `pkg_resources.declare_namespace`. See https://setuptools.pypa.io/en/latest/references/keywords.html#keyword-namespace-packages\n",
      "  __import__('pkg_resources').declare_namespace(__name__)\n",
      "\n",
      "/Users/davidbertschinger/Applications/PyCharm Professional Edition.app/Contents/plugins/python/helpers/pydev/pydevd_plugins/extensions/types/__init__.py:2: DeprecationWarning: Deprecated call to `pkg_resources.declare_namespace('pydevd_plugins.extensions.types')`.\n",
      "Implementing implicit namespace packages (as specified in PEP 420) is preferred to `pkg_resources.declare_namespace`. See https://setuptools.pypa.io/en/latest/references/keywords.html#keyword-namespace-packages\n",
      "  __import__('pkg_resources').declare_namespace(__name__)\n",
      "\n"
     ]
    },
    {
     "name": "stdout",
     "output_type": "stream",
     "text": [
      "{'dataset': '/Users/davidbertschinger/Documents/GitHub/ZEN-garden/data/03_example_CCTS',\n",
      " 'earliest_year_of_data': 1900,\n",
      " 'folder_output': '/Users/davidbertschinger/Documents/GitHub/ZEN-garden/data/outputs',\n",
      " 'header_data_inputs': {'set_capacity_types': 'capacity_type',\n",
      "                        'set_carriers': 'carrier',\n",
      "                        'set_conversion_technologies': 'technology',\n",
      "                        'set_dependent_carriers': 'carrier',\n",
      "                        'set_edges': 'edge',\n",
      "                        'set_elements': 'element',\n",
      "                        'set_failure_states': 'failure_states',\n",
      "                        'set_input_carriers': 'carrier',\n",
      "                        'set_lca_impact_categories': 'impact_category',\n",
      "                        'set_location': 'location',\n",
      "                        'set_nodes': 'node',\n",
      "                        'set_output_carriers': 'carrier',\n",
      "                        'set_retrofitting_technologies': 'technology',\n",
      "                        'set_storage_technologies': 'technology',\n",
      "                        'set_super_edges': 'super_edge',\n",
      "                        'set_super_nodes': 'super_node',\n",
      "                        'set_technologies': 'technology',\n",
      "                        'set_technologies_existing': 'technology_existing',\n",
      "                        'set_time_steps': 'time',\n",
      "                        'set_time_steps_operation': 'time_operation',\n",
      "                        'set_time_steps_storage': 'time_storage_level',\n",
      "                        'set_time_steps_storage_level': 'time_storage_level',\n",
      "                        'set_time_steps_yearly': 'year',\n",
      "                        'set_time_steps_yearly_entire_horizon': 'year_entire_horizon',\n",
      "                        'set_transport_technologies': 'technology'},\n",
      " 'max_output_size_mb': 500,\n",
      " 'objective': 'total_cost',\n",
      " 'output_format': 'h5',\n",
      " 'overwrite_output': True,\n",
      " 'postprocess': False,\n",
      " 'sense': 'minimize',\n",
      " 'subsets': {'set_carriers': [],\n",
      "             'set_technologies': {'set_conversion_technologies': ['set_retrofitting_technologies'],\n",
      "                                  'set_storage_technologies': [],\n",
      "                                  'set_transport_technologies': []}},\n",
      " 'time_series_aggregation': {'clusterMethod': 'k_means',\n",
      "                             'extremePeriodMethod': 'None',\n",
      "                             'hoursPerPeriod': 1,\n",
      "                             'noSegments': 12,\n",
      "                             'representationMethod': 'meanRepresentation',\n",
      "                             'rescaleClusterPeriods': False,\n",
      "                             'resolution': 1,\n",
      "                             'segmentation': False,\n",
      "                             'solver': 'gurobi'},\n",
      " 'transport_distance': 'Euclidean',\n",
      " 'use_capacities_existing': True,\n",
      " 'write_results_yml': False}\n"
     ]
    }
   ],
   "source": [
    "# show the deafult analysis settings\n",
    "pprint(res_basic.results[None][\"analysis\"])"
   ],
   "metadata": {
    "collapsed": false,
    "ExecuteTime": {
     "end_time": "2024-02-05T17:10:29.407874Z",
     "start_time": "2024-02-05T17:10:28.799272Z"
    }
   },
   "id": "b1d9eb78fb003e8a"
  },
  {
   "cell_type": "code",
   "execution_count": 6,
   "outputs": [
    {
     "data": {
      "text/plain": "technology         carrier           node              time_operation\ncapture_amine      flue_gas          swiss_storage_CH  0                 0.0\n                                                       1                 0.0\n                                                       2                 0.0\n                                                       3                 0.0\n                                                       4                 0.0\n                                                                        ... \npermanent_storage  co2_liquid_16bar  waste_2_CH        0                 0.0\n                                                       1                 0.0\n                                                       2                 0.0\n                                                       3                 0.0\n                                                       4                 0.0\nName: flow_conversion_input, Length: 255, dtype: float64"
     },
     "execution_count": 6,
     "metadata": {},
     "output_type": "execute_result"
    }
   ],
   "source": [
    "res_basic.get_df(\"flow_conversion_input\")"
   ],
   "metadata": {
    "collapsed": false,
    "ExecuteTime": {
     "end_time": "2024-02-05T17:10:29.717141Z",
     "start_time": "2024-02-05T17:10:29.687465Z"
    }
   },
   "id": "11ce22af533bbde9"
  },
  {
   "cell_type": "code",
   "execution_count": 7,
   "outputs": [
    {
     "data": {
      "text/plain": "technology         carrier           node              time_operation\ncapture_amine      flue_gas          swiss_storage_CH  0                 0.0\n                                                       1                 0.0\n                                                       2                 0.0\n                                                       3                 0.0\n                                                       4                 0.0\n                                                                        ... \npermanent_storage  co2_liquid_16bar  waste_2_CH        0                 0.0\n                                                       1                 0.0\n                                                       2                 0.0\n                                                       3                 0.0\n                                                       4                 0.0\nName: flow_conversion_input, Length: 255, dtype: float64"
     },
     "execution_count": 7,
     "metadata": {},
     "output_type": "execute_result"
    }
   ],
   "source": [
    "# get flow transport and save as csv\n",
    "res_basic.get_df('flow_conversion_input', to_csv=\"flow_conversion_input\")"
   ],
   "metadata": {
    "collapsed": false,
    "ExecuteTime": {
     "end_time": "2024-02-05T17:10:30.401375Z",
     "start_time": "2024-02-05T17:10:30.356853Z"
    }
   },
   "id": "fc5db256355e390e"
  },
  {
   "cell_type": "code",
   "execution_count": 8,
   "outputs": [],
   "source": [
    "# get flow transport csv\n",
    "df = pd.read_csv('flow_conversion_input.csv')"
   ],
   "metadata": {
    "collapsed": false,
    "ExecuteTime": {
     "end_time": "2024-02-05T17:10:31.779050Z",
     "start_time": "2024-02-05T17:10:31.743196Z"
    }
   },
   "id": "c5b46bb8b4725cdb"
  },
  {
   "cell_type": "code",
   "execution_count": 9,
   "outputs": [
    {
     "data": {
      "text/plain": "            technology           carrier              node  time_operation  \\\n0        capture_amine          flue_gas  swiss_storage_CH               0   \n1        capture_amine          flue_gas  swiss_storage_CH               1   \n2        capture_amine          flue_gas  swiss_storage_CH               2   \n3        capture_amine          flue_gas  swiss_storage_CH               3   \n4        capture_amine          flue_gas  swiss_storage_CH               4   \n..                 ...               ...               ...             ...   \n250  permanent_storage  co2_liquid_16bar        waste_2_CH               0   \n251  permanent_storage  co2_liquid_16bar        waste_2_CH               1   \n252  permanent_storage  co2_liquid_16bar        waste_2_CH               2   \n253  permanent_storage  co2_liquid_16bar        waste_2_CH               3   \n254  permanent_storage  co2_liquid_16bar        waste_2_CH               4   \n\n     flow_conversion_input  \n0                      0.0  \n1                      0.0  \n2                      0.0  \n3                      0.0  \n4                      0.0  \n..                     ...  \n250                    0.0  \n251                    0.0  \n252                    0.0  \n253                    0.0  \n254                    0.0  \n\n[255 rows x 5 columns]",
      "text/html": "<div>\n<style scoped>\n    .dataframe tbody tr th:only-of-type {\n        vertical-align: middle;\n    }\n\n    .dataframe tbody tr th {\n        vertical-align: top;\n    }\n\n    .dataframe thead th {\n        text-align: right;\n    }\n</style>\n<table border=\"1\" class=\"dataframe\">\n  <thead>\n    <tr style=\"text-align: right;\">\n      <th></th>\n      <th>technology</th>\n      <th>carrier</th>\n      <th>node</th>\n      <th>time_operation</th>\n      <th>flow_conversion_input</th>\n    </tr>\n  </thead>\n  <tbody>\n    <tr>\n      <th>0</th>\n      <td>capture_amine</td>\n      <td>flue_gas</td>\n      <td>swiss_storage_CH</td>\n      <td>0</td>\n      <td>0.0</td>\n    </tr>\n    <tr>\n      <th>1</th>\n      <td>capture_amine</td>\n      <td>flue_gas</td>\n      <td>swiss_storage_CH</td>\n      <td>1</td>\n      <td>0.0</td>\n    </tr>\n    <tr>\n      <th>2</th>\n      <td>capture_amine</td>\n      <td>flue_gas</td>\n      <td>swiss_storage_CH</td>\n      <td>2</td>\n      <td>0.0</td>\n    </tr>\n    <tr>\n      <th>3</th>\n      <td>capture_amine</td>\n      <td>flue_gas</td>\n      <td>swiss_storage_CH</td>\n      <td>3</td>\n      <td>0.0</td>\n    </tr>\n    <tr>\n      <th>4</th>\n      <td>capture_amine</td>\n      <td>flue_gas</td>\n      <td>swiss_storage_CH</td>\n      <td>4</td>\n      <td>0.0</td>\n    </tr>\n    <tr>\n      <th>...</th>\n      <td>...</td>\n      <td>...</td>\n      <td>...</td>\n      <td>...</td>\n      <td>...</td>\n    </tr>\n    <tr>\n      <th>250</th>\n      <td>permanent_storage</td>\n      <td>co2_liquid_16bar</td>\n      <td>waste_2_CH</td>\n      <td>0</td>\n      <td>0.0</td>\n    </tr>\n    <tr>\n      <th>251</th>\n      <td>permanent_storage</td>\n      <td>co2_liquid_16bar</td>\n      <td>waste_2_CH</td>\n      <td>1</td>\n      <td>0.0</td>\n    </tr>\n    <tr>\n      <th>252</th>\n      <td>permanent_storage</td>\n      <td>co2_liquid_16bar</td>\n      <td>waste_2_CH</td>\n      <td>2</td>\n      <td>0.0</td>\n    </tr>\n    <tr>\n      <th>253</th>\n      <td>permanent_storage</td>\n      <td>co2_liquid_16bar</td>\n      <td>waste_2_CH</td>\n      <td>3</td>\n      <td>0.0</td>\n    </tr>\n    <tr>\n      <th>254</th>\n      <td>permanent_storage</td>\n      <td>co2_liquid_16bar</td>\n      <td>waste_2_CH</td>\n      <td>4</td>\n      <td>0.0</td>\n    </tr>\n  </tbody>\n</table>\n<p>255 rows × 5 columns</p>\n</div>"
     },
     "execution_count": 9,
     "metadata": {},
     "output_type": "execute_result"
    }
   ],
   "source": [
    "df"
   ],
   "metadata": {
    "collapsed": false,
    "ExecuteTime": {
     "end_time": "2024-02-05T17:10:33.175939Z",
     "start_time": "2024-02-05T17:10:33.149678Z"
    }
   },
   "id": "6c8296a56be45c1a"
  },
  {
   "cell_type": "code",
   "execution_count": 10,
   "outputs": [
    {
     "data": {
      "text/plain": "array(['capture_amine', 'compression_16_110bar', 'condition_110bar',\n       'condition_16bar', 'decompression_110_16bar',\n       'decompression_110bar_ambient', 'emergency_storage', 'emitter_wte',\n       'heat_pump', 'permanent_storage'], dtype=object)"
     },
     "execution_count": 10,
     "metadata": {},
     "output_type": "execute_result"
    }
   ],
   "source": [
    "# find unique technologies\n",
    "technology = df['technology'].unique()\n",
    "technology"
   ],
   "metadata": {
    "collapsed": false,
    "ExecuteTime": {
     "end_time": "2024-02-05T17:10:34.133366Z",
     "start_time": "2024-02-05T17:10:34.098958Z"
    }
   },
   "id": "d3fca5d70659439c"
  },
  {
   "cell_type": "code",
   "execution_count": 11,
   "outputs": [],
   "source": [
    "# create nominal flow transport files\n",
    "\n",
    "for i in range(len(technology)):\n",
    "     \n",
    "    #Get table of one technology \n",
    "    tec = technology[i]\n",
    "    x = df[df['technology'] == tec]\n",
    "    \n",
    "    #Set path\n",
    "    parent_path = Path('/Users/davidbertschinger/Documents/GitHub/ZEN-garden/data/03_example_CCTS_N-1_01_T')\n",
    "    path = [file for file in Path(parent_path).rglob(tec)]\n",
    "    path = path[0]\n",
    "    filepath = Path(str(path)+'/nominal_flow_conversion_input.csv')\n",
    "    \n",
    "    #Clean up table\n",
    "    x = x.drop(columns='technology')\n",
    "    x = x[x['flow_conversion_input'] != 0]\n",
    "    x = x.rename(columns={'time_operation': 'year'})\n",
    "    x['year'] = x['year'] + 2025\n",
    "    \n",
    "    # Pivot the DataFrame\n",
    "    x = x.pivot(index=['node', 'year'], columns='carrier', values='flow_conversion_input').reset_index()\n",
    "    x.columns.name = None  # Remove the 'carrier' label on columns\n",
    "    \n",
    "    #clean up table, differentiate between node and edge\n",
    "    if path.parent.name == 'set_transport_technologies':\n",
    "        x = x.rename(columns={'location': 'edge'})\n",
    "\n",
    "    else:\n",
    "        x = x.rename(columns={'location': 'node'})\n",
    "\n",
    "    #Safe\n",
    "    x.to_csv(filepath, index=False)"
   ],
   "metadata": {
    "collapsed": false,
    "ExecuteTime": {
     "end_time": "2024-02-05T17:10:40.182317Z",
     "start_time": "2024-02-05T17:10:40.106824Z"
    }
   },
   "id": "74d03fb0b90ce096"
  },
  {
   "cell_type": "code",
   "execution_count": 25,
   "outputs": [],
   "source": [
    "for i in range(len(technology)):\n",
    "     \n",
    "    #Get table of one technology \n",
    "    tec = technology[i]\n",
    "    x = df[df['technology'] == tec]\n",
    "    \n",
    "    #Set path\n",
    "    parent_path = Path('/Users/davidbertschinger/Documents/GitHub/ZEN-garden/data/03_example_CCTS_N-1_addition_0')\n",
    "    path = [file for file in Path(parent_path).rglob(tec)]\n",
    "    path = path[0]\n",
    "    filepath = Path(str(path)+'/nominal_flow_conversion_input.csv')\n",
    "    \n",
    "    #Clean up table\n",
    "    x = x.drop(columns='technology')\n",
    "    x = x[x['flow_conversion_input'] != 0]\n",
    "    x = x.rename(columns={'time_operation': 'year'})\n",
    "    x['year'] = x['year'] + 2025\n",
    "    x"
   ],
   "metadata": {
    "collapsed": false,
    "ExecuteTime": {
     "end_time": "2024-01-30T09:16:07.099212Z",
     "start_time": "2024-01-30T09:16:07.015588Z"
    }
   },
   "id": "e59a8908a5871c54"
  },
  {
   "cell_type": "code",
   "execution_count": 29,
   "outputs": [
    {
     "name": "stdout",
     "output_type": "stream",
     "text": [
      "               node  year  co2_liquid_16bar  electricity\n",
      "0  swiss_storage_CH  2026         17.567023     0.594307\n",
      "1  swiss_storage_CH  2027         17.567023     0.594307\n",
      "2  swiss_storage_CH  2028         30.095759     1.018164\n",
      "3  swiss_storage_CH  2029         30.095759     1.018164\n"
     ]
    }
   ],
   "source": [
    "x\n",
    "# Pivot the DataFrame\n",
    "x_pivoted = x.pivot(index=['node', 'year'], columns='carrier', values='flow_conversion_input').reset_index()\n",
    "x_pivoted.columns.name = None  # Remove the 'carrier' label on columns\n",
    "print(x_pivoted)\n"
   ],
   "metadata": {
    "collapsed": false,
    "ExecuteTime": {
     "end_time": "2024-01-30T10:07:15.362527Z",
     "start_time": "2024-01-30T10:07:15.307381Z"
    }
   },
   "id": "d635a36ab03b23fb"
  },
  {
   "cell_type": "code",
   "execution_count": null,
   "outputs": [],
   "source": [],
   "metadata": {
    "collapsed": false
   },
   "id": "cf1bf3b388d2bb41"
  }
 ],
 "metadata": {
  "kernelspec": {
   "display_name": "Python 3",
   "language": "python",
   "name": "python3"
  },
  "language_info": {
   "codemirror_mode": {
    "name": "ipython",
    "version": 2
   },
   "file_extension": ".py",
   "mimetype": "text/x-python",
   "name": "python",
   "nbconvert_exporter": "python",
   "pygments_lexer": "ipython2",
   "version": "2.7.6"
  }
 },
 "nbformat": 4,
 "nbformat_minor": 5
}
