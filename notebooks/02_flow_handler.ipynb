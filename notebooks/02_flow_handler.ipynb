{
 "cells": [
  {
   "cell_type": "code",
   "execution_count": 1,
   "id": "initial_id",
   "metadata": {
    "collapsed": true,
    "ExecuteTime": {
     "end_time": "2024-01-22T14:42:53.171011Z",
     "start_time": "2024-01-22T14:42:52.870478Z"
    }
   },
   "outputs": [],
   "source": [
    "import pandas as pd\n",
    "%load_ext autoreload\n",
    "%autoreload 2"
   ]
  },
  {
   "cell_type": "code",
   "execution_count": 2,
   "outputs": [],
   "source": [
    "%matplotlib inline\n",
    "\n",
    "from pprint import pprint\n",
    "from zen_garden.postprocess.results import Results\n",
    "\n",
    "from pathlib import Path\n",
    "from os import chdir"
   ],
   "metadata": {
    "collapsed": false,
    "ExecuteTime": {
     "end_time": "2024-01-22T14:42:54.119627Z",
     "start_time": "2024-01-22T14:42:53.171729Z"
    }
   },
   "id": "780397ba889ec419"
  },
  {
   "cell_type": "code",
   "execution_count": 3,
   "outputs": [],
   "source": [
    "# set path\n",
    "path = Path('/Users/davidbertschinger/Documents/GitHub/ZEN-garden/notebooks')\n",
    "chdir(path)"
   ],
   "metadata": {
    "collapsed": false,
    "ExecuteTime": {
     "end_time": "2024-01-22T14:42:54.133990Z",
     "start_time": "2024-01-22T14:42:54.120027Z"
    }
   },
   "id": "1993ef780d414ee9"
  },
  {
   "cell_type": "code",
   "execution_count": 4,
   "outputs": [
    {
     "name": "stderr",
     "output_type": "stream",
     "text": [
      "/Users/davidbertschinger/Applications/PyCharm Professional Edition.app/Contents/plugins/python/helpers/pydev/pydevd_plugins/__init__.py:2: DeprecationWarning: Deprecated call to `pkg_resources.declare_namespace('pydevd_plugins')`.\n",
      "Implementing implicit namespace packages (as specified in PEP 420) is preferred to `pkg_resources.declare_namespace`. See https://setuptools.pypa.io/en/latest/references/keywords.html#keyword-namespace-packages\n",
      "  __import__('pkg_resources').declare_namespace(__name__)\n",
      "\n",
      "/Users/davidbertschinger/Applications/PyCharm Professional Edition.app/Contents/plugins/python/helpers/pydev/pydevd_plugins/extensions/__init__.py:2: DeprecationWarning: Deprecated call to `pkg_resources.declare_namespace('pydevd_plugins.extensions')`.\n",
      "Implementing implicit namespace packages (as specified in PEP 420) is preferred to `pkg_resources.declare_namespace`. See https://setuptools.pypa.io/en/latest/references/keywords.html#keyword-namespace-packages\n",
      "  __import__('pkg_resources').declare_namespace(__name__)\n",
      "\n",
      "/Users/davidbertschinger/Applications/PyCharm Professional Edition.app/Contents/plugins/python/helpers/pydev/pydevd_plugins/extensions/types/__init__.py:2: DeprecationWarning: Deprecated call to `pkg_resources.declare_namespace('pydevd_plugins.extensions.types')`.\n",
      "Implementing implicit namespace packages (as specified in PEP 420) is preferred to `pkg_resources.declare_namespace`. See https://setuptools.pypa.io/en/latest/references/keywords.html#keyword-namespace-packages\n",
      "  __import__('pkg_resources').declare_namespace(__name__)\n",
      "\n"
     ]
    }
   ],
   "source": [
    "# cost optimal solution\n",
    "res_basic = Results(\"../data/outputs/03_example_CCTS\")"
   ],
   "metadata": {
    "collapsed": false,
    "ExecuteTime": {
     "end_time": "2024-01-22T14:43:02.961841Z",
     "start_time": "2024-01-22T14:43:02.322146Z"
    }
   },
   "id": "fde41797d10bccf6"
  },
  {
   "cell_type": "code",
   "execution_count": 5,
   "outputs": [
    {
     "name": "stdout",
     "output_type": "stream",
     "text": [
      "{'dataset': '/Users/davidbertschinger/Documents/GitHub/ZEN-garden/data/03_example_CCTS',\n",
      " 'earliest_year_of_data': 1900,\n",
      " 'folder_output': '/Users/davidbertschinger/Documents/GitHub/ZEN-garden/data/outputs',\n",
      " 'header_data_inputs': {'set_capacity_types': 'capacity_type',\n",
      "                        'set_carriers': 'carrier',\n",
      "                        'set_conversion_technologies': 'technology',\n",
      "                        'set_dependent_carriers': 'carrier',\n",
      "                        'set_edges': 'edge',\n",
      "                        'set_elements': 'element',\n",
      "                        'set_failure_states': 'failure_states',\n",
      "                        'set_input_carriers': 'carrier',\n",
      "                        'set_lca_impact_categories': 'impact_category',\n",
      "                        'set_location': 'location',\n",
      "                        'set_nodes': 'node',\n",
      "                        'set_output_carriers': 'carrier',\n",
      "                        'set_retrofitting_technologies': 'technology',\n",
      "                        'set_storage_technologies': 'technology',\n",
      "                        'set_super_edges': 'super_edge',\n",
      "                        'set_super_nodes': 'super_node',\n",
      "                        'set_technologies': 'technology',\n",
      "                        'set_technologies_existing': 'technology_existing',\n",
      "                        'set_time_steps': 'time',\n",
      "                        'set_time_steps_operation': 'time_operation',\n",
      "                        'set_time_steps_storage': 'time_storage_level',\n",
      "                        'set_time_steps_storage_level': 'time_storage_level',\n",
      "                        'set_time_steps_yearly': 'year',\n",
      "                        'set_time_steps_yearly_entire_horizon': 'year_entire_horizon',\n",
      "                        'set_transport_technologies': 'technology'},\n",
      " 'max_output_size_mb': 500,\n",
      " 'objective': 'total_cost',\n",
      " 'output_format': 'h5',\n",
      " 'overwrite_output': True,\n",
      " 'postprocess': False,\n",
      " 'sense': 'minimize',\n",
      " 'subsets': {'set_carriers': [],\n",
      "             'set_technologies': {'set_conversion_technologies': ['set_retrofitting_technologies'],\n",
      "                                  'set_storage_technologies': [],\n",
      "                                  'set_transport_technologies': []}},\n",
      " 'time_series_aggregation': {'clusterMethod': 'k_means',\n",
      "                             'extremePeriodMethod': 'None',\n",
      "                             'hoursPerPeriod': 1,\n",
      "                             'noSegments': 12,\n",
      "                             'representationMethod': 'meanRepresentation',\n",
      "                             'rescaleClusterPeriods': False,\n",
      "                             'resolution': 1,\n",
      "                             'segmentation': False,\n",
      "                             'solver': 'gurobi'},\n",
      " 'transport_distance': 'Euclidean',\n",
      " 'use_capacities_existing': True,\n",
      " 'write_results_yml': False}\n"
     ]
    }
   ],
   "source": [
    "# show the deafult analysis settings\n",
    "pprint(res_basic.results[None][\"analysis\"])"
   ],
   "metadata": {
    "collapsed": false,
    "ExecuteTime": {
     "end_time": "2024-01-22T14:43:04.474723Z",
     "start_time": "2024-01-22T14:43:04.450633Z"
    }
   },
   "id": "b1d9eb78fb003e8a"
  },
  {
   "cell_type": "code",
   "execution_count": 6,
   "outputs": [
    {
     "data": {
      "text/plain": "technology   edge                         time_operation\ntruck_batch  waste_1_CH-swiss_storage_CH  0                  0.000000\n                                          1                 10.227416\n                                          2                 10.227416\n                                          3                 10.227416\n                                          4                 10.227416\n             waste_2_CH-swiss_storage_CH  0                  0.000000\n                                          1                  7.635671\n                                          2                  7.635671\n                                          3                 19.807119\n                                          4                 19.807119\n             waste_1_CH-waste_2_CH        0                  0.000000\n                                          1                  0.000000\n                                          2                  0.000000\n                                          3                  0.000000\n                                          4                  0.000000\n             waste_2_CH-waste_1_CH        0                  0.000000\n                                          1                  0.000000\n                                          2                  0.000000\n                                          3                  0.000000\n                                          4                  0.000000\nName: flow_transport, dtype: float64"
     },
     "execution_count": 6,
     "metadata": {},
     "output_type": "execute_result"
    }
   ],
   "source": [
    "# get flow transport and save as csv\n",
    "res_basic.get_df('flow_transport', to_csv=\"flow_transport\")"
   ],
   "metadata": {
    "collapsed": false,
    "ExecuteTime": {
     "end_time": "2024-01-22T14:43:08.181777Z",
     "start_time": "2024-01-22T14:43:08.139592Z"
    }
   },
   "id": "fc5db256355e390e"
  },
  {
   "cell_type": "code",
   "execution_count": 7,
   "outputs": [],
   "source": [
    "# get flow transport csv\n",
    "df = pd.read_csv('flow_transport.csv')"
   ],
   "metadata": {
    "collapsed": false,
    "ExecuteTime": {
     "end_time": "2024-01-22T14:43:13.435300Z",
     "start_time": "2024-01-22T14:43:13.392543Z"
    }
   },
   "id": "c5b46bb8b4725cdb"
  },
  {
   "cell_type": "code",
   "execution_count": 8,
   "outputs": [
    {
     "data": {
      "text/plain": "     technology                         edge  time_operation  flow_transport\n0   truck_batch  waste_1_CH-swiss_storage_CH               0        0.000000\n1   truck_batch  waste_1_CH-swiss_storage_CH               1       10.227416\n2   truck_batch  waste_1_CH-swiss_storage_CH               2       10.227416\n3   truck_batch  waste_1_CH-swiss_storage_CH               3       10.227416\n4   truck_batch  waste_1_CH-swiss_storage_CH               4       10.227416\n5   truck_batch  waste_2_CH-swiss_storage_CH               0        0.000000\n6   truck_batch  waste_2_CH-swiss_storage_CH               1        7.635671\n7   truck_batch  waste_2_CH-swiss_storage_CH               2        7.635671\n8   truck_batch  waste_2_CH-swiss_storage_CH               3       19.807119\n9   truck_batch  waste_2_CH-swiss_storage_CH               4       19.807119\n10  truck_batch        waste_1_CH-waste_2_CH               0        0.000000\n11  truck_batch        waste_1_CH-waste_2_CH               1        0.000000\n12  truck_batch        waste_1_CH-waste_2_CH               2        0.000000\n13  truck_batch        waste_1_CH-waste_2_CH               3        0.000000\n14  truck_batch        waste_1_CH-waste_2_CH               4        0.000000\n15  truck_batch        waste_2_CH-waste_1_CH               0        0.000000\n16  truck_batch        waste_2_CH-waste_1_CH               1        0.000000\n17  truck_batch        waste_2_CH-waste_1_CH               2        0.000000\n18  truck_batch        waste_2_CH-waste_1_CH               3        0.000000\n19  truck_batch        waste_2_CH-waste_1_CH               4        0.000000",
      "text/html": "<div>\n<style scoped>\n    .dataframe tbody tr th:only-of-type {\n        vertical-align: middle;\n    }\n\n    .dataframe tbody tr th {\n        vertical-align: top;\n    }\n\n    .dataframe thead th {\n        text-align: right;\n    }\n</style>\n<table border=\"1\" class=\"dataframe\">\n  <thead>\n    <tr style=\"text-align: right;\">\n      <th></th>\n      <th>technology</th>\n      <th>edge</th>\n      <th>time_operation</th>\n      <th>flow_transport</th>\n    </tr>\n  </thead>\n  <tbody>\n    <tr>\n      <th>0</th>\n      <td>truck_batch</td>\n      <td>waste_1_CH-swiss_storage_CH</td>\n      <td>0</td>\n      <td>0.000000</td>\n    </tr>\n    <tr>\n      <th>1</th>\n      <td>truck_batch</td>\n      <td>waste_1_CH-swiss_storage_CH</td>\n      <td>1</td>\n      <td>10.227416</td>\n    </tr>\n    <tr>\n      <th>2</th>\n      <td>truck_batch</td>\n      <td>waste_1_CH-swiss_storage_CH</td>\n      <td>2</td>\n      <td>10.227416</td>\n    </tr>\n    <tr>\n      <th>3</th>\n      <td>truck_batch</td>\n      <td>waste_1_CH-swiss_storage_CH</td>\n      <td>3</td>\n      <td>10.227416</td>\n    </tr>\n    <tr>\n      <th>4</th>\n      <td>truck_batch</td>\n      <td>waste_1_CH-swiss_storage_CH</td>\n      <td>4</td>\n      <td>10.227416</td>\n    </tr>\n    <tr>\n      <th>5</th>\n      <td>truck_batch</td>\n      <td>waste_2_CH-swiss_storage_CH</td>\n      <td>0</td>\n      <td>0.000000</td>\n    </tr>\n    <tr>\n      <th>6</th>\n      <td>truck_batch</td>\n      <td>waste_2_CH-swiss_storage_CH</td>\n      <td>1</td>\n      <td>7.635671</td>\n    </tr>\n    <tr>\n      <th>7</th>\n      <td>truck_batch</td>\n      <td>waste_2_CH-swiss_storage_CH</td>\n      <td>2</td>\n      <td>7.635671</td>\n    </tr>\n    <tr>\n      <th>8</th>\n      <td>truck_batch</td>\n      <td>waste_2_CH-swiss_storage_CH</td>\n      <td>3</td>\n      <td>19.807119</td>\n    </tr>\n    <tr>\n      <th>9</th>\n      <td>truck_batch</td>\n      <td>waste_2_CH-swiss_storage_CH</td>\n      <td>4</td>\n      <td>19.807119</td>\n    </tr>\n    <tr>\n      <th>10</th>\n      <td>truck_batch</td>\n      <td>waste_1_CH-waste_2_CH</td>\n      <td>0</td>\n      <td>0.000000</td>\n    </tr>\n    <tr>\n      <th>11</th>\n      <td>truck_batch</td>\n      <td>waste_1_CH-waste_2_CH</td>\n      <td>1</td>\n      <td>0.000000</td>\n    </tr>\n    <tr>\n      <th>12</th>\n      <td>truck_batch</td>\n      <td>waste_1_CH-waste_2_CH</td>\n      <td>2</td>\n      <td>0.000000</td>\n    </tr>\n    <tr>\n      <th>13</th>\n      <td>truck_batch</td>\n      <td>waste_1_CH-waste_2_CH</td>\n      <td>3</td>\n      <td>0.000000</td>\n    </tr>\n    <tr>\n      <th>14</th>\n      <td>truck_batch</td>\n      <td>waste_1_CH-waste_2_CH</td>\n      <td>4</td>\n      <td>0.000000</td>\n    </tr>\n    <tr>\n      <th>15</th>\n      <td>truck_batch</td>\n      <td>waste_2_CH-waste_1_CH</td>\n      <td>0</td>\n      <td>0.000000</td>\n    </tr>\n    <tr>\n      <th>16</th>\n      <td>truck_batch</td>\n      <td>waste_2_CH-waste_1_CH</td>\n      <td>1</td>\n      <td>0.000000</td>\n    </tr>\n    <tr>\n      <th>17</th>\n      <td>truck_batch</td>\n      <td>waste_2_CH-waste_1_CH</td>\n      <td>2</td>\n      <td>0.000000</td>\n    </tr>\n    <tr>\n      <th>18</th>\n      <td>truck_batch</td>\n      <td>waste_2_CH-waste_1_CH</td>\n      <td>3</td>\n      <td>0.000000</td>\n    </tr>\n    <tr>\n      <th>19</th>\n      <td>truck_batch</td>\n      <td>waste_2_CH-waste_1_CH</td>\n      <td>4</td>\n      <td>0.000000</td>\n    </tr>\n  </tbody>\n</table>\n</div>"
     },
     "execution_count": 8,
     "metadata": {},
     "output_type": "execute_result"
    }
   ],
   "source": [
    "df"
   ],
   "metadata": {
    "collapsed": false,
    "ExecuteTime": {
     "end_time": "2024-01-22T14:43:14.232021Z",
     "start_time": "2024-01-22T14:43:14.205152Z"
    }
   },
   "id": "6c8296a56be45c1a"
  },
  {
   "cell_type": "code",
   "execution_count": 9,
   "outputs": [
    {
     "data": {
      "text/plain": "array(['truck_batch'], dtype=object)"
     },
     "execution_count": 9,
     "metadata": {},
     "output_type": "execute_result"
    }
   ],
   "source": [
    "# find unique technologies\n",
    "technology = df['technology'].unique()\n",
    "technology"
   ],
   "metadata": {
    "collapsed": false,
    "ExecuteTime": {
     "end_time": "2024-01-22T14:43:17.329626Z",
     "start_time": "2024-01-22T14:43:17.290869Z"
    }
   },
   "id": "d3fca5d70659439c"
  },
  {
   "cell_type": "code",
   "execution_count": 10,
   "outputs": [],
   "source": [
    "# create nominal flow transport files\n",
    "\n",
    "for i in range(len(technology)):\n",
    "     \n",
    "    #Get table of one technology \n",
    "    tec = technology[i]\n",
    "    x = df[df['technology'] == tec]\n",
    "    \n",
    "    #Set path\n",
    "    parent_path = Path('/Users/davidbertschinger/Documents/GitHub/ZEN-garden/data/03_example_CCTS_N-1')\n",
    "    path = [file for file in Path(parent_path).rglob(tec)]\n",
    "    path = path[0]\n",
    "    filepath = Path(str(path)+'/nominal_flow_transport.csv')\n",
    "    \n",
    "    #Clean up table\n",
    "    x = x.drop(columns='technology')\n",
    "    x = x[x['flow_transport'] != 0]\n",
    "    x = x.rename(columns={'time_operation': 'year'})\n",
    "    x['year'] = x['year'] + 2025 \n",
    "    \n",
    "    #clean up table, differentiate between node and edge\n",
    "    if path.parent.name == 'set_transport_technologies':\n",
    "        x = x.rename(columns={'location': 'edge'})\n",
    "\n",
    "    else:\n",
    "        x = x.rename(columns={'location': 'node'})\n",
    "\n",
    "    #Safe\n",
    "    x.to_csv(filepath, index=False)"
   ],
   "metadata": {
    "collapsed": false,
    "ExecuteTime": {
     "end_time": "2024-01-22T14:43:24.699041Z",
     "start_time": "2024-01-22T14:43:24.660885Z"
    }
   },
   "id": "74d03fb0b90ce096"
  },
  {
   "cell_type": "code",
   "execution_count": null,
   "outputs": [],
   "source": [],
   "metadata": {
    "collapsed": false
   },
   "id": "3c6a912dcbd98089"
  }
 ],
 "metadata": {
  "kernelspec": {
   "display_name": "Python 3",
   "language": "python",
   "name": "python3"
  },
  "language_info": {
   "codemirror_mode": {
    "name": "ipython",
    "version": 2
   },
   "file_extension": ".py",
   "mimetype": "text/x-python",
   "name": "python",
   "nbconvert_exporter": "python",
   "pygments_lexer": "ipython2",
   "version": "2.7.6"
  }
 },
 "nbformat": 4,
 "nbformat_minor": 5
}
