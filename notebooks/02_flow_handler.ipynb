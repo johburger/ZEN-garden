{
 "cells": [
  {
   "cell_type": "code",
   "execution_count": 1,
   "id": "initial_id",
   "metadata": {
    "collapsed": true,
    "ExecuteTime": {
     "end_time": "2024-02-05T17:10:02.206744Z",
     "start_time": "2024-02-05T17:10:01.847148Z"
    }
   },
   "outputs": [],
   "source": [
    "import pandas as pd\n",
    "%load_ext autoreload\n",
    "%autoreload 2"
   ]
  },
  {
   "cell_type": "code",
   "execution_count": 2,
   "outputs": [],
   "source": [
    "%matplotlib inline\n",
    "\n",
    "from pprint import pprint\n",
    "from zen_garden.postprocess.results import Results\n",
    "\n",
    "from pathlib import Path\n",
    "from os import chdir"
   ],
   "metadata": {
    "collapsed": false,
    "ExecuteTime": {
     "end_time": "2024-02-05T17:10:03.455494Z",
     "start_time": "2024-02-05T17:10:02.208051Z"
    }
   },
   "id": "780397ba889ec419"
  },
  {
   "cell_type": "code",
   "execution_count": 3,
   "outputs": [],
   "source": [
    "# set path\n",
    "path = Path('/Users/davidbertschinger/Documents/GitHub/ZEN-garden/notebooks')\n",
    "chdir(path)"
   ],
   "metadata": {
    "collapsed": false,
    "ExecuteTime": {
     "end_time": "2024-02-05T17:10:03.469136Z",
     "start_time": "2024-02-05T17:10:03.455779Z"
    }
   },
   "id": "1993ef780d414ee9"
  },
  {
   "cell_type": "code",
   "execution_count": 4,
   "outputs": [],
   "source": [
    "# cost optimal solution\n",
    "res_basic = Results(\"../data/outputs/03_example_CCTS\")"
   ],
   "metadata": {
    "collapsed": false,
    "ExecuteTime": {
     "end_time": "2024-02-05T17:10:03.649104Z",
     "start_time": "2024-02-05T17:10:03.470400Z"
    }
   },
   "id": "fde41797d10bccf6"
  },
  {
   "cell_type": "code",
   "execution_count": 5,
   "outputs": [
    {
     "name": "stdout",
     "output_type": "stream",
     "text": [
      "{'dataset': '/Users/davidbertschinger/Documents/GitHub/ZEN-garden/data/03_example_CCTS',\n",
      " 'earliest_year_of_data': 1900,\n",
      " 'folder_output': '/Users/davidbertschinger/Documents/GitHub/ZEN-garden/data/outputs',\n",
      " 'header_data_inputs': {'set_capacity_types': 'capacity_type',\n",
      "                        'set_carriers': 'carrier',\n",
      "                        'set_conversion_technologies': 'technology',\n",
      "                        'set_dependent_carriers': 'carrier',\n",
      "                        'set_edges': 'edge',\n",
      "                        'set_elements': 'element',\n",
      "                        'set_failure_states': 'failure_states',\n",
      "                        'set_input_carriers': 'carrier',\n",
      "                        'set_lca_impact_categories': 'impact_category',\n",
      "                        'set_location': 'location',\n",
      "                        'set_nodes': 'node',\n",
      "                        'set_output_carriers': 'carrier',\n",
      "                        'set_retrofitting_technologies': 'technology',\n",
      "                        'set_storage_technologies': 'technology',\n",
      "                        'set_super_edges': 'super_edge',\n",
      "                        'set_super_nodes': 'super_node',\n",
      "                        'set_technologies': 'technology',\n",
      "                        'set_technologies_existing': 'technology_existing',\n",
      "                        'set_time_steps': 'time',\n",
      "                        'set_time_steps_operation': 'time_operation',\n",
      "                        'set_time_steps_storage': 'time_storage_level',\n",
      "                        'set_time_steps_storage_level': 'time_storage_level',\n",
      "                        'set_time_steps_yearly': 'year',\n",
      "                        'set_time_steps_yearly_entire_horizon': 'year_entire_horizon',\n",
      "                        'set_transport_technologies': 'technology'},\n",
      " 'max_output_size_mb': 500,\n",
      " 'objective': 'total_cost',\n",
      " 'output_format': 'h5',\n",
      " 'overwrite_output': True,\n",
      " 'postprocess': False,\n",
      " 'sense': 'minimize',\n",
      " 'subsets': {'set_carriers': [],\n",
      "             'set_technologies': {'set_conversion_technologies': ['set_retrofitting_technologies'],\n",
      "                                  'set_storage_technologies': [],\n",
      "                                  'set_transport_technologies': []}},\n",
      " 'time_series_aggregation': {'clusterMethod': 'k_means',\n",
      "                             'extremePeriodMethod': 'None',\n",
      "                             'hoursPerPeriod': 1,\n",
      "                             'noSegments': 12,\n",
      "                             'representationMethod': 'meanRepresentation',\n",
      "                             'rescaleClusterPeriods': False,\n",
      "                             'resolution': 1,\n",
      "                             'segmentation': False,\n",
      "                             'solver': 'gurobi'},\n",
      " 'transport_distance': 'Euclidean',\n",
      " 'use_capacities_existing': True,\n",
      " 'write_results_yml': False}\n"
     ]
    }
   ],
   "source": [
    "# show the deafult analysis settings\n",
    "pprint(res_basic.results[None][\"analysis\"])"
   ],
   "metadata": {
    "collapsed": false,
    "ExecuteTime": {
     "end_time": "2024-02-05T17:10:03.670555Z",
     "start_time": "2024-02-05T17:10:03.649826Z"
    }
   },
   "id": "b1d9eb78fb003e8a"
  },
  {
   "cell_type": "code",
   "execution_count": 6,
   "outputs": [
    {
     "name": "stderr",
     "output_type": "stream",
     "text": [
      "/Users/davidbertschinger/Applications/PyCharm Professional Edition.app/Contents/plugins/python/helpers/pydev/pydevd_plugins/__init__.py:2: DeprecationWarning: Deprecated call to `pkg_resources.declare_namespace('pydevd_plugins')`.\n",
      "Implementing implicit namespace packages (as specified in PEP 420) is preferred to `pkg_resources.declare_namespace`. See https://setuptools.pypa.io/en/latest/references/keywords.html#keyword-namespace-packages\n",
      "  __import__('pkg_resources').declare_namespace(__name__)\n",
      "\n",
      "/Users/davidbertschinger/Applications/PyCharm Professional Edition.app/Contents/plugins/python/helpers/pydev/pydevd_plugins/extensions/__init__.py:2: DeprecationWarning: Deprecated call to `pkg_resources.declare_namespace('pydevd_plugins.extensions')`.\n",
      "Implementing implicit namespace packages (as specified in PEP 420) is preferred to `pkg_resources.declare_namespace`. See https://setuptools.pypa.io/en/latest/references/keywords.html#keyword-namespace-packages\n",
      "  __import__('pkg_resources').declare_namespace(__name__)\n",
      "\n",
      "/Users/davidbertschinger/Applications/PyCharm Professional Edition.app/Contents/plugins/python/helpers/pydev/pydevd_plugins/extensions/types/__init__.py:2: DeprecationWarning: Deprecated call to `pkg_resources.declare_namespace('pydevd_plugins.extensions.types')`.\n",
      "Implementing implicit namespace packages (as specified in PEP 420) is preferred to `pkg_resources.declare_namespace`. See https://setuptools.pypa.io/en/latest/references/keywords.html#keyword-namespace-packages\n",
      "  __import__('pkg_resources').declare_namespace(__name__)\n",
      "\n"
     ]
    },
    {
     "data": {
      "text/plain": "technology   edge                         time_operation\nflowline     waste_1_CH-swiss_storage_CH  0                  0.000000\n                                          1                 10.148564\n                                          2                 10.148564\n                                          3                 10.148564\n                                          4                 10.148564\n             waste_2_CH-swiss_storage_CH  0                  0.000000\n                                          1                  7.418459\n                                          2                  7.418459\n                                          3                 20.192250\n                                          4                 20.192250\n             waste_1_CH-waste_2_CH        0                  0.000000\n                                          1                  0.000000\n                                          2                  0.000000\n                                          3                  0.000000\n                                          4                  0.000000\n             waste_2_CH-waste_1_CH        0                  0.000000\n                                          1                  0.000000\n                                          2                  0.000000\n                                          3                  0.000000\n                                          4                  0.000000\ntruck_batch  waste_1_CH-swiss_storage_CH  0                  0.000000\n                                          1                  0.000000\n                                          2                  0.000000\n                                          3                  0.000000\n                                          4                  0.000000\n             waste_2_CH-swiss_storage_CH  0                  0.000000\n                                          1                  0.000000\n                                          2                  0.000000\n                                          3                  0.000000\n                                          4                  0.000000\n             waste_1_CH-waste_2_CH        0                  0.000000\n                                          1                  0.000000\n                                          2                  0.000000\n                                          3                  0.000000\n                                          4                  0.000000\n             waste_2_CH-waste_1_CH        0                  0.000000\n                                          1                  0.000000\n                                          2                  0.000000\n                                          3                  0.000000\n                                          4                  0.000000\nName: flow_transport, dtype: float64"
     },
     "execution_count": 6,
     "metadata": {},
     "output_type": "execute_result"
    }
   ],
   "source": [
    "# get flow transport and save as csv\n",
    "res_basic.get_df('flow_transport', to_csv=\"flow_transport\")"
   ],
   "metadata": {
    "collapsed": false,
    "ExecuteTime": {
     "end_time": "2024-02-05T17:10:04.888167Z",
     "start_time": "2024-02-05T17:10:04.280112Z"
    }
   },
   "id": "fc5db256355e390e"
  },
  {
   "cell_type": "code",
   "execution_count": 7,
   "outputs": [],
   "source": [
    "# get flow transport csv\n",
    "df = pd.read_csv('flow_transport.csv')"
   ],
   "metadata": {
    "collapsed": false,
    "ExecuteTime": {
     "end_time": "2024-02-05T17:10:04.902294Z",
     "start_time": "2024-02-05T17:10:04.885850Z"
    }
   },
   "id": "c5b46bb8b4725cdb"
  },
  {
   "cell_type": "code",
   "execution_count": 8,
   "outputs": [
    {
     "data": {
      "text/plain": "     technology                         edge  time_operation  flow_transport\n0      flowline  waste_1_CH-swiss_storage_CH               0        0.000000\n1      flowline  waste_1_CH-swiss_storage_CH               1       10.148564\n2      flowline  waste_1_CH-swiss_storage_CH               2       10.148564\n3      flowline  waste_1_CH-swiss_storage_CH               3       10.148564\n4      flowline  waste_1_CH-swiss_storage_CH               4       10.148564\n5      flowline  waste_2_CH-swiss_storage_CH               0        0.000000\n6      flowline  waste_2_CH-swiss_storage_CH               1        7.418459\n7      flowline  waste_2_CH-swiss_storage_CH               2        7.418459\n8      flowline  waste_2_CH-swiss_storage_CH               3       20.192250\n9      flowline  waste_2_CH-swiss_storage_CH               4       20.192250\n10     flowline        waste_1_CH-waste_2_CH               0        0.000000\n11     flowline        waste_1_CH-waste_2_CH               1        0.000000\n12     flowline        waste_1_CH-waste_2_CH               2        0.000000\n13     flowline        waste_1_CH-waste_2_CH               3        0.000000\n14     flowline        waste_1_CH-waste_2_CH               4        0.000000\n15     flowline        waste_2_CH-waste_1_CH               0        0.000000\n16     flowline        waste_2_CH-waste_1_CH               1        0.000000\n17     flowline        waste_2_CH-waste_1_CH               2        0.000000\n18     flowline        waste_2_CH-waste_1_CH               3        0.000000\n19     flowline        waste_2_CH-waste_1_CH               4        0.000000\n20  truck_batch  waste_1_CH-swiss_storage_CH               0        0.000000\n21  truck_batch  waste_1_CH-swiss_storage_CH               1        0.000000\n22  truck_batch  waste_1_CH-swiss_storage_CH               2        0.000000\n23  truck_batch  waste_1_CH-swiss_storage_CH               3        0.000000\n24  truck_batch  waste_1_CH-swiss_storage_CH               4        0.000000\n25  truck_batch  waste_2_CH-swiss_storage_CH               0        0.000000\n26  truck_batch  waste_2_CH-swiss_storage_CH               1        0.000000\n27  truck_batch  waste_2_CH-swiss_storage_CH               2        0.000000\n28  truck_batch  waste_2_CH-swiss_storage_CH               3        0.000000\n29  truck_batch  waste_2_CH-swiss_storage_CH               4        0.000000\n30  truck_batch        waste_1_CH-waste_2_CH               0        0.000000\n31  truck_batch        waste_1_CH-waste_2_CH               1        0.000000\n32  truck_batch        waste_1_CH-waste_2_CH               2        0.000000\n33  truck_batch        waste_1_CH-waste_2_CH               3        0.000000\n34  truck_batch        waste_1_CH-waste_2_CH               4        0.000000\n35  truck_batch        waste_2_CH-waste_1_CH               0        0.000000\n36  truck_batch        waste_2_CH-waste_1_CH               1        0.000000\n37  truck_batch        waste_2_CH-waste_1_CH               2        0.000000\n38  truck_batch        waste_2_CH-waste_1_CH               3        0.000000\n39  truck_batch        waste_2_CH-waste_1_CH               4        0.000000",
      "text/html": "<div>\n<style scoped>\n    .dataframe tbody tr th:only-of-type {\n        vertical-align: middle;\n    }\n\n    .dataframe tbody tr th {\n        vertical-align: top;\n    }\n\n    .dataframe thead th {\n        text-align: right;\n    }\n</style>\n<table border=\"1\" class=\"dataframe\">\n  <thead>\n    <tr style=\"text-align: right;\">\n      <th></th>\n      <th>technology</th>\n      <th>edge</th>\n      <th>time_operation</th>\n      <th>flow_transport</th>\n    </tr>\n  </thead>\n  <tbody>\n    <tr>\n      <th>0</th>\n      <td>flowline</td>\n      <td>waste_1_CH-swiss_storage_CH</td>\n      <td>0</td>\n      <td>0.000000</td>\n    </tr>\n    <tr>\n      <th>1</th>\n      <td>flowline</td>\n      <td>waste_1_CH-swiss_storage_CH</td>\n      <td>1</td>\n      <td>10.148564</td>\n    </tr>\n    <tr>\n      <th>2</th>\n      <td>flowline</td>\n      <td>waste_1_CH-swiss_storage_CH</td>\n      <td>2</td>\n      <td>10.148564</td>\n    </tr>\n    <tr>\n      <th>3</th>\n      <td>flowline</td>\n      <td>waste_1_CH-swiss_storage_CH</td>\n      <td>3</td>\n      <td>10.148564</td>\n    </tr>\n    <tr>\n      <th>4</th>\n      <td>flowline</td>\n      <td>waste_1_CH-swiss_storage_CH</td>\n      <td>4</td>\n      <td>10.148564</td>\n    </tr>\n    <tr>\n      <th>5</th>\n      <td>flowline</td>\n      <td>waste_2_CH-swiss_storage_CH</td>\n      <td>0</td>\n      <td>0.000000</td>\n    </tr>\n    <tr>\n      <th>6</th>\n      <td>flowline</td>\n      <td>waste_2_CH-swiss_storage_CH</td>\n      <td>1</td>\n      <td>7.418459</td>\n    </tr>\n    <tr>\n      <th>7</th>\n      <td>flowline</td>\n      <td>waste_2_CH-swiss_storage_CH</td>\n      <td>2</td>\n      <td>7.418459</td>\n    </tr>\n    <tr>\n      <th>8</th>\n      <td>flowline</td>\n      <td>waste_2_CH-swiss_storage_CH</td>\n      <td>3</td>\n      <td>20.192250</td>\n    </tr>\n    <tr>\n      <th>9</th>\n      <td>flowline</td>\n      <td>waste_2_CH-swiss_storage_CH</td>\n      <td>4</td>\n      <td>20.192250</td>\n    </tr>\n    <tr>\n      <th>10</th>\n      <td>flowline</td>\n      <td>waste_1_CH-waste_2_CH</td>\n      <td>0</td>\n      <td>0.000000</td>\n    </tr>\n    <tr>\n      <th>11</th>\n      <td>flowline</td>\n      <td>waste_1_CH-waste_2_CH</td>\n      <td>1</td>\n      <td>0.000000</td>\n    </tr>\n    <tr>\n      <th>12</th>\n      <td>flowline</td>\n      <td>waste_1_CH-waste_2_CH</td>\n      <td>2</td>\n      <td>0.000000</td>\n    </tr>\n    <tr>\n      <th>13</th>\n      <td>flowline</td>\n      <td>waste_1_CH-waste_2_CH</td>\n      <td>3</td>\n      <td>0.000000</td>\n    </tr>\n    <tr>\n      <th>14</th>\n      <td>flowline</td>\n      <td>waste_1_CH-waste_2_CH</td>\n      <td>4</td>\n      <td>0.000000</td>\n    </tr>\n    <tr>\n      <th>15</th>\n      <td>flowline</td>\n      <td>waste_2_CH-waste_1_CH</td>\n      <td>0</td>\n      <td>0.000000</td>\n    </tr>\n    <tr>\n      <th>16</th>\n      <td>flowline</td>\n      <td>waste_2_CH-waste_1_CH</td>\n      <td>1</td>\n      <td>0.000000</td>\n    </tr>\n    <tr>\n      <th>17</th>\n      <td>flowline</td>\n      <td>waste_2_CH-waste_1_CH</td>\n      <td>2</td>\n      <td>0.000000</td>\n    </tr>\n    <tr>\n      <th>18</th>\n      <td>flowline</td>\n      <td>waste_2_CH-waste_1_CH</td>\n      <td>3</td>\n      <td>0.000000</td>\n    </tr>\n    <tr>\n      <th>19</th>\n      <td>flowline</td>\n      <td>waste_2_CH-waste_1_CH</td>\n      <td>4</td>\n      <td>0.000000</td>\n    </tr>\n    <tr>\n      <th>20</th>\n      <td>truck_batch</td>\n      <td>waste_1_CH-swiss_storage_CH</td>\n      <td>0</td>\n      <td>0.000000</td>\n    </tr>\n    <tr>\n      <th>21</th>\n      <td>truck_batch</td>\n      <td>waste_1_CH-swiss_storage_CH</td>\n      <td>1</td>\n      <td>0.000000</td>\n    </tr>\n    <tr>\n      <th>22</th>\n      <td>truck_batch</td>\n      <td>waste_1_CH-swiss_storage_CH</td>\n      <td>2</td>\n      <td>0.000000</td>\n    </tr>\n    <tr>\n      <th>23</th>\n      <td>truck_batch</td>\n      <td>waste_1_CH-swiss_storage_CH</td>\n      <td>3</td>\n      <td>0.000000</td>\n    </tr>\n    <tr>\n      <th>24</th>\n      <td>truck_batch</td>\n      <td>waste_1_CH-swiss_storage_CH</td>\n      <td>4</td>\n      <td>0.000000</td>\n    </tr>\n    <tr>\n      <th>25</th>\n      <td>truck_batch</td>\n      <td>waste_2_CH-swiss_storage_CH</td>\n      <td>0</td>\n      <td>0.000000</td>\n    </tr>\n    <tr>\n      <th>26</th>\n      <td>truck_batch</td>\n      <td>waste_2_CH-swiss_storage_CH</td>\n      <td>1</td>\n      <td>0.000000</td>\n    </tr>\n    <tr>\n      <th>27</th>\n      <td>truck_batch</td>\n      <td>waste_2_CH-swiss_storage_CH</td>\n      <td>2</td>\n      <td>0.000000</td>\n    </tr>\n    <tr>\n      <th>28</th>\n      <td>truck_batch</td>\n      <td>waste_2_CH-swiss_storage_CH</td>\n      <td>3</td>\n      <td>0.000000</td>\n    </tr>\n    <tr>\n      <th>29</th>\n      <td>truck_batch</td>\n      <td>waste_2_CH-swiss_storage_CH</td>\n      <td>4</td>\n      <td>0.000000</td>\n    </tr>\n    <tr>\n      <th>30</th>\n      <td>truck_batch</td>\n      <td>waste_1_CH-waste_2_CH</td>\n      <td>0</td>\n      <td>0.000000</td>\n    </tr>\n    <tr>\n      <th>31</th>\n      <td>truck_batch</td>\n      <td>waste_1_CH-waste_2_CH</td>\n      <td>1</td>\n      <td>0.000000</td>\n    </tr>\n    <tr>\n      <th>32</th>\n      <td>truck_batch</td>\n      <td>waste_1_CH-waste_2_CH</td>\n      <td>2</td>\n      <td>0.000000</td>\n    </tr>\n    <tr>\n      <th>33</th>\n      <td>truck_batch</td>\n      <td>waste_1_CH-waste_2_CH</td>\n      <td>3</td>\n      <td>0.000000</td>\n    </tr>\n    <tr>\n      <th>34</th>\n      <td>truck_batch</td>\n      <td>waste_1_CH-waste_2_CH</td>\n      <td>4</td>\n      <td>0.000000</td>\n    </tr>\n    <tr>\n      <th>35</th>\n      <td>truck_batch</td>\n      <td>waste_2_CH-waste_1_CH</td>\n      <td>0</td>\n      <td>0.000000</td>\n    </tr>\n    <tr>\n      <th>36</th>\n      <td>truck_batch</td>\n      <td>waste_2_CH-waste_1_CH</td>\n      <td>1</td>\n      <td>0.000000</td>\n    </tr>\n    <tr>\n      <th>37</th>\n      <td>truck_batch</td>\n      <td>waste_2_CH-waste_1_CH</td>\n      <td>2</td>\n      <td>0.000000</td>\n    </tr>\n    <tr>\n      <th>38</th>\n      <td>truck_batch</td>\n      <td>waste_2_CH-waste_1_CH</td>\n      <td>3</td>\n      <td>0.000000</td>\n    </tr>\n    <tr>\n      <th>39</th>\n      <td>truck_batch</td>\n      <td>waste_2_CH-waste_1_CH</td>\n      <td>4</td>\n      <td>0.000000</td>\n    </tr>\n  </tbody>\n</table>\n</div>"
     },
     "execution_count": 8,
     "metadata": {},
     "output_type": "execute_result"
    }
   ],
   "source": [
    "df"
   ],
   "metadata": {
    "collapsed": false,
    "ExecuteTime": {
     "end_time": "2024-02-05T17:10:05.723445Z",
     "start_time": "2024-02-05T17:10:05.674946Z"
    }
   },
   "id": "6c8296a56be45c1a"
  },
  {
   "cell_type": "code",
   "execution_count": 9,
   "outputs": [
    {
     "data": {
      "text/plain": "array(['flowline', 'truck_batch'], dtype=object)"
     },
     "execution_count": 9,
     "metadata": {},
     "output_type": "execute_result"
    }
   ],
   "source": [
    "# find unique technologies\n",
    "technology = df['technology'].unique()\n",
    "technology"
   ],
   "metadata": {
    "collapsed": false,
    "ExecuteTime": {
     "end_time": "2024-02-05T17:10:06.439752Z",
     "start_time": "2024-02-05T17:10:06.385098Z"
    }
   },
   "id": "d3fca5d70659439c"
  },
  {
   "cell_type": "code",
   "execution_count": 10,
   "outputs": [],
   "source": [
    "# create nominal flow transport files\n",
    "\n",
    "for i in range(len(technology)):\n",
    "     \n",
    "    #Get table of one technology \n",
    "    tec = technology[i]\n",
    "    x = df[df['technology'] == tec]\n",
    "    \n",
    "    #Set path\n",
    "    parent_path = Path('/Users/davidbertschinger/Documents/GitHub/ZEN-garden/data/03_example_CCTS_N-1_01_T')\n",
    "    path = [file for file in Path(parent_path).rglob(tec)]\n",
    "    path = path[0]\n",
    "    filepath = Path(str(path)+'/nominal_flow_transport.csv')\n",
    "    \n",
    "    #Clean up table\n",
    "    x = x.drop(columns='technology')\n",
    "    x = x[x['flow_transport'] != 0]\n",
    "    x = x.rename(columns={'time_operation': 'year'})\n",
    "    x['year'] = x['year'] + 2025 \n",
    "    \n",
    "    #clean up table, differentiate between node and edge\n",
    "    if path.parent.name == 'set_transport_technologies':\n",
    "        x = x.rename(columns={'location': 'edge'})\n",
    "\n",
    "    else:\n",
    "        x = x.rename(columns={'location': 'node'})\n",
    "\n",
    "    #Safe\n",
    "    x.to_csv(filepath, index=False)"
   ],
   "metadata": {
    "collapsed": false,
    "ExecuteTime": {
     "end_time": "2024-02-05T17:10:13.670957Z",
     "start_time": "2024-02-05T17:10:13.625936Z"
    }
   },
   "id": "74d03fb0b90ce096"
  },
  {
   "cell_type": "code",
   "execution_count": null,
   "outputs": [],
   "source": [],
   "metadata": {
    "collapsed": false
   },
   "id": "3c6a912dcbd98089"
  }
 ],
 "metadata": {
  "kernelspec": {
   "display_name": "Python 3",
   "language": "python",
   "name": "python3"
  },
  "language_info": {
   "codemirror_mode": {
    "name": "ipython",
    "version": 2
   },
   "file_extension": ".py",
   "mimetype": "text/x-python",
   "name": "python",
   "nbconvert_exporter": "python",
   "pygments_lexer": "ipython2",
   "version": "2.7.6"
  }
 },
 "nbformat": 4,
 "nbformat_minor": 5
}
