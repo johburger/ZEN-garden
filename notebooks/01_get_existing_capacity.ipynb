{
 "cells": [
  {
   "cell_type": "code",
   "execution_count": 2,
   "id": "initial_id",
   "metadata": {
    "collapsed": true,
    "ExecuteTime": {
     "end_time": "2024-03-25T18:46:07.459706Z",
     "start_time": "2024-03-25T18:46:06.000700Z"
    }
   },
   "outputs": [],
   "source": [
    "%load_ext autoreload\n",
    "%autoreload 2\n",
    "%matplotlib inline\n",
    "\n",
    "# import\n",
    "import pandas as pd\n",
    "from pprint import pprint\n",
    "from zen_garden.postprocess.results import Results\n",
    "from pathlib import Path\n",
    "from os import chdir\n",
    "\n",
    "# set path\n",
    "path = Path('/Users/davidbertschinger/Documents/GitHub/ZEN-garden/notebooks')\n",
    "chdir(path)"
   ]
  },
  {
   "cell_type": "code",
   "execution_count": 13,
   "outputs": [],
   "source": [
    "# define import path\n",
    "path_import = Path(\"../data/outputs/05_CCTS_WTE_small_01_cost_optimal\")\n",
    "\n",
    "# define export path\n",
    "path_export = Path(\"/Users/davidbertschinger/Documents/GitHub/ZEN-garden/data/05_CCTS_WTE_small_02_n1\")"
   ],
   "metadata": {
    "collapsed": false,
    "ExecuteTime": {
     "end_time": "2024-03-25T18:46:27.391481Z",
     "start_time": "2024-03-25T18:46:27.369724Z"
    }
   },
   "id": "780397ba889ec419"
  },
  {
   "cell_type": "code",
   "execution_count": 14,
   "outputs": [],
   "source": [
    "# get cost optimal solution\n",
    "results = Results(path_import)"
   ],
   "metadata": {
    "collapsed": false,
    "ExecuteTime": {
     "end_time": "2024-03-25T18:46:27.561800Z",
     "start_time": "2024-03-25T18:46:27.534906Z"
    }
   },
   "id": "fde41797d10bccf6"
  },
  {
   "cell_type": "code",
   "execution_count": 15,
   "outputs": [
    {
     "data": {
      "text/plain": "technology     capacity_type  location                     year\ncapture_amine  power          swiss_storage_CH             0        0.000000\n                              waste_11_CH                  0       22.360440\n                              waste_19_CH                  0       30.584139\n                              waste_1_CH                   0       26.387584\n                              waste_2_CH                   0       19.367213\n                                                                     ...    \ntruck_batch    power          waste_9_CH-swiss_storage_CH  0       10.046834\n                              waste_9_CH-waste_11_CH       0        0.000000\n                              waste_9_CH-waste_19_CH       0        0.000000\n                              waste_9_CH-waste_1_CH        0        0.000000\n                              waste_9_CH-waste_2_CH        0        0.000000\nName: capacity_addition, Length: 129, dtype: float64"
     },
     "execution_count": 15,
     "metadata": {},
     "output_type": "execute_result"
    }
   ],
   "source": [
    "# get capacity addition and save as csv\n",
    "results.get_df('capacity_addition', to_csv=\"capacity_addition\")"
   ],
   "metadata": {
    "collapsed": false,
    "ExecuteTime": {
     "end_time": "2024-03-25T18:46:27.769902Z",
     "start_time": "2024-03-25T18:46:27.735111Z"
    }
   },
   "id": "fc5db256355e390e"
  },
  {
   "cell_type": "code",
   "execution_count": 16,
   "outputs": [],
   "source": [
    "# get capacity addition csv\n",
    "df = pd.read_csv('capacity_addition.csv')"
   ],
   "metadata": {
    "collapsed": false,
    "ExecuteTime": {
     "end_time": "2024-03-25T18:46:27.950608Z",
     "start_time": "2024-03-25T18:46:27.935076Z"
    }
   },
   "id": "c5b46bb8b4725cdb"
  },
  {
   "cell_type": "code",
   "execution_count": 17,
   "outputs": [],
   "source": [
    "# create existing capacity files\n",
    "\n",
    "# find unique technologies\n",
    "technology = df['technology'].unique()\n",
    "\n",
    "for i in range(len(technology)):\n",
    "     \n",
    "    #Get table of one technology \n",
    "    tec = technology[i]\n",
    "    x = df[df['technology'] == tec]\n",
    "    \n",
    "    #Set path\n",
    "    parent_path = Path(path_export)\n",
    "    path = [file for file in Path(parent_path).rglob(tec)]\n",
    "    path = path[0]\n",
    "    filepath = Path(str(path)+'/capacity_existing.csv')\n",
    "    \n",
    "    #Clean up table\n",
    "    x = x.drop(columns='capacity_type')\n",
    "    x = x.drop(columns='technology')\n",
    "    x = x[x['capacity_addition'] != 0]\n",
    "    x = x.rename(columns={'year': 'year_construction'})\n",
    "    x = x.rename(columns={'capacity_addition': 'capacity_existing'})\n",
    "    x['year_construction'] = x['year_construction'] + 2025 \n",
    "    \n",
    "    #clean up table, differentiate between node and edge\n",
    "    if path.parent.name == 'set_transport_technologies':\n",
    "        x = x.rename(columns={'location': 'edge'})\n",
    "\n",
    "    else:\n",
    "        x = x.rename(columns={'location': 'node'})\n",
    "\n",
    "    #Safe\n",
    "    x.to_csv(filepath, index=False)"
   ],
   "metadata": {
    "collapsed": false,
    "ExecuteTime": {
     "end_time": "2024-03-25T18:46:28.341891Z",
     "start_time": "2024-03-25T18:46:28.300352Z"
    }
   },
   "id": "74d03fb0b90ce096"
  },
  {
   "cell_type": "code",
   "execution_count": null,
   "outputs": [],
   "source": [],
   "metadata": {
    "collapsed": false
   },
   "id": "f810bc212875857a"
  }
 ],
 "metadata": {
  "kernelspec": {
   "display_name": "Python 3",
   "language": "python",
   "name": "python3"
  },
  "language_info": {
   "codemirror_mode": {
    "name": "ipython",
    "version": 2
   },
   "file_extension": ".py",
   "mimetype": "text/x-python",
   "name": "python",
   "nbconvert_exporter": "python",
   "pygments_lexer": "ipython2",
   "version": "2.7.6"
  }
 },
 "nbformat": 4,
 "nbformat_minor": 5
}
