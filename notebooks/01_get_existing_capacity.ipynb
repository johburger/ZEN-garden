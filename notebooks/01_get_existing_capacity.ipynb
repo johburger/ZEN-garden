{
 "cells": [
  {
   "cell_type": "code",
   "execution_count": 27,
   "id": "initial_id",
   "metadata": {
    "collapsed": true,
    "ExecuteTime": {
     "end_time": "2024-03-12T05:48:56.985367Z",
     "start_time": "2024-03-12T05:48:56.912488Z"
    }
   },
   "outputs": [
    {
     "name": "stdout",
     "output_type": "stream",
     "text": [
      "The autoreload extension is already loaded. To reload it, use:\n",
      "  %reload_ext autoreload\n"
     ]
    }
   ],
   "source": [
    "%load_ext autoreload\n",
    "%autoreload 2\n",
    "%matplotlib inline\n",
    "\n",
    "# import\n",
    "import pandas as pd\n",
    "from pprint import pprint\n",
    "from zen_garden.postprocess.results import Results\n",
    "from pathlib import Path\n",
    "from os import chdir\n",
    "\n",
    "# set path\n",
    "path = Path('/Users/davidbertschinger/Documents/GitHub/ZEN-garden/notebooks')\n",
    "chdir(path)"
   ]
  },
  {
   "cell_type": "code",
   "execution_count": 28,
   "outputs": [],
   "source": [
    "# define import path\n",
    "path_import = Path(\"../data/outputs/04_CCTS_WTE_Cement_01_optimal_design\")\n",
    "\n",
    "# define export path\n",
    "path_export = Path(\"/Users/davidbertschinger/Documents/GitHub/ZEN-garden/data/04_CCTS_WTE_Cement_02_failure\")"
   ],
   "metadata": {
    "collapsed": false,
    "ExecuteTime": {
     "end_time": "2024-03-12T05:48:57.544734Z",
     "start_time": "2024-03-12T05:48:57.511293Z"
    }
   },
   "id": "780397ba889ec419"
  },
  {
   "cell_type": "code",
   "execution_count": 29,
   "outputs": [],
   "source": [
    "# get cost optimal solution\n",
    "results = Results(path_import)"
   ],
   "metadata": {
    "collapsed": false,
    "ExecuteTime": {
     "end_time": "2024-03-12T05:48:58.232101Z",
     "start_time": "2024-03-12T05:48:58.198520Z"
    }
   },
   "id": "fde41797d10bccf6"
  },
  {
   "cell_type": "code",
   "execution_count": 30,
   "outputs": [
    {
     "data": {
      "text/plain": "technology     capacity_type  location               year\ncapture_amine  power          cement_1_CH            0        0.000000\n                                                     1        0.000000\n                                                     2       45.515506\n                                                     3        0.000000\n                                                     4        0.000000\n                                                               ...    \ntruck_batch    power          waste_9_CH-waste_8_CH  5        0.000000\n                                                     6        0.000000\n                                                     7        0.000000\n                                                     8        0.000000\n                                                     9        0.000000\nName: capacity_addition, Length: 24570, dtype: float64"
     },
     "execution_count": 30,
     "metadata": {},
     "output_type": "execute_result"
    }
   ],
   "source": [
    "# get capacity addition and save as csv\n",
    "results.get_df('capacity_addition', to_csv=\"capacity_addition\")"
   ],
   "metadata": {
    "collapsed": false,
    "ExecuteTime": {
     "end_time": "2024-03-12T05:48:58.918391Z",
     "start_time": "2024-03-12T05:48:58.842668Z"
    }
   },
   "id": "fc5db256355e390e"
  },
  {
   "cell_type": "code",
   "execution_count": 31,
   "outputs": [],
   "source": [
    "# get capacity addition csv\n",
    "df = pd.read_csv('capacity_addition.csv')"
   ],
   "metadata": {
    "collapsed": false,
    "ExecuteTime": {
     "end_time": "2024-03-12T05:49:00.151030Z",
     "start_time": "2024-03-12T05:49:00.111227Z"
    }
   },
   "id": "c5b46bb8b4725cdb"
  },
  {
   "cell_type": "code",
   "execution_count": 32,
   "outputs": [],
   "source": [
    "# create existing capacity files\n",
    "\n",
    "# find unique technologies\n",
    "technology = df['technology'].unique()\n",
    "\n",
    "for i in range(len(technology)):\n",
    "     \n",
    "    #Get table of one technology \n",
    "    tec = technology[i]\n",
    "    x = df[df['technology'] == tec]\n",
    "    \n",
    "    #Set path\n",
    "    parent_path = Path(path_export)\n",
    "    path = [file for file in Path(parent_path).rglob(tec)]\n",
    "    path = path[0]\n",
    "    filepath = Path(str(path)+'/capacity_existing.csv')\n",
    "    \n",
    "    #Clean up table\n",
    "    x = x.drop(columns='capacity_type')\n",
    "    x = x.drop(columns='technology')\n",
    "    x = x[x['capacity_addition'] != 0]\n",
    "    x = x.rename(columns={'year': 'year_construction'})\n",
    "    x = x.rename(columns={'capacity_addition': 'capacity_existing'})\n",
    "    x['year_construction'] = x['year_construction'] + 2025 \n",
    "    \n",
    "    if  tec == 'biomethane_boiler':\n",
    "        x['capacity_existing'] = x['capacity_existing'] / 1000\n",
    "    \n",
    "    #clean up table, differentiate between node and edge\n",
    "    if path.parent.name == 'set_transport_technologies':\n",
    "        x = x.rename(columns={'location': 'edge'})\n",
    "\n",
    "    else:\n",
    "        x = x.rename(columns={'location': 'node'})\n",
    "\n",
    "    #Safe\n",
    "    x.to_csv(filepath, index=False)"
   ],
   "metadata": {
    "collapsed": false,
    "ExecuteTime": {
     "end_time": "2024-03-12T05:49:01.230532Z",
     "start_time": "2024-03-12T05:49:01.141959Z"
    }
   },
   "id": "74d03fb0b90ce096"
  },
  {
   "cell_type": "code",
   "execution_count": null,
   "outputs": [],
   "source": [],
   "metadata": {
    "collapsed": false
   },
   "id": "64a00f79c9b278ff"
  }
 ],
 "metadata": {
  "kernelspec": {
   "display_name": "Python 3",
   "language": "python",
   "name": "python3"
  },
  "language_info": {
   "codemirror_mode": {
    "name": "ipython",
    "version": 2
   },
   "file_extension": ".py",
   "mimetype": "text/x-python",
   "name": "python",
   "nbconvert_exporter": "python",
   "pygments_lexer": "ipython2",
   "version": "2.7.6"
  }
 },
 "nbformat": 4,
 "nbformat_minor": 5
}
