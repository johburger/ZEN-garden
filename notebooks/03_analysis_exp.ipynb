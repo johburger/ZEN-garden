{
 "cells": [
  {
   "cell_type": "code",
   "execution_count": 1,
   "id": "initial_id",
   "metadata": {
    "collapsed": true,
    "ExecuteTime": {
     "end_time": "2024-01-24T14:02:42.250028Z",
     "start_time": "2024-01-24T14:02:41.985898Z"
    }
   },
   "outputs": [],
   "source": [
    "import pandas as pd\n",
    "%load_ext autoreload\n",
    "%autoreload 2"
   ]
  },
  {
   "cell_type": "code",
   "execution_count": 2,
   "outputs": [],
   "source": [
    "%matplotlib inline\n",
    "\n",
    "from pprint import pprint\n",
    "from zen_garden.postprocess.results import Results\n",
    "\n",
    "from pathlib import Path\n",
    "from os import chdir"
   ],
   "metadata": {
    "collapsed": false,
    "ExecuteTime": {
     "end_time": "2024-01-24T14:02:43.207166Z",
     "start_time": "2024-01-24T14:02:42.249837Z"
    }
   },
   "id": "780397ba889ec419"
  },
  {
   "cell_type": "code",
   "execution_count": 3,
   "outputs": [],
   "source": [
    "#Set path\n",
    "path = Path('/Users/davidbertschinger/Documents/GitHub/ZEN-garden/notebooks')\n",
    "chdir(path)"
   ],
   "metadata": {
    "collapsed": false,
    "ExecuteTime": {
     "end_time": "2024-01-24T14:02:43.224836Z",
     "start_time": "2024-01-24T14:02:43.207412Z"
    }
   },
   "id": "1993ef780d414ee9"
  },
  {
   "cell_type": "code",
   "execution_count": 4,
   "outputs": [],
   "source": [
    "# cost optimal solution\n",
    "optimal_res = Results(\"../data/outputs/03_example_CCTS\")\n",
    "\n",
    "# cost optimal solution with existing capacities and n-1\n",
    "n1_0_res = Results(\"../data/outputs/03_example_CCTS_N-1\")\n",
    "n1_inf_res = Results(\"../data/outputs/03_example_CCTS_N-1_inf\")"
   ],
   "metadata": {
    "collapsed": false,
    "ExecuteTime": {
     "end_time": "2024-01-24T14:02:43.421743Z",
     "start_time": "2024-01-24T14:02:43.224718Z"
    }
   },
   "id": "c77fd62cb57951e3"
  },
  {
   "cell_type": "code",
   "execution_count": 5,
   "outputs": [
    {
     "name": "stderr",
     "output_type": "stream",
     "text": [
      "Comparing the model parameters of ['03_example_CCTS', '03_example_CCTS_N-1']\n",
      "Components {'failure_rate', 'nominal_flow_transport', 'down_time'} are missing from 03_example_CCTS\n",
      "Compare parameter capacity_existing:  17%|█▋        | 8/48 [00:00<00:00, 43.17it/s]          Component capacity_existing does not have matching index or columns\n",
      "Parameter capacity_existing has different values\n",
      "Compare parameter capex_capacity_existing:  25%|██▌       | 12/48 [00:00<00:00, 43.17it/s]    Component capex_capacity_existing does not have matching index or columns\n",
      "Parameter capex_capacity_existing has different values\n",
      "Compare parameter lifetime_existing:  65%|██████▍   | 31/48 [00:00<00:00, 72.16it/s]                   Component lifetime_existing does not have matching index or columns\n",
      "Parameter lifetime_existing has different values\n",
      "Compare parameter transport_loss_factor: 100%|██████████| 48/48 [00:00<00:00, 67.43it/s]                  \n"
     ]
    },
    {
     "data": {
      "text/plain": "{'capacity_existing':                                                                                             03_example_CCTS  \\\n technology                   capacity_type location                    technology_existing                    \n capture_amine                power         swiss_storage_CH            0                                0.0   \n                                            waste_1_CH                  0                                0.0   \n                                            waste_2_CH                  0                                0.0   \n compression_16_110bar        power         swiss_storage_CH            0                                0.0   \n                                            waste_1_CH                  0                                0.0   \n                                            waste_2_CH                  0                                0.0   \n condition_110bar             power         swiss_storage_CH            0                                0.0   \n                                            waste_1_CH                  0                                0.0   \n                                            waste_2_CH                  0                                0.0   \n condition_16bar              power         swiss_storage_CH            0                                0.0   \n                                            waste_1_CH                  0                                0.0   \n                                            waste_2_CH                  0                                0.0   \n decompression_110_16bar      power         swiss_storage_CH            0                                0.0   \n                                            waste_1_CH                  0                                0.0   \n                                            waste_2_CH                  0                                0.0   \n decompression_110bar_ambient power         swiss_storage_CH            0                                0.0   \n                                            waste_1_CH                  0                                0.0   \n                                            waste_2_CH                  0                                0.0   \n emergency_storage            power         swiss_storage_CH            0                                0.0   \n                                            waste_1_CH                  0                                0.0   \n                                            waste_2_CH                  0                                0.0   \n emitter_wte                  power         swiss_storage_CH            0                                0.0   \n                                            waste_1_CH                  0                                0.0   \n                                            waste_2_CH                  0                                0.0   \n heat_pump                    power         swiss_storage_CH            0                                0.0   \n                                            waste_1_CH                  0                                0.0   \n                                            waste_2_CH                  0                                0.0   \n permanent_storage            power         swiss_storage_CH            0                                0.0   \n                                            waste_1_CH                  0                                0.0   \n                                            waste_2_CH                  0                                0.0   \n truck_batch                  power         waste_1_CH-swiss_storage_CH 0                                0.0   \n                                            waste_1_CH-waste_2_CH       0                                0.0   \n                                            waste_2_CH-swiss_storage_CH 0                                0.0   \n                                            waste_2_CH-waste_1_CH       0                                0.0   \n capture_amine                power         swiss_storage_CH            1                                NaN   \n                                            waste_1_CH                  1                                NaN   \n                                            waste_2_CH                  1                                NaN   \n condition_16bar              power         swiss_storage_CH            1                                NaN   \n                                            waste_1_CH                  1                                NaN   \n                                            waste_2_CH                  1                                NaN   \n heat_pump                    power         swiss_storage_CH            1                                NaN   \n                                            waste_1_CH                  1                                NaN   \n                                            waste_2_CH                  1                                NaN   \n permanent_storage            power         swiss_storage_CH            1                                NaN   \n                                            waste_1_CH                  1                                NaN   \n                                            waste_2_CH                  1                                NaN   \n truck_batch                  power         waste_1_CH-swiss_storage_CH 1                                NaN   \n                                            waste_1_CH-waste_2_CH       1                                NaN   \n                                            waste_2_CH-swiss_storage_CH 1                                NaN   \n                                            waste_2_CH-waste_1_CH       1                                NaN   \n \n                                                                                             03_example_CCTS_N-1  \n technology                   capacity_type location                    technology_existing                       \n capture_amine                power         swiss_storage_CH            0                               0.000000  \n                                            waste_1_CH                  0                               1.171294  \n                                            waste_2_CH                  0                               0.874475  \n compression_16_110bar        power         swiss_storage_CH            0                               0.000000  \n                                            waste_1_CH                  0                               0.000000  \n                                            waste_2_CH                  0                               0.000000  \n condition_110bar             power         swiss_storage_CH            0                               0.000000  \n                                            waste_1_CH                  0                               0.000000  \n                                            waste_2_CH                  0                               0.000000  \n condition_16bar              power         swiss_storage_CH            0                               0.000000  \n                                            waste_1_CH                  0                               0.001125  \n                                            waste_2_CH                  0                               0.000840  \n decompression_110_16bar      power         swiss_storage_CH            0                               0.000000  \n                                            waste_1_CH                  0                               0.000000  \n                                            waste_2_CH                  0                               0.000000  \n decompression_110bar_ambient power         swiss_storage_CH            0                               0.000000  \n                                            waste_1_CH                  0                               0.000000  \n                                            waste_2_CH                  0                               0.000000  \n emergency_storage            power         swiss_storage_CH            0                               0.000000  \n                                            waste_1_CH                  0                               0.000000  \n                                            waste_2_CH                  0                               0.647712  \n emitter_wte                  power         swiss_storage_CH            0                               0.000000  \n                                            waste_1_CH                  0                               0.001255  \n                                            waste_2_CH                  0                               0.002510  \n heat_pump                    power         swiss_storage_CH            0                               0.000000  \n                                            waste_1_CH                  0                               8.270949  \n                                            waste_2_CH                  0                               6.174995  \n permanent_storage            power         swiss_storage_CH            0                              17.862992  \n                                            waste_1_CH                  0                               0.000000  \n                                            waste_2_CH                  0                               0.000000  \n truck_batch                  power         waste_1_CH-swiss_storage_CH 0                              10.227416  \n                                            waste_1_CH-waste_2_CH       0                               0.000000  \n                                            waste_2_CH-swiss_storage_CH 0                               7.635671  \n                                            waste_2_CH-waste_1_CH       0                               0.000000  \n capture_amine                power         swiss_storage_CH            1                               0.000000  \n                                            waste_1_CH                  1                               0.000000  \n                                            waste_2_CH                  1                               1.468113  \n condition_16bar              power         swiss_storage_CH            1                               0.000000  \n                                            waste_1_CH                  1                               0.000000  \n                                            waste_2_CH                  1                               0.001410  \n heat_pump                    power         swiss_storage_CH            1                               0.000000  \n                                            waste_1_CH                  1                               0.000000  \n                                            waste_2_CH                  1                              10.366902  \n permanent_storage            power         swiss_storage_CH            1                              12.171383  \n                                            waste_1_CH                  1                               0.000000  \n                                            waste_2_CH                  1                               0.000000  \n truck_batch                  power         waste_1_CH-swiss_storage_CH 1                               0.000000  \n                                            waste_1_CH-waste_2_CH       1                               0.000000  \n                                            waste_2_CH-swiss_storage_CH 1                              12.171448  \n                                            waste_2_CH-waste_1_CH       1                               0.000000  ,\n 'capex_capacity_existing':                                                                                             03_example_CCTS  \\\n technology                   capacity_type location                    technology_existing                    \n capture_amine                power         swiss_storage_CH            0                                0.0   \n                                            waste_1_CH                  0                                0.0   \n                                            waste_2_CH                  0                                0.0   \n compression_16_110bar        power         swiss_storage_CH            0                                0.0   \n                                            waste_1_CH                  0                                0.0   \n                                            waste_2_CH                  0                                0.0   \n condition_110bar             power         swiss_storage_CH            0                                0.0   \n                                            waste_1_CH                  0                                0.0   \n                                            waste_2_CH                  0                                0.0   \n condition_16bar              power         swiss_storage_CH            0                                0.0   \n                                            waste_1_CH                  0                                0.0   \n                                            waste_2_CH                  0                                0.0   \n decompression_110_16bar      power         swiss_storage_CH            0                                0.0   \n                                            waste_1_CH                  0                                0.0   \n                                            waste_2_CH                  0                                0.0   \n decompression_110bar_ambient power         swiss_storage_CH            0                                0.0   \n                                            waste_1_CH                  0                                0.0   \n                                            waste_2_CH                  0                                0.0   \n emergency_storage            power         swiss_storage_CH            0                                0.0   \n                                            waste_1_CH                  0                                0.0   \n                                            waste_2_CH                  0                                0.0   \n emitter_wte                  power         swiss_storage_CH            0                                0.0   \n                                            waste_1_CH                  0                                0.0   \n                                            waste_2_CH                  0                                0.0   \n heat_pump                    power         swiss_storage_CH            0                                0.0   \n                                            waste_1_CH                  0                                0.0   \n                                            waste_2_CH                  0                                0.0   \n permanent_storage            power         swiss_storage_CH            0                                0.0   \n                                            waste_1_CH                  0                                0.0   \n                                            waste_2_CH                  0                                0.0   \n truck_batch                  power         waste_1_CH-swiss_storage_CH 0                                0.0   \n                                            waste_1_CH-waste_2_CH       0                                0.0   \n                                            waste_2_CH-swiss_storage_CH 0                                0.0   \n                                            waste_2_CH-waste_1_CH       0                                0.0   \n capture_amine                power         swiss_storage_CH            1                                NaN   \n                                            waste_1_CH                  1                                NaN   \n                                            waste_2_CH                  1                                NaN   \n condition_16bar              power         swiss_storage_CH            1                                NaN   \n                                            waste_1_CH                  1                                NaN   \n                                            waste_2_CH                  1                                NaN   \n heat_pump                    power         swiss_storage_CH            1                                NaN   \n                                            waste_1_CH                  1                                NaN   \n                                            waste_2_CH                  1                                NaN   \n permanent_storage            power         swiss_storage_CH            1                                NaN   \n                                            waste_1_CH                  1                                NaN   \n                                            waste_2_CH                  1                                NaN   \n truck_batch                  power         waste_1_CH-swiss_storage_CH 1                                NaN   \n                                            waste_1_CH-waste_2_CH       1                                NaN   \n                                            waste_2_CH-swiss_storage_CH 1                                NaN   \n                                            waste_2_CH-waste_1_CH       1                                NaN   \n \n                                                                                             03_example_CCTS_N-1  \n technology                   capacity_type location                    technology_existing                       \n capture_amine                power         swiss_storage_CH            0                           0.000000e+00  \n                                            waste_1_CH                  0                           2.116294e+06  \n                                            waste_2_CH                  0                           1.580001e+06  \n compression_16_110bar        power         swiss_storage_CH            0                           0.000000e+00  \n                                            waste_1_CH                  0                           0.000000e+00  \n                                            waste_2_CH                  0                           0.000000e+00  \n condition_110bar             power         swiss_storage_CH            0                           0.000000e+00  \n                                            waste_1_CH                  0                           0.000000e+00  \n                                            waste_2_CH                  0                           0.000000e+00  \n condition_16bar              power         swiss_storage_CH            0                           0.000000e+00  \n                                            waste_1_CH                  0                           2.250031e-03  \n                                            waste_2_CH                  0                           1.679848e-03  \n decompression_110_16bar      power         swiss_storage_CH            0                           0.000000e+00  \n                                            waste_1_CH                  0                           0.000000e+00  \n                                            waste_2_CH                  0                           0.000000e+00  \n decompression_110bar_ambient power         swiss_storage_CH            0                           0.000000e+00  \n                                            waste_1_CH                  0                           0.000000e+00  \n                                            waste_2_CH                  0                           0.000000e+00  \n emergency_storage            power         swiss_storage_CH            0                           0.000000e+00  \n                                            waste_1_CH                  0                           0.000000e+00  \n                                            waste_2_CH                  0                           0.000000e+00  \n emitter_wte                  power         swiss_storage_CH            0                           0.000000e+00  \n                                            waste_1_CH                  0                           0.000000e+00  \n                                            waste_2_CH                  0                           0.000000e+00  \n heat_pump                    power         swiss_storage_CH            0                           0.000000e+00  \n                                            waste_1_CH                  0                           3.721927e+06  \n                                            waste_2_CH                  0                           2.778748e+06  \n permanent_storage            power         swiss_storage_CH            0                           3.758088e+06  \n                                            waste_1_CH                  0                           0.000000e+00  \n                                            waste_2_CH                  0                           0.000000e+00  \n truck_batch                  power         waste_1_CH-swiss_storage_CH 0                           4.090966e-01  \n                                            waste_1_CH-waste_2_CH       0                           0.000000e+00  \n                                            waste_2_CH-swiss_storage_CH 0                           9.162805e-01  \n                                            waste_2_CH-waste_1_CH       0                           0.000000e+00  \n capture_amine                power         swiss_storage_CH            1                           0.000000e+00  \n                                            waste_1_CH                  1                           0.000000e+00  \n                                            waste_2_CH                  1                           2.652587e+06  \n condition_16bar              power         swiss_storage_CH            1                           0.000000e+00  \n                                            waste_1_CH                  1                           0.000000e+00  \n                                            waste_2_CH                  1                           2.820215e-03  \n heat_pump                    power         swiss_storage_CH            1                           0.000000e+00  \n                                            waste_1_CH                  1                           0.000000e+00  \n                                            waste_2_CH                  1                           4.665106e+06  \n permanent_storage            power         swiss_storage_CH            1                           2.560664e+06  \n                                            waste_1_CH                  1                           0.000000e+00  \n                                            waste_2_CH                  1                           0.000000e+00  \n truck_batch                  power         waste_1_CH-swiss_storage_CH 1                           0.000000e+00  \n                                            waste_1_CH-waste_2_CH       1                           0.000000e+00  \n                                            waste_2_CH-swiss_storage_CH 1                           1.460574e+00  \n                                            waste_2_CH-waste_1_CH       1                           0.000000e+00  ,\n 'lifetime_existing':                                                                               03_example_CCTS  \\\n technology                   location                    technology_existing                    \n capture_amine                swiss_storage_CH            0                                0.0   \n                              waste_1_CH                  0                                0.0   \n                              waste_2_CH                  0                                0.0   \n compression_16_110bar        swiss_storage_CH            0                                0.0   \n                              waste_1_CH                  0                                0.0   \n                              waste_2_CH                  0                                0.0   \n condition_110bar             swiss_storage_CH            0                                0.0   \n                              waste_1_CH                  0                                0.0   \n                              waste_2_CH                  0                                0.0   \n condition_16bar              swiss_storage_CH            0                                0.0   \n                              waste_1_CH                  0                                0.0   \n                              waste_2_CH                  0                                0.0   \n decompression_110_16bar      swiss_storage_CH            0                                0.0   \n                              waste_1_CH                  0                                0.0   \n                              waste_2_CH                  0                                0.0   \n decompression_110bar_ambient swiss_storage_CH            0                                0.0   \n                              waste_1_CH                  0                                0.0   \n                              waste_2_CH                  0                                0.0   \n emergency_storage            swiss_storage_CH            0                                0.0   \n                              waste_1_CH                  0                                0.0   \n                              waste_2_CH                  0                                0.0   \n emitter_wte                  swiss_storage_CH            0                                0.0   \n                              waste_1_CH                  0                                0.0   \n                              waste_2_CH                  0                                0.0   \n heat_pump                    swiss_storage_CH            0                                0.0   \n                              waste_1_CH                  0                                0.0   \n                              waste_2_CH                  0                                0.0   \n permanent_storage            swiss_storage_CH            0                                0.0   \n                              waste_1_CH                  0                                0.0   \n                              waste_2_CH                  0                                0.0   \n truck_batch                  waste_1_CH-swiss_storage_CH 0                                0.0   \n                              waste_1_CH-waste_2_CH       0                                0.0   \n                              waste_2_CH-swiss_storage_CH 0                                0.0   \n                              waste_2_CH-waste_1_CH       0                                0.0   \n capture_amine                swiss_storage_CH            1                                NaN   \n                              waste_1_CH                  1                                NaN   \n                              waste_2_CH                  1                                NaN   \n condition_16bar              swiss_storage_CH            1                                NaN   \n                              waste_1_CH                  1                                NaN   \n                              waste_2_CH                  1                                NaN   \n heat_pump                    swiss_storage_CH            1                                NaN   \n                              waste_1_CH                  1                                NaN   \n                              waste_2_CH                  1                                NaN   \n permanent_storage            swiss_storage_CH            1                                NaN   \n                              waste_1_CH                  1                                NaN   \n                              waste_2_CH                  1                                NaN   \n truck_batch                  waste_1_CH-swiss_storage_CH 1                                NaN   \n                              waste_1_CH-waste_2_CH       1                                NaN   \n                              waste_2_CH-swiss_storage_CH 1                                NaN   \n                              waste_2_CH-waste_1_CH       1                                NaN   \n \n                                                                               03_example_CCTS_N-1  \n technology                   location                    technology_existing                       \n capture_amine                swiss_storage_CH            0                                    0.0  \n                              waste_1_CH                  0                                   21.0  \n                              waste_2_CH                  0                                   21.0  \n compression_16_110bar        swiss_storage_CH            0                                    0.0  \n                              waste_1_CH                  0                                    0.0  \n                              waste_2_CH                  0                                    0.0  \n condition_110bar             swiss_storage_CH            0                                    0.0  \n                              waste_1_CH                  0                                    0.0  \n                              waste_2_CH                  0                                    0.0  \n condition_16bar              swiss_storage_CH            0                                    0.0  \n                              waste_1_CH                  0                                   21.0  \n                              waste_2_CH                  0                                   21.0  \n decompression_110_16bar      swiss_storage_CH            0                                    0.0  \n                              waste_1_CH                  0                                    0.0  \n                              waste_2_CH                  0                                    0.0  \n decompression_110bar_ambient swiss_storage_CH            0                                    0.0  \n                              waste_1_CH                  0                                    0.0  \n                              waste_2_CH                  0                                    0.0  \n emergency_storage            swiss_storage_CH            0                                    0.0  \n                              waste_1_CH                  0                                    0.0  \n                              waste_2_CH                  0                                   53.0  \n emitter_wte                  swiss_storage_CH            0                                    0.0  \n                              waste_1_CH                  0                                   50.0  \n                              waste_2_CH                  0                                   50.0  \n heat_pump                    swiss_storage_CH            0                                    0.0  \n                              waste_1_CH                  0                                   21.0  \n                              waste_2_CH                  0                                   21.0  \n permanent_storage            swiss_storage_CH            0                                   26.0  \n                              waste_1_CH                  0                                    0.0  \n                              waste_2_CH                  0                                    0.0  \n truck_batch                  waste_1_CH-swiss_storage_CH 0                                   51.0  \n                              waste_1_CH-waste_2_CH       0                                    0.0  \n                              waste_2_CH-swiss_storage_CH 0                                   51.0  \n                              waste_2_CH-waste_1_CH       0                                    0.0  \n capture_amine                swiss_storage_CH            1                                    0.0  \n                              waste_1_CH                  1                                    0.0  \n                              waste_2_CH                  1                                   23.0  \n condition_16bar              swiss_storage_CH            1                                    0.0  \n                              waste_1_CH                  1                                    0.0  \n                              waste_2_CH                  1                                   23.0  \n heat_pump                    swiss_storage_CH            1                                    0.0  \n                              waste_1_CH                  1                                    0.0  \n                              waste_2_CH                  1                                   23.0  \n permanent_storage            swiss_storage_CH            1                                   28.0  \n                              waste_1_CH                  1                                    0.0  \n                              waste_2_CH                  1                                    0.0  \n truck_batch                  waste_1_CH-swiss_storage_CH 1                                    0.0  \n                              waste_1_CH-waste_2_CH       1                                    0.0  \n                              waste_2_CH-swiss_storage_CH 1                                   53.0  \n                              waste_2_CH-waste_1_CH       1                                    0.0  }"
     },
     "execution_count": 5,
     "metadata": {},
     "output_type": "execute_result"
    }
   ],
   "source": [
    "# difference between model params\n",
    "# for larger models, this can take several minutes\n",
    "diff_params = Results.compare_model_parameters([optimal_res, n1_0_res])\n",
    "diff_params"
   ],
   "metadata": {
    "collapsed": false,
    "ExecuteTime": {
     "end_time": "2024-01-24T14:02:44.185339Z",
     "start_time": "2024-01-24T14:02:43.422743Z"
    }
   },
   "id": "a17f1f53f82d4500"
  },
  {
   "cell_type": "code",
   "execution_count": 45,
   "outputs": [
    {
     "name": "stderr",
     "output_type": "stream",
     "text": [
      "Comparing the model variables of ['03_example_CCTS', '03_example_CCTS_N-1']\n",
      "Components {'operation_probability'} are missing from 03_example_CCTS\n",
      "Compare variable capacity:   3%|▎         | 1/35 [00:00<00:00, 99864.38it/s]Variable capacity has different values\n",
      "Compare variable capacity_addition:   6%|▌         | 2/35 [00:00<00:00, 92.38it/s]Variable capacity_addition has different values\n",
      "Compare variable capacity_approximation:   9%|▊         | 3/35 [00:00<00:00, 77.13it/s]Variable capacity_approximation has different values\n",
      "Compare variable capacity_investment:  11%|█▏        | 4/35 [00:00<00:00, 73.98it/s]   Variable capacity_investment has different values\n",
      "Compare variable capex_approximation:  14%|█▍        | 5/35 [00:00<00:00, 72.63it/s]Variable capex_approximation has different values\n",
      "Compare variable capex_yearly:  17%|█▋        | 6/35 [00:00<00:00, 71.89it/s]       Variable capex_yearly has different values\n",
      "Compare variable carbon_emissions_technology:  37%|███▋      | 13/35 [00:00<00:00, 75.78it/s]     Component carbon_emissions_technology does not have matching index or columns\n"
     ]
    },
    {
     "ename": "AssertionError",
     "evalue": "Length of new_levels (3) must be <= self.nlevels (2)",
     "output_type": "error",
     "traceback": [
      "\u001B[0;31m---------------------------------------------------------------------------\u001B[0m",
      "\u001B[0;31mAssertionError\u001B[0m                            Traceback (most recent call last)",
      "Cell \u001B[0;32mIn[45], line 2\u001B[0m\n\u001B[1;32m      1\u001B[0m \u001B[38;5;66;03m# you can also compare the model variable values. However, even a small change in the input data might have a significant impact on the results, which then leads to large differences in the variable values\u001B[39;00m\n\u001B[0;32m----> 2\u001B[0m diff_var \u001B[38;5;241m=\u001B[39m Results\u001B[38;5;241m.\u001B[39mcompare_model_variables([optimal_res,n1_0_res],scenarios\u001B[38;5;241m=\u001B[39m())\n\u001B[1;32m      3\u001B[0m diff_var\n",
      "File \u001B[0;32m~/Documents/GitHub/ZEN-garden/zen_garden/postprocess/results.py:618\u001B[0m, in \u001B[0;36mResults.compare_model_variables\u001B[0;34m(cls, results, compare_total, scenarios)\u001B[0m\n\u001B[1;32m    616\u001B[0m pbar\u001B[38;5;241m.\u001B[39mset_description(\u001B[38;5;124mf\u001B[39m\u001B[38;5;124m\"\u001B[39m\u001B[38;5;124mCompare variable \u001B[39m\u001B[38;5;132;01m{\u001B[39;00mvar\u001B[38;5;132;01m}\u001B[39;00m\u001B[38;5;124m\"\u001B[39m)\n\u001B[1;32m    617\u001B[0m \u001B[38;5;66;03m# check var\u001B[39;00m\n\u001B[0;32m--> 618\u001B[0m comparison_df \u001B[38;5;241m=\u001B[39m \u001B[38;5;28mcls\u001B[39m\u001B[38;5;241m.\u001B[39mcompare_component_values(results, var, compare_total, scenarios\u001B[38;5;241m=\u001B[39mscenarios)\n\u001B[1;32m    619\u001B[0m \u001B[38;5;28;01mif\u001B[39;00m \u001B[38;5;129;01mnot\u001B[39;00m comparison_df\u001B[38;5;241m.\u001B[39mempty:\n\u001B[1;32m    620\u001B[0m     logging\u001B[38;5;241m.\u001B[39minfo(\u001B[38;5;124mf\u001B[39m\u001B[38;5;124m\"\u001B[39m\u001B[38;5;124mVariable \u001B[39m\u001B[38;5;132;01m{\u001B[39;00mvar\u001B[38;5;132;01m}\u001B[39;00m\u001B[38;5;124m has different values\u001B[39m\u001B[38;5;124m\"\u001B[39m)\n",
      "File \u001B[0;32m~/Documents/GitHub/ZEN-garden/zen_garden/postprocess/results.py:656\u001B[0m, in \u001B[0;36mResults.compare_component_values\u001B[0;34m(cls, results, component, compare_total, scenarios, rtol)\u001B[0m\n\u001B[1;32m    654\u001B[0m \u001B[38;5;28;01mif\u001B[39;00m mismatched_index:\n\u001B[1;32m    655\u001B[0m     logging\u001B[38;5;241m.\u001B[39minfo(\u001B[38;5;124mf\u001B[39m\u001B[38;5;124m\"\u001B[39m\u001B[38;5;124mComponent \u001B[39m\u001B[38;5;132;01m{\u001B[39;00mcomponent\u001B[38;5;132;01m}\u001B[39;00m\u001B[38;5;124m does not have matching index or columns\u001B[39m\u001B[38;5;124m\"\u001B[39m)\n\u001B[0;32m--> 656\u001B[0m     comparison_df \u001B[38;5;241m=\u001B[39m pd\u001B[38;5;241m.\u001B[39mconcat([val_0,val_1],keys\u001B[38;5;241m=\u001B[39mresult_names,axis\u001B[38;5;241m=\u001B[39m\u001B[38;5;241m1\u001B[39m)\n\u001B[1;32m    657\u001B[0m     comparison_df \u001B[38;5;241m=\u001B[39m comparison_df\u001B[38;5;241m.\u001B[39msort_index(axis\u001B[38;5;241m=\u001B[39m\u001B[38;5;241m1\u001B[39m, level\u001B[38;5;241m=\u001B[39m\u001B[38;5;241m1\u001B[39m)\n\u001B[1;32m    658\u001B[0m     \u001B[38;5;28;01mreturn\u001B[39;00m comparison_df\n",
      "File \u001B[0;32m~/anaconda3/envs/zen-garden-linopy/lib/python3.11/site-packages/pandas/core/reshape/concat.py:393\u001B[0m, in \u001B[0;36mconcat\u001B[0;34m(objs, axis, join, ignore_index, keys, levels, names, verify_integrity, sort, copy)\u001B[0m\n\u001B[1;32m    378\u001B[0m     copy \u001B[38;5;241m=\u001B[39m \u001B[38;5;28;01mFalse\u001B[39;00m\n\u001B[1;32m    380\u001B[0m op \u001B[38;5;241m=\u001B[39m _Concatenator(\n\u001B[1;32m    381\u001B[0m     objs,\n\u001B[1;32m    382\u001B[0m     axis\u001B[38;5;241m=\u001B[39maxis,\n\u001B[0;32m   (...)\u001B[0m\n\u001B[1;32m    390\u001B[0m     sort\u001B[38;5;241m=\u001B[39msort,\n\u001B[1;32m    391\u001B[0m )\n\u001B[0;32m--> 393\u001B[0m \u001B[38;5;28;01mreturn\u001B[39;00m op\u001B[38;5;241m.\u001B[39mget_result()\n",
      "File \u001B[0;32m~/anaconda3/envs/zen-garden-linopy/lib/python3.11/site-packages/pandas/core/reshape/concat.py:667\u001B[0m, in \u001B[0;36m_Concatenator.get_result\u001B[0;34m(self)\u001B[0m\n\u001B[1;32m    665\u001B[0m \u001B[38;5;28;01mfor\u001B[39;00m obj \u001B[38;5;129;01min\u001B[39;00m \u001B[38;5;28mself\u001B[39m\u001B[38;5;241m.\u001B[39mobjs:\n\u001B[1;32m    666\u001B[0m     indexers \u001B[38;5;241m=\u001B[39m {}\n\u001B[0;32m--> 667\u001B[0m     \u001B[38;5;28;01mfor\u001B[39;00m ax, new_labels \u001B[38;5;129;01min\u001B[39;00m \u001B[38;5;28menumerate\u001B[39m(\u001B[38;5;28mself\u001B[39m\u001B[38;5;241m.\u001B[39mnew_axes):\n\u001B[1;32m    668\u001B[0m         \u001B[38;5;66;03m# ::-1 to convert BlockManager ax to DataFrame ax\u001B[39;00m\n\u001B[1;32m    669\u001B[0m         \u001B[38;5;28;01mif\u001B[39;00m ax \u001B[38;5;241m==\u001B[39m \u001B[38;5;28mself\u001B[39m\u001B[38;5;241m.\u001B[39mbm_axis:\n\u001B[1;32m    670\u001B[0m             \u001B[38;5;66;03m# Suppress reindexing on concat axis\u001B[39;00m\n\u001B[1;32m    671\u001B[0m             \u001B[38;5;28;01mcontinue\u001B[39;00m\n",
      "File \u001B[0;32mproperties.pyx:36\u001B[0m, in \u001B[0;36mpandas._libs.properties.CachedProperty.__get__\u001B[0;34m()\u001B[0m\n",
      "File \u001B[0;32m~/anaconda3/envs/zen-garden-linopy/lib/python3.11/site-packages/pandas/core/reshape/concat.py:698\u001B[0m, in \u001B[0;36m_Concatenator.new_axes\u001B[0;34m(self)\u001B[0m\n\u001B[1;32m    695\u001B[0m \u001B[38;5;129m@cache_readonly\u001B[39m\n\u001B[1;32m    696\u001B[0m \u001B[38;5;28;01mdef\u001B[39;00m \u001B[38;5;21mnew_axes\u001B[39m(\u001B[38;5;28mself\u001B[39m) \u001B[38;5;241m-\u001B[39m\u001B[38;5;241m>\u001B[39m \u001B[38;5;28mlist\u001B[39m[Index]:\n\u001B[1;32m    697\u001B[0m     ndim \u001B[38;5;241m=\u001B[39m \u001B[38;5;28mself\u001B[39m\u001B[38;5;241m.\u001B[39m_get_result_dim()\n\u001B[0;32m--> 698\u001B[0m     \u001B[38;5;28;01mreturn\u001B[39;00m [\n\u001B[1;32m    699\u001B[0m         \u001B[38;5;28mself\u001B[39m\u001B[38;5;241m.\u001B[39m_get_concat_axis \u001B[38;5;28;01mif\u001B[39;00m i \u001B[38;5;241m==\u001B[39m \u001B[38;5;28mself\u001B[39m\u001B[38;5;241m.\u001B[39mbm_axis \u001B[38;5;28;01melse\u001B[39;00m \u001B[38;5;28mself\u001B[39m\u001B[38;5;241m.\u001B[39m_get_comb_axis(i)\n\u001B[1;32m    700\u001B[0m         \u001B[38;5;28;01mfor\u001B[39;00m i \u001B[38;5;129;01min\u001B[39;00m \u001B[38;5;28mrange\u001B[39m(ndim)\n\u001B[1;32m    701\u001B[0m     ]\n",
      "File \u001B[0;32m~/anaconda3/envs/zen-garden-linopy/lib/python3.11/site-packages/pandas/core/reshape/concat.py:699\u001B[0m, in \u001B[0;36m<listcomp>\u001B[0;34m(.0)\u001B[0m\n\u001B[1;32m    695\u001B[0m \u001B[38;5;129m@cache_readonly\u001B[39m\n\u001B[1;32m    696\u001B[0m \u001B[38;5;28;01mdef\u001B[39;00m \u001B[38;5;21mnew_axes\u001B[39m(\u001B[38;5;28mself\u001B[39m) \u001B[38;5;241m-\u001B[39m\u001B[38;5;241m>\u001B[39m \u001B[38;5;28mlist\u001B[39m[Index]:\n\u001B[1;32m    697\u001B[0m     ndim \u001B[38;5;241m=\u001B[39m \u001B[38;5;28mself\u001B[39m\u001B[38;5;241m.\u001B[39m_get_result_dim()\n\u001B[1;32m    698\u001B[0m     \u001B[38;5;28;01mreturn\u001B[39;00m [\n\u001B[0;32m--> 699\u001B[0m         \u001B[38;5;28mself\u001B[39m\u001B[38;5;241m.\u001B[39m_get_concat_axis \u001B[38;5;28;01mif\u001B[39;00m i \u001B[38;5;241m==\u001B[39m \u001B[38;5;28mself\u001B[39m\u001B[38;5;241m.\u001B[39mbm_axis \u001B[38;5;28;01melse\u001B[39;00m \u001B[38;5;28mself\u001B[39m\u001B[38;5;241m.\u001B[39m_get_comb_axis(i)\n\u001B[1;32m    700\u001B[0m         \u001B[38;5;28;01mfor\u001B[39;00m i \u001B[38;5;129;01min\u001B[39;00m \u001B[38;5;28mrange\u001B[39m(ndim)\n\u001B[1;32m    701\u001B[0m     ]\n",
      "File \u001B[0;32m~/anaconda3/envs/zen-garden-linopy/lib/python3.11/site-packages/pandas/core/reshape/concat.py:705\u001B[0m, in \u001B[0;36m_Concatenator._get_comb_axis\u001B[0;34m(self, i)\u001B[0m\n\u001B[1;32m    703\u001B[0m \u001B[38;5;28;01mdef\u001B[39;00m \u001B[38;5;21m_get_comb_axis\u001B[39m(\u001B[38;5;28mself\u001B[39m, i: AxisInt) \u001B[38;5;241m-\u001B[39m\u001B[38;5;241m>\u001B[39m Index:\n\u001B[1;32m    704\u001B[0m     data_axis \u001B[38;5;241m=\u001B[39m \u001B[38;5;28mself\u001B[39m\u001B[38;5;241m.\u001B[39mobjs[\u001B[38;5;241m0\u001B[39m]\u001B[38;5;241m.\u001B[39m_get_block_manager_axis(i)\n\u001B[0;32m--> 705\u001B[0m     \u001B[38;5;28;01mreturn\u001B[39;00m get_objs_combined_axis(\n\u001B[1;32m    706\u001B[0m         \u001B[38;5;28mself\u001B[39m\u001B[38;5;241m.\u001B[39mobjs,\n\u001B[1;32m    707\u001B[0m         axis\u001B[38;5;241m=\u001B[39mdata_axis,\n\u001B[1;32m    708\u001B[0m         intersect\u001B[38;5;241m=\u001B[39m\u001B[38;5;28mself\u001B[39m\u001B[38;5;241m.\u001B[39mintersect,\n\u001B[1;32m    709\u001B[0m         sort\u001B[38;5;241m=\u001B[39m\u001B[38;5;28mself\u001B[39m\u001B[38;5;241m.\u001B[39msort,\n\u001B[1;32m    710\u001B[0m         copy\u001B[38;5;241m=\u001B[39m\u001B[38;5;28mself\u001B[39m\u001B[38;5;241m.\u001B[39mcopy,\n\u001B[1;32m    711\u001B[0m     )\n",
      "File \u001B[0;32m~/anaconda3/envs/zen-garden-linopy/lib/python3.11/site-packages/pandas/core/indexes/api.py:103\u001B[0m, in \u001B[0;36mget_objs_combined_axis\u001B[0;34m(objs, intersect, axis, sort, copy)\u001B[0m\n\u001B[1;32m     79\u001B[0m \u001B[38;5;250m\u001B[39m\u001B[38;5;124;03m\"\"\"\u001B[39;00m\n\u001B[1;32m     80\u001B[0m \u001B[38;5;124;03mExtract combined index: return intersection or union (depending on the\u001B[39;00m\n\u001B[1;32m     81\u001B[0m \u001B[38;5;124;03mvalue of \"intersect\") of indexes on given axis, or None if all objects\u001B[39;00m\n\u001B[0;32m   (...)\u001B[0m\n\u001B[1;32m    100\u001B[0m \u001B[38;5;124;03mIndex\u001B[39;00m\n\u001B[1;32m    101\u001B[0m \u001B[38;5;124;03m\"\"\"\u001B[39;00m\n\u001B[1;32m    102\u001B[0m obs_idxes \u001B[38;5;241m=\u001B[39m [obj\u001B[38;5;241m.\u001B[39m_get_axis(axis) \u001B[38;5;28;01mfor\u001B[39;00m obj \u001B[38;5;129;01min\u001B[39;00m objs]\n\u001B[0;32m--> 103\u001B[0m \u001B[38;5;28;01mreturn\u001B[39;00m _get_combined_index(obs_idxes, intersect\u001B[38;5;241m=\u001B[39mintersect, sort\u001B[38;5;241m=\u001B[39msort, copy\u001B[38;5;241m=\u001B[39mcopy)\n",
      "File \u001B[0;32m~/anaconda3/envs/zen-garden-linopy/lib/python3.11/site-packages/pandas/core/indexes/api.py:156\u001B[0m, in \u001B[0;36m_get_combined_index\u001B[0;34m(indexes, intersect, sort, copy)\u001B[0m\n\u001B[1;32m    154\u001B[0m         index \u001B[38;5;241m=\u001B[39m index\u001B[38;5;241m.\u001B[39mintersection(other)\n\u001B[1;32m    155\u001B[0m \u001B[38;5;28;01melse\u001B[39;00m:\n\u001B[0;32m--> 156\u001B[0m     index \u001B[38;5;241m=\u001B[39m union_indexes(indexes, sort\u001B[38;5;241m=\u001B[39m\u001B[38;5;28;01mFalse\u001B[39;00m)\n\u001B[1;32m    157\u001B[0m     index \u001B[38;5;241m=\u001B[39m ensure_index(index)\n\u001B[1;32m    159\u001B[0m \u001B[38;5;28;01mif\u001B[39;00m sort:\n",
      "File \u001B[0;32m~/anaconda3/envs/zen-garden-linopy/lib/python3.11/site-packages/pandas/core/indexes/api.py:305\u001B[0m, in \u001B[0;36munion_indexes\u001B[0;34m(indexes, sort)\u001B[0m\n\u001B[1;32m    302\u001B[0m         result \u001B[38;5;241m=\u001B[39m indexes[\u001B[38;5;241m0\u001B[39m]\n\u001B[1;32m    304\u001B[0m     \u001B[38;5;28;01mfor\u001B[39;00m other \u001B[38;5;129;01min\u001B[39;00m indexes[\u001B[38;5;241m1\u001B[39m:]:\n\u001B[0;32m--> 305\u001B[0m         result \u001B[38;5;241m=\u001B[39m result\u001B[38;5;241m.\u001B[39munion(other, sort\u001B[38;5;241m=\u001B[39m\u001B[38;5;28;01mNone\u001B[39;00m \u001B[38;5;28;01mif\u001B[39;00m sort \u001B[38;5;28;01melse\u001B[39;00m \u001B[38;5;28;01mFalse\u001B[39;00m)\n\u001B[1;32m    306\u001B[0m     \u001B[38;5;28;01mreturn\u001B[39;00m result\n\u001B[1;32m    308\u001B[0m \u001B[38;5;28;01melif\u001B[39;00m kind \u001B[38;5;241m==\u001B[39m \u001B[38;5;124m\"\u001B[39m\u001B[38;5;124marray\u001B[39m\u001B[38;5;124m\"\u001B[39m:\n",
      "File \u001B[0;32m~/anaconda3/envs/zen-garden-linopy/lib/python3.11/site-packages/pandas/core/indexes/base.py:3335\u001B[0m, in \u001B[0;36mIndex.union\u001B[0;34m(self, other, sort)\u001B[0m\n\u001B[1;32m   3332\u001B[0m         \u001B[38;5;28;01mreturn\u001B[39;00m result\u001B[38;5;241m.\u001B[39msort_values()\n\u001B[1;32m   3333\u001B[0m     \u001B[38;5;28;01mreturn\u001B[39;00m result\n\u001B[0;32m-> 3335\u001B[0m result \u001B[38;5;241m=\u001B[39m \u001B[38;5;28mself\u001B[39m\u001B[38;5;241m.\u001B[39m_union(other, sort\u001B[38;5;241m=\u001B[39msort)\n\u001B[1;32m   3337\u001B[0m \u001B[38;5;28;01mreturn\u001B[39;00m \u001B[38;5;28mself\u001B[39m\u001B[38;5;241m.\u001B[39m_wrap_setop_result(other, result)\n",
      "File \u001B[0;32m~/anaconda3/envs/zen-garden-linopy/lib/python3.11/site-packages/pandas/core/indexes/multi.py:3664\u001B[0m, in \u001B[0;36mMultiIndex._union\u001B[0;34m(self, other, sort)\u001B[0m\n\u001B[1;32m   3659\u001B[0m     \u001B[38;5;28;01mreturn\u001B[39;00m MultiIndex\u001B[38;5;241m.\u001B[39mfrom_arrays(\n\u001B[1;32m   3660\u001B[0m         \u001B[38;5;28mzip\u001B[39m(\u001B[38;5;241m*\u001B[39mresult), sortorder\u001B[38;5;241m=\u001B[39m\u001B[38;5;28;01mNone\u001B[39;00m, names\u001B[38;5;241m=\u001B[39mresult_names\n\u001B[1;32m   3661\u001B[0m     )\n\u001B[1;32m   3663\u001B[0m \u001B[38;5;28;01melse\u001B[39;00m:\n\u001B[0;32m-> 3664\u001B[0m     right_missing \u001B[38;5;241m=\u001B[39m other\u001B[38;5;241m.\u001B[39mdifference(\u001B[38;5;28mself\u001B[39m, sort\u001B[38;5;241m=\u001B[39m\u001B[38;5;28;01mFalse\u001B[39;00m)\n\u001B[1;32m   3665\u001B[0m     \u001B[38;5;28;01mif\u001B[39;00m \u001B[38;5;28mlen\u001B[39m(right_missing):\n\u001B[1;32m   3666\u001B[0m         result \u001B[38;5;241m=\u001B[39m \u001B[38;5;28mself\u001B[39m\u001B[38;5;241m.\u001B[39mappend(right_missing)\n",
      "File \u001B[0;32m~/anaconda3/envs/zen-garden-linopy/lib/python3.11/site-packages/pandas/core/indexes/base.py:3638\u001B[0m, in \u001B[0;36mIndex.difference\u001B[0;34m(self, other, sort)\u001B[0m\n\u001B[1;32m   3635\u001B[0m         \u001B[38;5;28;01mreturn\u001B[39;00m result\u001B[38;5;241m.\u001B[39msort_values()\n\u001B[1;32m   3636\u001B[0m     \u001B[38;5;28;01mreturn\u001B[39;00m result\n\u001B[0;32m-> 3638\u001B[0m result \u001B[38;5;241m=\u001B[39m \u001B[38;5;28mself\u001B[39m\u001B[38;5;241m.\u001B[39m_difference(other, sort\u001B[38;5;241m=\u001B[39msort)\n\u001B[1;32m   3639\u001B[0m \u001B[38;5;28;01mreturn\u001B[39;00m \u001B[38;5;28mself\u001B[39m\u001B[38;5;241m.\u001B[39m_wrap_difference_result(other, result)\n",
      "File \u001B[0;32m~/anaconda3/envs/zen-garden-linopy/lib/python3.11/site-packages/pandas/core/indexes/base.py:3646\u001B[0m, in \u001B[0;36mIndex._difference\u001B[0;34m(self, other, sort)\u001B[0m\n\u001B[1;32m   3641\u001B[0m \u001B[38;5;28;01mdef\u001B[39;00m \u001B[38;5;21m_difference\u001B[39m(\u001B[38;5;28mself\u001B[39m, other, sort):\n\u001B[1;32m   3642\u001B[0m     \u001B[38;5;66;03m# overridden by RangeIndex\u001B[39;00m\n\u001B[1;32m   3644\u001B[0m     this \u001B[38;5;241m=\u001B[39m \u001B[38;5;28mself\u001B[39m\u001B[38;5;241m.\u001B[39munique()\n\u001B[0;32m-> 3646\u001B[0m     indexer \u001B[38;5;241m=\u001B[39m this\u001B[38;5;241m.\u001B[39mget_indexer_for(other)\n\u001B[1;32m   3647\u001B[0m     indexer \u001B[38;5;241m=\u001B[39m indexer\u001B[38;5;241m.\u001B[39mtake((indexer \u001B[38;5;241m!=\u001B[39m \u001B[38;5;241m-\u001B[39m\u001B[38;5;241m1\u001B[39m)\u001B[38;5;241m.\u001B[39mnonzero()[\u001B[38;5;241m0\u001B[39m])\n\u001B[1;32m   3649\u001B[0m     label_diff \u001B[38;5;241m=\u001B[39m np\u001B[38;5;241m.\u001B[39msetdiff1d(np\u001B[38;5;241m.\u001B[39marange(this\u001B[38;5;241m.\u001B[39msize), indexer, assume_unique\u001B[38;5;241m=\u001B[39m\u001B[38;5;28;01mTrue\u001B[39;00m)\n",
      "File \u001B[0;32m~/anaconda3/envs/zen-garden-linopy/lib/python3.11/site-packages/pandas/core/indexes/base.py:6096\u001B[0m, in \u001B[0;36mIndex.get_indexer_for\u001B[0;34m(self, target)\u001B[0m\n\u001B[1;32m   6078\u001B[0m \u001B[38;5;250m\u001B[39m\u001B[38;5;124;03m\"\"\"\u001B[39;00m\n\u001B[1;32m   6079\u001B[0m \u001B[38;5;124;03mGuaranteed return of an indexer even when non-unique.\u001B[39;00m\n\u001B[1;32m   6080\u001B[0m \n\u001B[0;32m   (...)\u001B[0m\n\u001B[1;32m   6093\u001B[0m \u001B[38;5;124;03marray([0, 2])\u001B[39;00m\n\u001B[1;32m   6094\u001B[0m \u001B[38;5;124;03m\"\"\"\u001B[39;00m\n\u001B[1;32m   6095\u001B[0m \u001B[38;5;28;01mif\u001B[39;00m \u001B[38;5;28mself\u001B[39m\u001B[38;5;241m.\u001B[39m_index_as_unique:\n\u001B[0;32m-> 6096\u001B[0m     \u001B[38;5;28;01mreturn\u001B[39;00m \u001B[38;5;28mself\u001B[39m\u001B[38;5;241m.\u001B[39mget_indexer(target)\n\u001B[1;32m   6097\u001B[0m indexer, _ \u001B[38;5;241m=\u001B[39m \u001B[38;5;28mself\u001B[39m\u001B[38;5;241m.\u001B[39mget_indexer_non_unique(target)\n\u001B[1;32m   6098\u001B[0m \u001B[38;5;28;01mreturn\u001B[39;00m indexer\n",
      "File \u001B[0;32m~/anaconda3/envs/zen-garden-linopy/lib/python3.11/site-packages/pandas/core/indexes/base.py:3942\u001B[0m, in \u001B[0;36mIndex.get_indexer\u001B[0;34m(self, target, method, limit, tolerance)\u001B[0m\n\u001B[1;32m   3937\u001B[0m     target \u001B[38;5;241m=\u001B[39m target\u001B[38;5;241m.\u001B[39mastype(dtype, copy\u001B[38;5;241m=\u001B[39m\u001B[38;5;28;01mFalse\u001B[39;00m)\n\u001B[1;32m   3938\u001B[0m     \u001B[38;5;28;01mreturn\u001B[39;00m this\u001B[38;5;241m.\u001B[39m_get_indexer(\n\u001B[1;32m   3939\u001B[0m         target, method\u001B[38;5;241m=\u001B[39mmethod, limit\u001B[38;5;241m=\u001B[39mlimit, tolerance\u001B[38;5;241m=\u001B[39mtolerance\n\u001B[1;32m   3940\u001B[0m     )\n\u001B[0;32m-> 3942\u001B[0m \u001B[38;5;28;01mreturn\u001B[39;00m \u001B[38;5;28mself\u001B[39m\u001B[38;5;241m.\u001B[39m_get_indexer(target, method, limit, tolerance)\n",
      "File \u001B[0;32m~/anaconda3/envs/zen-garden-linopy/lib/python3.11/site-packages/pandas/core/indexes/base.py:3963\u001B[0m, in \u001B[0;36mIndex._get_indexer\u001B[0;34m(self, target, method, limit, tolerance)\u001B[0m\n\u001B[1;32m   3960\u001B[0m     engine \u001B[38;5;241m=\u001B[39m \u001B[38;5;28mself\u001B[39m\u001B[38;5;241m.\u001B[39m_engine\n\u001B[1;32m   3961\u001B[0m     \u001B[38;5;66;03m# error: Item \"IndexEngine\" of \"Union[IndexEngine, ExtensionEngine]\"\u001B[39;00m\n\u001B[1;32m   3962\u001B[0m     \u001B[38;5;66;03m# has no attribute \"_extract_level_codes\"\u001B[39;00m\n\u001B[0;32m-> 3963\u001B[0m     tgt_values \u001B[38;5;241m=\u001B[39m engine\u001B[38;5;241m.\u001B[39m_extract_level_codes(  \u001B[38;5;66;03m# type: ignore[union-attr]\u001B[39;00m\n\u001B[1;32m   3964\u001B[0m         target\n\u001B[1;32m   3965\u001B[0m     )\n\u001B[1;32m   3966\u001B[0m \u001B[38;5;28;01melse\u001B[39;00m:\n\u001B[1;32m   3967\u001B[0m     tgt_values \u001B[38;5;241m=\u001B[39m target\u001B[38;5;241m.\u001B[39m_get_engine_target()\n",
      "File \u001B[0;32mindex.pyx:723\u001B[0m, in \u001B[0;36mpandas._libs.index.BaseMultiIndexCodesEngine._extract_level_codes\u001B[0;34m()\u001B[0m\n",
      "File \u001B[0;32m~/anaconda3/envs/zen-garden-linopy/lib/python3.11/site-packages/pandas/core/indexes/multi.py:2464\u001B[0m, in \u001B[0;36mMultiIndex._recode_for_new_levels\u001B[0;34m(self, new_levels, copy)\u001B[0m\n\u001B[1;32m   2460\u001B[0m \u001B[38;5;28;01mdef\u001B[39;00m \u001B[38;5;21m_recode_for_new_levels\u001B[39m(\n\u001B[1;32m   2461\u001B[0m     \u001B[38;5;28mself\u001B[39m, new_levels, copy: \u001B[38;5;28mbool\u001B[39m \u001B[38;5;241m=\u001B[39m \u001B[38;5;28;01mTrue\u001B[39;00m\n\u001B[1;32m   2462\u001B[0m ) \u001B[38;5;241m-\u001B[39m\u001B[38;5;241m>\u001B[39m Generator[np\u001B[38;5;241m.\u001B[39mndarray, \u001B[38;5;28;01mNone\u001B[39;00m, \u001B[38;5;28;01mNone\u001B[39;00m]:\n\u001B[1;32m   2463\u001B[0m     \u001B[38;5;28;01mif\u001B[39;00m \u001B[38;5;28mlen\u001B[39m(new_levels) \u001B[38;5;241m>\u001B[39m \u001B[38;5;28mself\u001B[39m\u001B[38;5;241m.\u001B[39mnlevels:\n\u001B[0;32m-> 2464\u001B[0m         \u001B[38;5;28;01mraise\u001B[39;00m \u001B[38;5;167;01mAssertionError\u001B[39;00m(\n\u001B[1;32m   2465\u001B[0m             \u001B[38;5;124mf\u001B[39m\u001B[38;5;124m\"\u001B[39m\u001B[38;5;124mLength of new_levels (\u001B[39m\u001B[38;5;132;01m{\u001B[39;00m\u001B[38;5;28mlen\u001B[39m(new_levels)\u001B[38;5;132;01m}\u001B[39;00m\u001B[38;5;124m) \u001B[39m\u001B[38;5;124m\"\u001B[39m\n\u001B[1;32m   2466\u001B[0m             \u001B[38;5;124mf\u001B[39m\u001B[38;5;124m\"\u001B[39m\u001B[38;5;124mmust be <= self.nlevels (\u001B[39m\u001B[38;5;132;01m{\u001B[39;00m\u001B[38;5;28mself\u001B[39m\u001B[38;5;241m.\u001B[39mnlevels\u001B[38;5;132;01m}\u001B[39;00m\u001B[38;5;124m)\u001B[39m\u001B[38;5;124m\"\u001B[39m\n\u001B[1;32m   2467\u001B[0m         )\n\u001B[1;32m   2468\u001B[0m     \u001B[38;5;28;01mfor\u001B[39;00m i \u001B[38;5;129;01min\u001B[39;00m \u001B[38;5;28mrange\u001B[39m(\u001B[38;5;28mlen\u001B[39m(new_levels)):\n\u001B[1;32m   2469\u001B[0m         \u001B[38;5;28;01myield\u001B[39;00m recode_for_categories(\n\u001B[1;32m   2470\u001B[0m             \u001B[38;5;28mself\u001B[39m\u001B[38;5;241m.\u001B[39mcodes[i], \u001B[38;5;28mself\u001B[39m\u001B[38;5;241m.\u001B[39mlevels[i], new_levels[i], copy\u001B[38;5;241m=\u001B[39mcopy\n\u001B[1;32m   2471\u001B[0m         )\n",
      "\u001B[0;31mAssertionError\u001B[0m: Length of new_levels (3) must be <= self.nlevels (2)"
     ]
    }
   ],
   "source": [
    "# you can also compare the model variable values. However, even a small change in the input data might have a significant impact on the results, which then leads to large differences in the variable values\n",
    "diff_var = Results.compare_model_variables([optimal_res,n1_0_res],scenarios=())\n",
    "diff_var"
   ],
   "metadata": {
    "collapsed": false,
    "ExecuteTime": {
     "end_time": "2024-01-23T10:06:22.190430Z",
     "start_time": "2024-01-23T10:06:21.132040Z"
    }
   },
   "id": "b1c7e1072a613546"
  },
  {
   "cell_type": "code",
   "execution_count": 60,
   "outputs": [
    {
     "data": {
      "text/plain": "technology     capacity_type  location               year\ncapture_amine  power          swiss_storage_CH       0       0.0\n                                                     1       0.0\n                                                     2       0.0\n                                                     3       0.0\n                                                     4       0.0\n                                                            ... \ntruck_batch    power          waste_2_CH-waste_1_CH  0       0.0\n                                                     1       0.0\n                                                     2       0.0\n                                                     3       0.0\n                                                     4       0.0\nName: capacity, Length: 170, dtype: float64"
     },
     "execution_count": 60,
     "metadata": {},
     "output_type": "execute_result"
    }
   ],
   "source": [
    "optimal_res.get_df(\"capacity\")"
   ],
   "metadata": {
    "collapsed": false,
    "ExecuteTime": {
     "end_time": "2024-01-23T10:52:21.017151Z",
     "start_time": "2024-01-23T10:52:20.946021Z"
    }
   },
   "id": "a80186430e5fc2dc"
  },
  {
   "cell_type": "code",
   "execution_count": 63,
   "outputs": [
    {
     "data": {
      "text/plain": "carrier      node              time_operation\nco2_ambient  swiss_storage_CH  0                 0.0\n                               1                 0.0\n                               2                 0.0\n                               3                 0.0\n                               4                 0.0\n                                                ... \nco2_stored   waste_2_CH        0                 0.0\n                               1                 0.0\n                               2                 0.0\n                               3                 0.0\n                               4                 0.0\nName: flow_export, Length: 165, dtype: float64"
     },
     "execution_count": 63,
     "metadata": {},
     "output_type": "execute_result"
    }
   ],
   "source": [
    "optimal_res.get_df(\"flow_export\")"
   ],
   "metadata": {
    "collapsed": false,
    "ExecuteTime": {
     "end_time": "2024-01-23T10:55:26.799752Z",
     "start_time": "2024-01-23T10:55:26.732893Z"
    }
   },
   "id": "ee072a0d77dcba82"
  },
  {
   "cell_type": "code",
   "execution_count": 47,
   "outputs": [
    {
     "name": "stdout",
     "output_type": "stream",
     "text": [
      "technology   edge                         time_operation\n",
      "truck_batch  waste_1_CH-swiss_storage_CH  0                  0.000000\n",
      "                                          1                 10.227416\n",
      "                                          2                 10.227416\n",
      "                                          3                 10.227416\n",
      "                                          4                 10.227416\n",
      "             waste_2_CH-swiss_storage_CH  0                  0.000000\n",
      "                                          1                  7.635671\n",
      "                                          2                  7.635671\n",
      "                                          3                 19.807119\n",
      "                                          4                 19.807119\n",
      "             waste_1_CH-waste_2_CH        0                  0.000000\n",
      "                                          1                  0.000000\n",
      "                                          2                  0.000000\n",
      "                                          3                  0.000000\n",
      "                                          4                  0.000000\n",
      "             waste_2_CH-waste_1_CH        0                  0.000000\n",
      "                                          1                  0.000000\n",
      "                                          2                  0.000000\n",
      "                                          3                  0.000000\n",
      "                                          4                  0.000000\n",
      "Name: nominal_flow_transport, dtype: float64 technology   edge                         time_operation\n",
      "truck_batch  waste_1_CH-swiss_storage_CH  0                 1.000000e+09\n",
      "                                          1                 1.022742e+01\n",
      "                                          2                 1.022742e+01\n",
      "                                          3                 1.022742e+01\n",
      "                                          4                 1.022742e+01\n",
      "             waste_2_CH-swiss_storage_CH  0                 1.000000e+09\n",
      "                                          1                 7.635671e+00\n",
      "                                          2                 7.635671e+00\n",
      "                                          3                 1.980712e+01\n",
      "                                          4                 1.980712e+01\n",
      "             waste_1_CH-waste_2_CH        0                 1.000000e+09\n",
      "                                          1                 1.000000e+09\n",
      "                                          2                 1.000000e+09\n",
      "                                          3                 1.000000e+09\n",
      "                                          4                 1.000000e+09\n",
      "             waste_2_CH-waste_1_CH        0                 1.000000e+09\n",
      "                                          1                 1.000000e+09\n",
      "                                          2                 1.000000e+09\n",
      "                                          3                 1.000000e+09\n",
      "                                          4                 1.000000e+09\n",
      "Name: nominal_flow_transport, dtype: float64\n"
     ]
    }
   ],
   "source": [
    "print(n1_0_res.get_df(\"nominal_flow_transport\"),\n",
    "n1_inf_res.get_df(\"nominal_flow_transport\"))"
   ],
   "metadata": {
    "collapsed": false,
    "ExecuteTime": {
     "end_time": "2024-01-23T10:09:56.890226Z",
     "start_time": "2024-01-23T10:09:56.824328Z"
    }
   },
   "id": "47460a848df8fd0"
  },
  {
   "cell_type": "code",
   "execution_count": 48,
   "outputs": [
    {
     "name": "stdout",
     "output_type": "stream",
     "text": [
      "technology   edge                         time_operation\n",
      "truck_batch  waste_1_CH-swiss_storage_CH  0                  0.000000\n",
      "                                          1                 10.227416\n",
      "                                          2                 10.227416\n",
      "                                          3                 10.227416\n",
      "                                          4                 10.227416\n",
      "             waste_2_CH-swiss_storage_CH  0                  0.000000\n",
      "                                          1                  7.635671\n",
      "                                          2                  7.635671\n",
      "                                          3                 19.807119\n",
      "                                          4                 19.807119\n",
      "             waste_1_CH-waste_2_CH        0                  0.000000\n",
      "                                          1                  0.000000\n",
      "                                          2                  0.000000\n",
      "                                          3                  0.000000\n",
      "                                          4                  0.000000\n",
      "             waste_2_CH-waste_1_CH        0                  0.000000\n",
      "                                          1                  0.000000\n",
      "                                          2                  0.000000\n",
      "                                          3                  0.000000\n",
      "                                          4                  0.000000\n",
      "Name: flow_transport, dtype: float64 technology   edge                         failure_states                            time_operation\n",
      "truck_batch  waste_1_CH-swiss_storage_CH  truck_batch: waste_1_CH-swiss_storage_CH  0                  0.000000\n",
      "                                                                                    1                 10.173415\n",
      "                                                                                    2                 10.173415\n",
      "                                                                                    3                 10.173415\n",
      "                                                                                    4                 10.173415\n",
      "                                          truck_batch: waste_2_CH-swiss_storage_CH  0                  0.000000\n",
      "                                                                                    1                 10.348365\n",
      "                                                                                    2                 10.348365\n",
      "                                                                                    3                 10.539344\n",
      "                                                                                    4                 10.539344\n",
      "             waste_2_CH-swiss_storage_CH  truck_batch: waste_1_CH-swiss_storage_CH  0                  0.000000\n",
      "                                                                                    1                  7.689672\n",
      "                                                                                    2                  7.689672\n",
      "                                                                                    3                 19.859303\n",
      "                                                                                    4                 19.859303\n",
      "                                          truck_batch: waste_2_CH-swiss_storage_CH  0                  0.000000\n",
      "                                                                                    1                  7.514722\n",
      "                                                                                    2                  7.514722\n",
      "                                                                                    3                 19.493374\n",
      "                                                                                    4                 19.493374\n",
      "             waste_1_CH-waste_2_CH        truck_batch: waste_1_CH-swiss_storage_CH  0                  0.000000\n",
      "                                                                                    1                  0.052900\n",
      "                                                                                    2                  0.052900\n",
      "                                                                                    3                  0.054001\n",
      "                                                                                    4                  0.054001\n",
      "                                          truck_batch: waste_2_CH-swiss_storage_CH  0                  0.000000\n",
      "                                                                                    1                  0.000000\n",
      "                                                                                    2                  0.000000\n",
      "                                                                                    3                  0.000000\n",
      "                                                                                    4                  0.000000\n",
      "             waste_2_CH-waste_1_CH        truck_batch: waste_1_CH-swiss_storage_CH  0                  0.000000\n",
      "                                                                                    1                  0.000000\n",
      "                                                                                    2                  0.000000\n",
      "                                                                                    3                  0.000000\n",
      "                                                                                    4                  0.000000\n",
      "                                          truck_batch: waste_2_CH-swiss_storage_CH  0                  0.000000\n",
      "                                                                                    1                  0.122050\n",
      "                                                                                    2                  0.122050\n",
      "                                                                                    3                  0.311928\n",
      "                                                                                    4                  0.311928\n",
      "Name: flow_transport, dtype: float64 technology   edge                         failure_states                            time_operation\n",
      "truck_batch  waste_1_CH-swiss_storage_CH  truck_batch: waste_1_CH-swiss_storage_CH  0                  0.000000\n",
      "                                                                                    1                 10.173415\n",
      "                                                                                    2                 10.173415\n",
      "                                                                                    3                 10.173415\n",
      "                                                                                    4                 10.173415\n",
      "                                          truck_batch: waste_2_CH-swiss_storage_CH  0                  0.000000\n",
      "                                                                                    1                 10.348365\n",
      "                                                                                    2                 10.348365\n",
      "                                                                                    3                 10.539344\n",
      "                                                                                    4                 10.539344\n",
      "             waste_2_CH-swiss_storage_CH  truck_batch: waste_1_CH-swiss_storage_CH  0                  0.000000\n",
      "                                                                                    1                  7.689672\n",
      "                                                                                    2                  7.689672\n",
      "                                                                                    3                 19.859303\n",
      "                                                                                    4                 19.859303\n",
      "                                          truck_batch: waste_2_CH-swiss_storage_CH  0                  0.000000\n",
      "                                                                                    1                  7.514722\n",
      "                                                                                    2                  7.514722\n",
      "                                                                                    3                 19.493374\n",
      "                                                                                    4                 19.493374\n",
      "             waste_1_CH-waste_2_CH        truck_batch: waste_1_CH-swiss_storage_CH  0                  0.000000\n",
      "                                                                                    1                  0.054001\n",
      "                                                                                    2                  0.054001\n",
      "                                                                                    3                  0.054001\n",
      "                                                                                    4                  0.054001\n",
      "                                          truck_batch: waste_2_CH-swiss_storage_CH  0                  0.000000\n",
      "                                                                                    1                  0.000000\n",
      "                                                                                    2                  0.000000\n",
      "                                                                                    3                  0.000000\n",
      "                                                                                    4                  0.000000\n",
      "             waste_2_CH-waste_1_CH        truck_batch: waste_1_CH-swiss_storage_CH  0                  0.000000\n",
      "                                                                                    1                  0.000000\n",
      "                                                                                    2                  0.000000\n",
      "                                                                                    3                  0.000000\n",
      "                                                                                    4                  0.000000\n",
      "                                          truck_batch: waste_2_CH-swiss_storage_CH  0                  0.000000\n",
      "                                                                                    1                  0.120949\n",
      "                                                                                    2                  0.120949\n",
      "                                                                                    3                  0.311928\n",
      "                                                                                    4                  0.311928\n",
      "Name: flow_transport, dtype: float64\n"
     ]
    }
   ],
   "source": [
    "print(optimal_res.get_df(\"flow_transport\"),\n",
    "      n1_0_res.get_df(\"flow_transport\"),\n",
    "      n1_inf_res.get_df(\"flow_transport\"))"
   ],
   "metadata": {
    "collapsed": false,
    "ExecuteTime": {
     "end_time": "2024-01-23T10:12:11.675701Z",
     "start_time": "2024-01-23T10:12:11.584957Z"
    }
   },
   "id": "2557498bd3554a11"
  },
  {
   "cell_type": "code",
   "execution_count": 50,
   "outputs": [
    {
     "data": {
      "text/plain": "technology   edge                         time_operation\ntruck_batch  waste_1_CH-swiss_storage_CH  0                  46.2528\n                                          1                  46.2528\n                                          2                  46.2528\n                                          3                  46.2528\n                                          4                  46.2528\n             waste_2_CH-swiss_storage_CH  0                 138.7584\n                                          1                 138.7584\n                                          2                 138.7584\n                                          3                 138.7584\n                                          4                 138.7584\n             waste_1_CH-waste_2_CH        0                  92.5056\n                                          1                  92.5056\n                                          2                  92.5056\n                                          3                  92.5056\n                                          4                  92.5056\n             waste_2_CH-waste_1_CH        0                  92.5056\n                                          1                  92.5056\n                                          2                  92.5056\n                                          3                  92.5056\n                                          4                  92.5056\nName: operation_probability, dtype: float64"
     },
     "execution_count": 50,
     "metadata": {},
     "output_type": "execute_result"
    }
   ],
   "source": [
    "(1 - res_n1.get_df(\"operation_probability\"))*8760\n",
    "\n"
   ],
   "metadata": {
    "collapsed": false,
    "ExecuteTime": {
     "end_time": "2024-01-23T10:15:29.197573Z",
     "start_time": "2024-01-23T10:15:29.128093Z"
    }
   },
   "id": "b922ba73283d25d4"
  },
  {
   "cell_type": "code",
   "execution_count": 54,
   "outputs": [
    {
     "data": {
      "text/plain": "technology   edge                         time_operation\ntruck_batch  waste_1_CH-swiss_storage_CH  0                 0.000000\n                                          1                -0.054001\n                                          2                -0.054001\n                                          3                -0.054001\n                                          4                -0.054001\n             waste_2_CH-swiss_storage_CH  0                 0.000000\n                                          1                -0.120949\n                                          2                -0.120949\n                                          3                -0.313745\n                                          4                -0.313745\n             waste_1_CH-waste_2_CH        0                 0.000000\n                                          1                 0.000000\n                                          2                 0.000000\n                                          3                 0.000000\n                                          4                 0.000000\n             waste_2_CH-waste_1_CH        0                 0.000000\n                                          1                 0.000000\n                                          2                 0.000000\n                                          3                 0.000000\n                                          4                 0.000000\ndtype: float64"
     },
     "execution_count": 54,
     "metadata": {},
     "output_type": "execute_result"
    }
   ],
   "source": [
    "n1_0_res.get_df(\"operation_probability\") * n1_0_res.get_df(\"nominal_flow_transport\")-n1_0_res.get_df(\"nominal_flow_transport\")\n"
   ],
   "metadata": {
    "collapsed": false,
    "ExecuteTime": {
     "end_time": "2024-01-23T10:34:55.730846Z",
     "start_time": "2024-01-23T10:34:55.664118Z"
    }
   },
   "id": "401cc7f51fab93d1"
  },
  {
   "cell_type": "code",
   "execution_count": 6,
   "outputs": [
    {
     "name": "stderr",
     "output_type": "stream",
     "text": [
      "/Users/davidbertschinger/Applications/PyCharm Professional Edition.app/Contents/plugins/python/helpers/pydev/pydevd_plugins/__init__.py:2: DeprecationWarning: Deprecated call to `pkg_resources.declare_namespace('pydevd_plugins')`.\n",
      "Implementing implicit namespace packages (as specified in PEP 420) is preferred to `pkg_resources.declare_namespace`. See https://setuptools.pypa.io/en/latest/references/keywords.html#keyword-namespace-packages\n",
      "  __import__('pkg_resources').declare_namespace(__name__)\n",
      "\n",
      "/Users/davidbertschinger/Applications/PyCharm Professional Edition.app/Contents/plugins/python/helpers/pydev/pydevd_plugins/extensions/__init__.py:2: DeprecationWarning: Deprecated call to `pkg_resources.declare_namespace('pydevd_plugins.extensions')`.\n",
      "Implementing implicit namespace packages (as specified in PEP 420) is preferred to `pkg_resources.declare_namespace`. See https://setuptools.pypa.io/en/latest/references/keywords.html#keyword-namespace-packages\n",
      "  __import__('pkg_resources').declare_namespace(__name__)\n",
      "\n",
      "/Users/davidbertschinger/Applications/PyCharm Professional Edition.app/Contents/plugins/python/helpers/pydev/pydevd_plugins/extensions/types/__init__.py:2: DeprecationWarning: Deprecated call to `pkg_resources.declare_namespace('pydevd_plugins.extensions.types')`.\n",
      "Implementing implicit namespace packages (as specified in PEP 420) is preferred to `pkg_resources.declare_namespace`. See https://setuptools.pypa.io/en/latest/references/keywords.html#keyword-namespace-packages\n",
      "  __import__('pkg_resources').declare_namespace(__name__)\n",
      "\n"
     ]
    },
    {
     "name": "stdout",
     "output_type": "stream",
     "text": [
      "year\n",
      "0    149901.12\n",
      "1         0.00\n",
      "2         0.00\n",
      "3   -113000.00\n",
      "4   -113000.00\n",
      "Name: carbon_emissions_annual, dtype: float64 year\n",
      "0    149901.12\n",
      "1         0.00\n",
      "2         0.00\n",
      "3   -113000.00\n",
      "4   -113000.00\n",
      "Name: carbon_emissions_annual, dtype: float64 year\n",
      "0    149901.12\n",
      "1         0.00\n",
      "2         0.00\n",
      "3   -113000.00\n",
      "4   -113000.00\n",
      "Name: carbon_emissions_annual, dtype: float64\n"
     ]
    }
   ],
   "source": [
    "print(optimal_res.get_df(\"carbon_emissions_annual\"),\n",
    "      n1_0_res.get_df(\"carbon_emissions_annual\"),\n",
    "      n1_inf_res.get_df(\"carbon_emissions_annual\"))"
   ],
   "metadata": {
    "collapsed": false,
    "ExecuteTime": {
     "end_time": "2024-01-24T14:02:58.440584Z",
     "start_time": "2024-01-24T14:02:57.825899Z"
    }
   },
   "id": "a4f6d4d782d4747d"
  },
  {
   "cell_type": "code",
   "execution_count": 56,
   "outputs": [
    {
     "name": "stdout",
     "output_type": "stream",
     "text": [
      "year\n",
      "0    0.000000e+00\n",
      "1    2.503679e+07\n",
      "2    2.503679e+07\n",
      "3    6.048119e+07\n",
      "4    6.048119e+07\n",
      "Name: cost_total, dtype: float64 year\n",
      "0    0.000000e+00\n",
      "1    2.509804e+07\n",
      "2    2.509804e+07\n",
      "3    6.064389e+07\n",
      "4    6.064389e+07\n",
      "Name: cost_total, dtype: float64 year\n",
      "0    0.000000e+00\n",
      "1    2.509804e+07\n",
      "2    2.509804e+07\n",
      "3    6.064389e+07\n",
      "4    6.064389e+07\n",
      "Name: cost_total, dtype: float64\n"
     ]
    }
   ],
   "source": [
    "print(optimal_res.get_df(\"cost_total\"),\n",
    "      n1_0_res.get_df(\"cost_total\"),\n",
    "      n1_inf_res.get_df(\"cost_total\"))"
   ],
   "metadata": {
    "collapsed": false,
    "ExecuteTime": {
     "end_time": "2024-01-23T10:40:21.061463Z",
     "start_time": "2024-01-23T10:40:20.973364Z"
    }
   },
   "id": "ecd6ba63021cbfff"
  },
  {
   "cell_type": "code",
   "execution_count": 58,
   "outputs": [
    {
     "data": {
      "text/plain": "year\n0         NaN\n1    0.244624\n2    0.244624\n3    0.269021\n4    0.269021\nName: cost_total, dtype: float64"
     },
     "execution_count": 58,
     "metadata": {},
     "output_type": "execute_result"
    }
   ],
   "source": [
    "(n1_0_res.get_df(\"cost_total\")/optimal_res.get_df(\"cost_total\")-1)*100"
   ],
   "metadata": {
    "collapsed": false,
    "ExecuteTime": {
     "end_time": "2024-01-23T10:41:17.669666Z",
     "start_time": "2024-01-23T10:41:17.624177Z"
    }
   },
   "id": "86e552fd8592510"
  },
  {
   "cell_type": "code",
   "execution_count": 7,
   "outputs": [
    {
     "data": {
      "text/plain": "year\n0             NaN\n1    1.554312e-13\n2    1.776357e-13\n3    0.000000e+00\n4    0.000000e+00\nName: cost_total, dtype: float64"
     },
     "execution_count": 7,
     "metadata": {},
     "output_type": "execute_result"
    }
   ],
   "source": [
    "(n1_0_res.get_df(\"cost_total\")/n1_inf_res.get_df(\"cost_total\")-1)*100"
   ],
   "metadata": {
    "collapsed": false,
    "ExecuteTime": {
     "end_time": "2024-01-24T14:03:06.917830Z",
     "start_time": "2024-01-24T14:03:06.880091Z"
    }
   },
   "id": "36073793a25c0b80"
  },
  {
   "cell_type": "code",
   "execution_count": null,
   "outputs": [],
   "source": [],
   "metadata": {
    "collapsed": false
   },
   "id": "46a409eb51360e41"
  }
 ],
 "metadata": {
  "kernelspec": {
   "display_name": "Python 3",
   "language": "python",
   "name": "python3"
  },
  "language_info": {
   "codemirror_mode": {
    "name": "ipython",
    "version": 2
   },
   "file_extension": ".py",
   "mimetype": "text/x-python",
   "name": "python",
   "nbconvert_exporter": "python",
   "pygments_lexer": "ipython2",
   "version": "2.7.6"
  }
 },
 "nbformat": 4,
 "nbformat_minor": 5
}
