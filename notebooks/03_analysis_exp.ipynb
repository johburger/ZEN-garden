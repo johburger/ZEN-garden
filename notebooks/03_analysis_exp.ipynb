{
 "cells": [
  {
   "cell_type": "code",
   "execution_count": 1,
   "id": "initial_id",
   "metadata": {
    "collapsed": true,
    "ExecuteTime": {
     "end_time": "2024-02-07T15:50:25.677292Z",
     "start_time": "2024-02-07T15:50:25.379272Z"
    }
   },
   "outputs": [],
   "source": [
    "import pandas as pd\n",
    "%load_ext autoreload\n",
    "%autoreload 2"
   ]
  },
  {
   "cell_type": "code",
   "execution_count": 2,
   "outputs": [],
   "source": [
    "%matplotlib inline\n",
    "\n",
    "from pprint import pprint\n",
    "from zen_garden.postprocess.results import Results\n",
    "\n",
    "from pathlib import Path\n",
    "from os import chdir"
   ],
   "metadata": {
    "collapsed": false,
    "ExecuteTime": {
     "end_time": "2024-02-07T15:50:26.751767Z",
     "start_time": "2024-02-07T15:50:25.675805Z"
    }
   },
   "id": "780397ba889ec419"
  },
  {
   "cell_type": "code",
   "execution_count": 3,
   "outputs": [],
   "source": [
    "#Set path\n",
    "path = Path('/Users/davidbertschinger/Documents/GitHub/ZEN-garden/notebooks')\n",
    "chdir(path)"
   ],
   "metadata": {
    "collapsed": false,
    "ExecuteTime": {
     "end_time": "2024-02-07T15:50:26.764702Z",
     "start_time": "2024-02-07T15:50:26.751209Z"
    }
   },
   "id": "1993ef780d414ee9"
  },
  {
   "cell_type": "code",
   "execution_count": 4,
   "outputs": [],
   "source": [
    "# cost optimal solution\n",
    "optimal_res = Results(\"../data/outputs/03_example_CCTS\")\n",
    "\n",
    "# cost optimal solution with existing capacities and n-1\n",
    "n1_t = Results(\"../data/outputs/03_example_CCTS_N-1_01_T\")\n",
    "n1_c = Results(\"../data/outputs/03_example_CCTS_N-1_02_C\")\n",
    "n1_ct = Results(\"../data/outputs/03_example_CCTS_N-1_03_CT\")\n",
    "n1_ct0 = Results(\"../data/outputs/03_example_CCTS_N-1_03_CT_flowline_add_0\")\n",
    "\n",
    "n1_E = Results(\"../data/outputs/03_example_CCTS_N-1_04_T_E\")\n"
   ],
   "metadata": {
    "collapsed": false,
    "ExecuteTime": {
     "end_time": "2024-02-07T15:50:27.015325Z",
     "start_time": "2024-02-07T15:50:26.765153Z"
    }
   },
   "id": "c77fd62cb57951e3"
  },
  {
   "cell_type": "code",
   "execution_count": 5,
   "outputs": [
    {
     "name": "stderr",
     "output_type": "stream",
     "text": [
      "/Users/davidbertschinger/Applications/PyCharm Professional Edition.app/Contents/plugins/python/helpers/pydev/pydevd_plugins/__init__.py:2: DeprecationWarning: Deprecated call to `pkg_resources.declare_namespace('pydevd_plugins')`.\n",
      "Implementing implicit namespace packages (as specified in PEP 420) is preferred to `pkg_resources.declare_namespace`. See https://setuptools.pypa.io/en/latest/references/keywords.html#keyword-namespace-packages\n",
      "  __import__('pkg_resources').declare_namespace(__name__)\n",
      "\n",
      "/Users/davidbertschinger/Applications/PyCharm Professional Edition.app/Contents/plugins/python/helpers/pydev/pydevd_plugins/extensions/__init__.py:2: DeprecationWarning: Deprecated call to `pkg_resources.declare_namespace('pydevd_plugins.extensions')`.\n",
      "Implementing implicit namespace packages (as specified in PEP 420) is preferred to `pkg_resources.declare_namespace`. See https://setuptools.pypa.io/en/latest/references/keywords.html#keyword-namespace-packages\n",
      "  __import__('pkg_resources').declare_namespace(__name__)\n",
      "\n",
      "/Users/davidbertschinger/Applications/PyCharm Professional Edition.app/Contents/plugins/python/helpers/pydev/pydevd_plugins/extensions/types/__init__.py:2: DeprecationWarning: Deprecated call to `pkg_resources.declare_namespace('pydevd_plugins.extensions.types')`.\n",
      "Implementing implicit namespace packages (as specified in PEP 420) is preferred to `pkg_resources.declare_namespace`. See https://setuptools.pypa.io/en/latest/references/keywords.html#keyword-namespace-packages\n",
      "  __import__('pkg_resources').declare_namespace(__name__)\n",
      "\n"
     ]
    },
    {
     "data": {
      "text/plain": "technology         carrier           node              failure_states                         time_operation\ncapture_amine      flue_gas          swiss_storage_CH  flowline: waste_1_CH-swiss_storage_CH  0                 0.0\n                                                                                              1                 0.0\n                                                                                              2                 0.0\n                                                                                              3                 0.0\n                                                                                              4                 0.0\n                                                                                                               ... \npermanent_storage  co2_liquid_16bar  waste_2_CH        flowline: waste_2_CH-swiss_storage_CH  0                 0.0\n                                                                                              1                 0.0\n                                                                                              2                 0.0\n                                                                                              3                 0.0\n                                                                                              4                 0.0\nName: flow_conversion_input, Length: 510, dtype: float64"
     },
     "execution_count": 5,
     "metadata": {},
     "output_type": "execute_result"
    }
   ],
   "source": [
    "n1_E.get_df(\"flow_conversion_input\")"
   ],
   "metadata": {
    "collapsed": false,
    "ExecuteTime": {
     "end_time": "2024-02-07T15:50:28.150294Z",
     "start_time": "2024-02-07T15:50:27.535119Z"
    }
   },
   "id": "8d5f4dca95bf89ca"
  },
  {
   "cell_type": "code",
   "execution_count": 8,
   "outputs": [
    {
     "data": {
      "text/plain": "carrier      node              failure_states                         time_operation\nco2_ambient  swiss_storage_CH  flowline: waste_1_CH-swiss_storage_CH  0                 0.0\n                                                                      1                 0.0\n                                                                      2                 0.0\n                                                                      3                 0.0\n                                                                      4                 0.0\n                                                                                       ... \nco2_stored   waste_2_CH        flowline: waste_2_CH-swiss_storage_CH  0                 0.0\n                                                                      1                 0.0\n                                                                      2                 0.0\n                                                                      3                 0.0\n                                                                      4                 0.0\nName: flow_export, Length: 330, dtype: float64"
     },
     "execution_count": 8,
     "metadata": {},
     "output_type": "execute_result"
    }
   ],
   "source": [
    "n1_E.get_df(\"flow_export\")"
   ],
   "metadata": {
    "collapsed": false,
    "ExecuteTime": {
     "end_time": "2024-02-07T15:57:23.104560Z",
     "start_time": "2024-02-07T15:57:22.974737Z"
    }
   },
   "id": "cb25cd092dc0d3b4"
  },
  {
   "cell_type": "code",
   "execution_count": 6,
   "outputs": [
    {
     "data": {
      "text/plain": "technology     capacity_type  location               year\ncapture_amine  power          swiss_storage_CH       0       0.0\n                                                     1       0.0\n                                                     2       0.0\n                                                     3       0.0\n                                                     4       0.0\n                                                            ... \ntruck_batch    power          waste_2_CH-waste_1_CH  0       0.0\n                                                     1       0.0\n                                                     2       0.0\n                                                     3       0.0\n                                                     4       0.0\nName: capacity, Length: 190, dtype: float64"
     },
     "execution_count": 6,
     "metadata": {},
     "output_type": "execute_result"
    }
   ],
   "source": [
    "optimal_res.get_df(\"capacity\")"
   ],
   "metadata": {
    "collapsed": false,
    "ExecuteTime": {
     "end_time": "2024-02-07T09:07:44.234324Z",
     "start_time": "2024-02-07T09:07:44.109231Z"
    }
   },
   "id": "a80186430e5fc2dc"
  },
  {
   "cell_type": "code",
   "execution_count": 10,
   "outputs": [
    {
     "data": {
      "text/plain": "technology         carrier           node              time_operation\ncapture_amine      flue_gas          swiss_storage_CH  0                 inf\n                                                       1                 inf\n                                                       2                 inf\n                                                       3                 inf\n                                                       4                 inf\n                                                                        ... \npermanent_storage  co2_liquid_16bar  waste_2_CH        0                 inf\n                                                       1                 inf\n                                                       2                 inf\n                                                       3                 inf\n                                                       4                 inf\nName: nominal_flow_conversion_input, Length: 255, dtype: float64"
     },
     "execution_count": 10,
     "metadata": {},
     "output_type": "execute_result"
    }
   ],
   "source": [
    "n1_c.get_df(\"nominal_flow_conversion_input\")"
   ],
   "metadata": {
    "collapsed": false,
    "ExecuteTime": {
     "end_time": "2024-02-07T09:10:57.555581Z",
     "start_time": "2024-02-07T09:10:57.449515Z"
    }
   },
   "id": "bbd4c4ae012a742"
  },
  {
   "cell_type": "code",
   "execution_count": 9,
   "outputs": [
    {
     "data": {
      "text/plain": "technology                    node            \ncapture_amine                 swiss_storage_CH    1.000000\n                              waste_1_CH          1.000000\n                              waste_2_CH          1.000000\ncompression_16_110bar         swiss_storage_CH    1.000000\n                              waste_1_CH          1.000000\n                              waste_2_CH          1.000000\ncondition_110bar              swiss_storage_CH    0.945205\n                              waste_1_CH          0.945205\n                              waste_2_CH          0.945205\ncondition_16bar               swiss_storage_CH    1.000000\n                              waste_1_CH          1.000000\n                              waste_2_CH          1.000000\ndecompression_110_16bar       swiss_storage_CH    1.000000\n                              waste_1_CH          1.000000\n                              waste_2_CH          1.000000\ndecompression_110bar_ambient  swiss_storage_CH    1.000000\n                              waste_1_CH          1.000000\n                              waste_2_CH          1.000000\nemergency_storage             swiss_storage_CH    1.000000\n                              waste_1_CH          1.000000\n                              waste_2_CH          1.000000\nemitter_wte                   swiss_storage_CH    1.000000\n                              waste_1_CH          1.000000\n                              waste_2_CH          1.000000\nheat_pump                     swiss_storage_CH    1.000000\n                              waste_1_CH          1.000000\n                              waste_2_CH          1.000000\npermanent_storage             swiss_storage_CH    1.000000\n                              waste_1_CH          1.000000\n                              waste_2_CH          1.000000\nName: operation_probability_conversion, dtype: float64"
     },
     "execution_count": 9,
     "metadata": {},
     "output_type": "execute_result"
    }
   ],
   "source": [
    "n1_c.get_df(\"operation_probability_conversion\")"
   ],
   "metadata": {
    "collapsed": false,
    "ExecuteTime": {
     "end_time": "2024-02-07T09:10:05.826237Z",
     "start_time": "2024-02-07T09:10:05.669950Z"
    }
   },
   "id": "ee072a0d77dcba82"
  },
  {
   "cell_type": "code",
   "execution_count": 12,
   "outputs": [
    {
     "data": {
      "text/plain": "technology   edge                         failure_states                time_operation\nflowline     waste_1_CH-swiss_storage_CH  condition_110bar: waste_1_CH  0                  0.000000\n                                                                        1                 10.148548\n                                                                        2                 10.148548\n                                                                        3                 10.148548\n                                                                        4                 10.148548\n                                                                                            ...    \ntruck_batch  waste_2_CH-waste_1_CH        condition_110bar: waste_2_CH  0                  0.000000\n                                                                        1                  0.000000\n                                                                        2                  0.000000\n                                                                        3                  0.000000\n                                                                        4                  0.000000\nName: flow_transport, Length: 80, dtype: float64"
     },
     "execution_count": 12,
     "metadata": {},
     "output_type": "execute_result"
    }
   ],
   "source": [
    "n1_c.get_df(\"flow_transport\")"
   ],
   "metadata": {
    "collapsed": false,
    "ExecuteTime": {
     "end_time": "2024-02-07T09:12:01.098120Z",
     "start_time": "2024-02-07T09:12:01.005709Z"
    }
   },
   "id": "42ef3ff6a1c7d5d6"
  },
  {
   "cell_type": "code",
   "execution_count": 11,
   "outputs": [
    {
     "data": {
      "text/plain": "technology         carrier           node              failure_states                time_operation\ncapture_amine      flue_gas          swiss_storage_CH  condition_110bar: waste_1_CH  0                 0.0\n                                                                                     1                 0.0\n                                                                                     2                 0.0\n                                                                                     3                 0.0\n                                                                                     4                 0.0\n                                                                                                      ... \npermanent_storage  co2_liquid_16bar  waste_2_CH        condition_110bar: waste_2_CH  0                 0.0\n                                                                                     1                 0.0\n                                                                                     2                 0.0\n                                                                                     3                 0.0\n                                                                                     4                 0.0\nName: flow_conversion_input, Length: 510, dtype: float64"
     },
     "execution_count": 11,
     "metadata": {},
     "output_type": "execute_result"
    }
   ],
   "source": [
    "n1_c.get_df(\"flow_conversion_input\")"
   ],
   "metadata": {
    "collapsed": false,
    "ExecuteTime": {
     "end_time": "2024-02-07T09:11:11.029479Z",
     "start_time": "2024-02-07T09:11:10.961612Z"
    }
   },
   "id": "4e230ea85c89fd67"
  },
  {
   "cell_type": "code",
   "execution_count": 13,
   "outputs": [
    {
     "data": {
      "text/plain": "technology   edge                         failure_states                         time_operation\nflowline     waste_1_CH-swiss_storage_CH  condition_110bar: waste_1_CH           0                  0.000000\n                                                                                 1                 10.148548\n                                                                                 2                 10.148548\n                                                                                 3                 10.148548\n                                                                                 4                 10.148548\n                                                                                                     ...    \ntruck_batch  waste_2_CH-waste_1_CH        flowline: waste_2_CH-swiss_storage_CH  0                  0.000000\n                                                                                 1                  0.000000\n                                                                                 2                  0.000000\n                                                                                 3                  0.000000\n                                                                                 4                  0.000000\nName: flow_transport, Length: 160, dtype: float64"
     },
     "execution_count": 13,
     "metadata": {},
     "output_type": "execute_result"
    }
   ],
   "source": [
    "n1_ct.get_df(\"flow_transport\")"
   ],
   "metadata": {
    "collapsed": false,
    "ExecuteTime": {
     "end_time": "2024-02-07T09:12:45.390997Z",
     "start_time": "2024-02-07T09:12:45.303257Z"
    }
   },
   "id": "47460a848df8fd0"
  },
  {
   "cell_type": "code",
   "execution_count": 14,
   "outputs": [
    {
     "data": {
      "text/plain": "technology         carrier           node              failure_states                         time_operation\ncapture_amine      flue_gas          swiss_storage_CH  condition_110bar: waste_1_CH           0                 0.0\n                                                                                              1                 0.0\n                                                                                              2                 0.0\n                                                                                              3                 0.0\n                                                                                              4                 0.0\n                                                                                                               ... \npermanent_storage  co2_liquid_16bar  waste_2_CH        flowline: waste_2_CH-swiss_storage_CH  0                 0.0\n                                                                                              1                 0.0\n                                                                                              2                 0.0\n                                                                                              3                 0.0\n                                                                                              4                 0.0\nName: flow_conversion_input, Length: 1020, dtype: float64"
     },
     "execution_count": 14,
     "metadata": {},
     "output_type": "execute_result"
    }
   ],
   "source": [
    "n1_ct.get_df(\"flow_conversion_input\")"
   ],
   "metadata": {
    "collapsed": false,
    "ExecuteTime": {
     "end_time": "2024-02-07T09:13:19.973693Z",
     "start_time": "2024-02-07T09:13:19.890488Z"
    }
   },
   "id": "95daf4cb03889ba8"
  },
  {
   "cell_type": "code",
   "execution_count": 15,
   "outputs": [
    {
     "data": {
      "text/plain": "technology   edge                         failure_states                         time_operation\nflowline     waste_1_CH-swiss_storage_CH  condition_110bar: waste_1_CH           0                  0.000000\n                                                                                 1                 10.148548\n                                                                                 2                 10.148548\n                                                                                 3                 10.148548\n                                                                                 4                 10.148548\n                                                                                                     ...    \ntruck_batch  waste_2_CH-waste_1_CH        flowline: waste_2_CH-swiss_storage_CH  0                  0.000000\n                                                                                 1                  0.000000\n                                                                                 2                  0.000000\n                                                                                 3                  0.000000\n                                                                                 4                  0.000000\nName: flow_transport, Length: 160, dtype: float64"
     },
     "execution_count": 15,
     "metadata": {},
     "output_type": "execute_result"
    }
   ],
   "source": [
    "n1_ct0.get_df(\"flow_transport\")"
   ],
   "metadata": {
    "collapsed": false,
    "ExecuteTime": {
     "end_time": "2024-02-07T09:15:14.442150Z",
     "start_time": "2024-02-07T09:15:14.364666Z"
    }
   },
   "id": "43b23707fe5733dc"
  },
  {
   "cell_type": "code",
   "execution_count": 16,
   "outputs": [
    {
     "data": {
      "text/plain": "technology         carrier           node              failure_states                         time_operation\ncapture_amine      flue_gas          swiss_storage_CH  condition_110bar: waste_1_CH           0                 0.0\n                                                                                              1                 0.0\n                                                                                              2                 0.0\n                                                                                              3                 0.0\n                                                                                              4                 0.0\n                                                                                                               ... \npermanent_storage  co2_liquid_16bar  waste_2_CH        flowline: waste_2_CH-swiss_storage_CH  0                 0.0\n                                                                                              1                 0.0\n                                                                                              2                 0.0\n                                                                                              3                 0.0\n                                                                                              4                 0.0\nName: flow_conversion_input, Length: 1020, dtype: float64"
     },
     "execution_count": 16,
     "metadata": {},
     "output_type": "execute_result"
    }
   ],
   "source": [
    "n1_ct0.get_df(\"flow_conversion_input\")"
   ],
   "metadata": {
    "collapsed": false,
    "ExecuteTime": {
     "end_time": "2024-02-07T09:17:44.225974Z",
     "start_time": "2024-02-07T09:17:44.144935Z"
    }
   },
   "id": "e7201aa331c3ab9b"
  },
  {
   "cell_type": "code",
   "execution_count": 18,
   "outputs": [
    {
     "name": "stdout",
     "output_type": "stream",
     "text": [
      "year\n",
      "0         NaN\n",
      "1    0.799729\n",
      "2    0.799729\n",
      "3    0.909956\n",
      "4    0.909956\n",
      "Name: cost_total, dtype: float64\n"
     ]
    }
   ],
   "source": [
    "print((n1_ct0.get_df(\"cost_total\")/optimal_res.get_df(\"cost_total\")-1)*100)"
   ],
   "metadata": {
    "collapsed": false,
    "ExecuteTime": {
     "end_time": "2024-02-07T09:23:27.179294Z",
     "start_time": "2024-02-07T09:23:27.047704Z"
    }
   },
   "id": "7bc55b98ca6a9854"
  },
  {
   "cell_type": "code",
   "execution_count": null,
   "outputs": [],
   "source": [],
   "metadata": {
    "collapsed": false
   },
   "id": "6bfc8ad97ddd0252"
  }
 ],
 "metadata": {
  "kernelspec": {
   "display_name": "Python 3",
   "language": "python",
   "name": "python3"
  },
  "language_info": {
   "codemirror_mode": {
    "name": "ipython",
    "version": 2
   },
   "file_extension": ".py",
   "mimetype": "text/x-python",
   "name": "python",
   "nbconvert_exporter": "python",
   "pygments_lexer": "ipython2",
   "version": "2.7.6"
  }
 },
 "nbformat": 4,
 "nbformat_minor": 5
}
