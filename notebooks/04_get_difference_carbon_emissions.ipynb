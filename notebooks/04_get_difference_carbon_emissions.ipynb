{
 "cells": [
  {
   "cell_type": "code",
   "execution_count": 9,
   "id": "initial_id",
   "metadata": {
    "collapsed": true,
    "ExecuteTime": {
     "end_time": "2024-03-20T19:08:33.129518Z",
     "start_time": "2024-03-20T19:08:32.693230Z"
    }
   },
   "outputs": [
    {
     "name": "stdout",
     "output_type": "stream",
     "text": [
      "The autoreload extension is already loaded. To reload it, use:\n",
      "  %reload_ext autoreload\n"
     ]
    }
   ],
   "source": [
    "%load_ext autoreload\n",
    "%autoreload 2\n",
    "%matplotlib inline\n",
    "\n",
    "# import\n",
    "import pandas as pd\n",
    "from pprint import pprint\n",
    "from zen_garden.postprocess.results import Results\n",
    "from pathlib import Path\n",
    "from os import chdir\n",
    "\n",
    "# set path\n",
    "path = Path('/Users/davidbertschinger/Documents/GitHub/ZEN-garden/notebooks')\n",
    "chdir(path)"
   ]
  },
  {
   "cell_type": "code",
   "execution_count": 10,
   "outputs": [],
   "source": [
    "# define import path\n",
    "path_import = Path(\"../data/outputs/04_CCTS_WTE_Cement_03_n1_exp_carbon_not_stored_scenarios\")\n",
    "\n",
    "# define export path\n",
    "path_export = Path(\"../data/04_CCTS_WTE_Cement_04_n1_adjusted\")"
   ],
   "metadata": {
    "collapsed": false,
    "ExecuteTime": {
     "end_time": "2024-03-20T19:08:33.915197Z",
     "start_time": "2024-03-20T19:08:33.891055Z"
    }
   },
   "id": "230b5ee60c5cd89e"
  },
  {
   "cell_type": "code",
   "execution_count": 11,
   "outputs": [
    {
     "name": "stderr",
     "output_type": "stream",
     "text": [
      "/var/folders/_z/1bb5tdsd3g989mpmnjm26h7c0000gn/T/ipykernel_55694/54167914.py:14: FutureWarning: Calling int on a single element Series is deprecated and will raise a TypeError in the future. Use int(ser.iloc[0]) instead\n",
      "  carbon_emissions_annual_limit_adjustment = int(carbon_emissions_annual_limit_adjustment['carbon_emissions_annual'])/1000\n",
      "\n"
     ]
    }
   ],
   "source": [
    "# single scenario\n",
    "results = Results(path_import)\n",
    "# set carbon emissions annual limit\n",
    "carbon_emissions_annual_limit = -1200000\n",
    "\n",
    "table_data = []\n",
    "results.get_df('carbon_emissions_annual', to_csv='carbon_emissions_annual')\n",
    "df = pd.read_csv('carbon_emissions_annual.csv', index_col=False)\n",
    "df['carbon_emissions_annual'] = df['carbon_emissions_annual'] - carbon_emissions_annual_limit\n",
    "time_steps = df['year'].unique()\n",
    "for time_step in range(len(time_steps)):\n",
    "    # Append data as a tuple to the list\n",
    "    carbon_emissions_annual_limit_adjustment = df[df['year'] == time_step]\n",
    "    carbon_emissions_annual_limit_adjustment = int(carbon_emissions_annual_limit_adjustment['carbon_emissions_annual'])/1000\n",
    "    table_data.append((time_steps[time_step], carbon_emissions_annual_limit_adjustment))\n",
    "    \n",
    "# Create a DataFrame from the list\n",
    "table_df = pd.DataFrame(table_data, columns=[\"year\", \"carbon_emissions_limit_adjustment\"])\n",
    "table_df['year'] = table_df['year'] + 2025\n",
    "    \n",
    "    \n",
    "# safe the table DataFrame\n",
    "filepath = Path(str(path_export)+\"/energy_system/carbon_emissions_annual_limit_adjustment.csv\")\n",
    "table_df.to_csv(filepath, index=False)\n",
    "    "
   ],
   "metadata": {
    "collapsed": false,
    "ExecuteTime": {
     "end_time": "2024-03-20T19:08:35.679695Z",
     "start_time": "2024-03-20T19:08:35.425317Z"
    }
   },
   "id": "798b7b240e7af588"
  },
  {
   "cell_type": "code",
   "execution_count": 12,
   "outputs": [
    {
     "name": "stderr",
     "output_type": "stream",
     "text": [
      "/var/folders/_z/1bb5tdsd3g989mpmnjm26h7c0000gn/T/ipykernel_55694/2803826364.py:18: FutureWarning: Calling int on a single element Series is deprecated and will raise a TypeError in the future. Use int(ser.iloc[0]) instead\n",
      "  carbon_emissions_annual_limit_adjustment = int(carbon_emissions_annual_limit_adjustment['carbon_emissions_annual'])/1000\n",
      "\n",
      "/var/folders/_z/1bb5tdsd3g989mpmnjm26h7c0000gn/T/ipykernel_55694/2803826364.py:18: FutureWarning: Calling int on a single element Series is deprecated and will raise a TypeError in the future. Use int(ser.iloc[0]) instead\n",
      "  carbon_emissions_annual_limit_adjustment = int(carbon_emissions_annual_limit_adjustment['carbon_emissions_annual'])/1000\n",
      "\n",
      "/var/folders/_z/1bb5tdsd3g989mpmnjm26h7c0000gn/T/ipykernel_55694/2803826364.py:18: FutureWarning: Calling int on a single element Series is deprecated and will raise a TypeError in the future. Use int(ser.iloc[0]) instead\n",
      "  carbon_emissions_annual_limit_adjustment = int(carbon_emissions_annual_limit_adjustment['carbon_emissions_annual'])/1000\n",
      "\n",
      "/var/folders/_z/1bb5tdsd3g989mpmnjm26h7c0000gn/T/ipykernel_55694/2803826364.py:18: FutureWarning: Calling int on a single element Series is deprecated and will raise a TypeError in the future. Use int(ser.iloc[0]) instead\n",
      "  carbon_emissions_annual_limit_adjustment = int(carbon_emissions_annual_limit_adjustment['carbon_emissions_annual'])/1000\n",
      "\n"
     ]
    }
   ],
   "source": [
    "# scenarios\n",
    "results = Results(path_import)\n",
    "# set carbon emissions annual limit\n",
    "carbon_emissions_annual_limit = -1200000\n",
    "for scenario in results.scenarios:\n",
    "    if scenario == 'scenario_':\n",
    "        continue\n",
    "    else:\n",
    "        # Initialize an empty list to store data\n",
    "        table_data = []\n",
    "        results.get_df('carbon_emissions_annual', scenario=scenario, to_csv='carbon_emissions_annual')\n",
    "        df = pd.read_csv('carbon_emissions_annual.csv', index_col=False)\n",
    "        df['carbon_emissions_annual'] = df['carbon_emissions_annual'] - carbon_emissions_annual_limit\n",
    "        time_steps = df['year'].unique()\n",
    "        for time_step in range(len(time_steps)):\n",
    "            # Append data as a tuple to the list\n",
    "            carbon_emissions_annual_limit_adjustment = df[df['year'] == time_step]\n",
    "            carbon_emissions_annual_limit_adjustment = int(carbon_emissions_annual_limit_adjustment['carbon_emissions_annual'])/1000\n",
    "            table_data.append((time_steps[time_step], carbon_emissions_annual_limit_adjustment))\n",
    "            \n",
    "        # Create a DataFrame from the list\n",
    "        table_df = pd.DataFrame(table_data, columns=[\"year\", \"carbon_emissions_limit_adjustment\"])\n",
    "        table_df['year'] = table_df['year'] + 2025\n",
    "        \n",
    "        name = (str(scenario).removeprefix('scenario_0'))\n",
    "        name = name.replace('.', '_')\n",
    "        \n",
    "        # safe the table DataFrame\n",
    "        filepath = Path(str(path_export)+\"/energy_system/carbon_emissions_annual_limit_adjustment\"+str(name)+\".csv\")\n",
    "        table_df.to_csv(filepath, index=False)\n",
    "        "
   ],
   "metadata": {
    "collapsed": false,
    "ExecuteTime": {
     "end_time": "2024-03-20T19:08:45.733167Z",
     "start_time": "2024-03-20T19:08:45.578626Z"
    }
   },
   "id": "5edffcdb7fc2097d"
  },
  {
   "cell_type": "code",
   "execution_count": null,
   "outputs": [],
   "source": [],
   "metadata": {
    "collapsed": false
   },
   "id": "9f1e558e466f70fb"
  }
 ],
 "metadata": {
  "kernelspec": {
   "display_name": "Python 3",
   "language": "python",
   "name": "python3"
  },
  "language_info": {
   "codemirror_mode": {
    "name": "ipython",
    "version": 2
   },
   "file_extension": ".py",
   "mimetype": "text/x-python",
   "name": "python",
   "nbconvert_exporter": "python",
   "pygments_lexer": "ipython2",
   "version": "2.7.6"
  }
 },
 "nbformat": 4,
 "nbformat_minor": 5
}
