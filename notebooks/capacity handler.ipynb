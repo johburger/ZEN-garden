{
 "cells": [
  {
   "cell_type": "code",
   "execution_count": 2,
   "id": "initial_id",
   "metadata": {
    "collapsed": true,
    "ExecuteTime": {
     "end_time": "2023-12-12T22:07:03.965178Z",
     "start_time": "2023-12-12T22:07:03.541086Z"
    }
   },
   "outputs": [],
   "source": [
    "import pandas as pd\n",
    "%load_ext autoreload\n",
    "%autoreload 2"
   ]
  },
  {
   "cell_type": "code",
   "execution_count": 3,
   "outputs": [],
   "source": [
    "%matplotlib inline\n",
    "\n",
    "from pprint import pprint\n",
    "from zen_garden.postprocess.results import Results\n",
    "\n",
    "from pathlib import Path\n",
    "from os import chdir"
   ],
   "metadata": {
    "collapsed": false,
    "ExecuteTime": {
     "end_time": "2023-12-12T22:07:05.211703Z",
     "start_time": "2023-12-12T22:07:03.965816Z"
    }
   },
   "id": "780397ba889ec419"
  },
  {
   "cell_type": "code",
   "execution_count": 4,
   "outputs": [],
   "source": [
    "#Set path\n",
    "path = Path('/Users/davidbertschinger/Documents/GitHub/ZEN-garden/notebooks')\n",
    "chdir(path)"
   ],
   "metadata": {
    "collapsed": false,
    "ExecuteTime": {
     "end_time": "2023-12-12T22:07:05.225590Z",
     "start_time": "2023-12-12T22:07:05.212178Z"
    }
   },
   "id": "1993ef780d414ee9"
  },
  {
   "cell_type": "code",
   "execution_count": 5,
   "outputs": [],
   "source": [
    "# cost optimal solution\n",
    "res_basic = Results(\"../data/outputs/01_mini_CCTS\")\n",
    "\n",
    "# cost optimal solution with existing capacities\n",
    "res_existing = Results(\"../data/outputs/01_mini_CCTS_existing\")"
   ],
   "metadata": {
    "collapsed": false,
    "ExecuteTime": {
     "end_time": "2023-12-12T22:07:05.416322Z",
     "start_time": "2023-12-12T22:07:05.225752Z"
    }
   },
   "id": "fde41797d10bccf6"
  },
  {
   "cell_type": "code",
   "execution_count": 6,
   "outputs": [
    {
     "name": "stdout",
     "output_type": "stream",
     "text": [
      "{'dataset': '/Users/davidbertschinger/Documents/GitHub/ZEN-garden/data/01_mini_CCTS',\n",
      " 'earliest_year_of_data': 1900,\n",
      " 'folder_name_system_specification': 'system_specification',\n",
      " 'folder_output': '/Users/davidbertschinger/Documents/GitHub/ZEN-garden/data/outputs',\n",
      " 'header_data_inputs': {'set_capacity_types': 'capacity_type',\n",
      "                        'set_carriers': 'carrier',\n",
      "                        'set_conversion_technologies': 'technology',\n",
      "                        'set_dependent_carriers': 'carrier',\n",
      "                        'set_edges': 'edge',\n",
      "                        'set_elements': 'element',\n",
      "                        'set_input_carriers': 'carrier',\n",
      "                        'set_lca_impact_categories': 'impact_category',\n",
      "                        'set_location': 'location',\n",
      "                        'set_n1_contingency': 'contingency',\n",
      "                        'set_nodes': 'node',\n",
      "                        'set_output_carriers': 'carrier',\n",
      "                        'set_storage_technologies': 'technology',\n",
      "                        'set_super_edges': 'super_edge',\n",
      "                        'set_super_nodes': 'super_node',\n",
      "                        'set_technologies': 'technology',\n",
      "                        'set_technologies_existing': 'technology_existing',\n",
      "                        'set_time_steps': 'time',\n",
      "                        'set_time_steps_operation': 'time_operation',\n",
      "                        'set_time_steps_storage_level': 'time_storage_level',\n",
      "                        'set_time_steps_yearly': 'year',\n",
      "                        'set_time_steps_yearly_entire_horizon': 'year_entire_horizon',\n",
      "                        'set_transport_technologies': 'technology'},\n",
      " 'max_output_size_mb': 500,\n",
      " 'objective': 'total_cost',\n",
      " 'output_format': 'h5',\n",
      " 'overwrite_output': True,\n",
      " 'postprocess': False,\n",
      " 'sense': 'minimize',\n",
      " 'subsets': {'set_carriers': [],\n",
      "             'set_technologies': ['set_conversion_technologies',\n",
      "                                  'set_transport_technologies',\n",
      "                                  'set_storage_technologies']},\n",
      " 'time_series_aggregation': {'clusterMethod': 'k_means',\n",
      "                             'extremePeriodMethod': 'None',\n",
      "                             'hoursPerPeriod': 1,\n",
      "                             'noSegments': 12,\n",
      "                             'representationMethod': 'meanRepresentation',\n",
      "                             'rescaleClusterPeriods': False,\n",
      "                             'resolution': 1,\n",
      "                             'segmentation': False,\n",
      "                             'solver': 'gurobi'},\n",
      " 'transport_distance': 'Euclidean',\n",
      " 'use_capacities_existing': True,\n",
      " 'write_results_yml': False}\n"
     ]
    }
   ],
   "source": [
    "# Show the deafult analysis settings\n",
    "pprint(res_basic.results[None][\"analysis\"])"
   ],
   "metadata": {
    "collapsed": false,
    "ExecuteTime": {
     "end_time": "2023-12-12T22:07:07.264089Z",
     "start_time": "2023-12-12T22:07:07.235478Z"
    }
   },
   "id": "b1d9eb78fb003e8a"
  },
  {
   "cell_type": "code",
   "execution_count": 7,
   "outputs": [
    {
     "data": {
      "text/plain": "technology     capacity_type  location                     year\ncapture_amine  power          swiss_storage_CH             0        0.000000\n                                                           1        0.000000\n                                                           2        0.000000\n                              waste_1_CH                   0       13.577313\n                                                           1       22.528265\n                                                                     ...    \ntruck_batch    power          waste_1_CH-waste_2_CH        1        0.000000\n                                                           2        0.000000\n                              waste_2_CH-swiss_storage_CH  0        0.000000\n                                                           1        0.000000\n                                                           2        1.513804\nName: capacity, Length: 108, dtype: float64"
     },
     "execution_count": 7,
     "metadata": {},
     "output_type": "execute_result"
    }
   ],
   "source": [
    "res_basic.get_df('capacity', to_csv=\"capacity\")\n",
    "res_existing.get_df('capacity', to_csv=\"capacity2\")"
   ],
   "metadata": {
    "collapsed": false,
    "ExecuteTime": {
     "end_time": "2023-12-12T22:07:10.638818Z",
     "start_time": "2023-12-12T22:07:10.578767Z"
    }
   },
   "id": "fc5db256355e390e"
  },
  {
   "cell_type": "code",
   "execution_count": 8,
   "outputs": [],
   "source": [
    "#Get capacity table\n",
    "df = pd.read_csv('capacity.csv')\n",
    "df2= pd.read_csv('capacity2.csv')"
   ],
   "metadata": {
    "collapsed": false,
    "ExecuteTime": {
     "end_time": "2023-12-12T22:07:15.680184Z",
     "start_time": "2023-12-12T22:07:15.648341Z"
    }
   },
   "id": "c5b46bb8b4725cdb"
  },
  {
   "cell_type": "code",
   "execution_count": 9,
   "outputs": [
    {
     "data": {
      "text/plain": "        technology capacity_type                     location  year   capacity\n0    capture_amine         power             swiss_storage_CH     0   0.000000\n1    capture_amine         power             swiss_storage_CH     1   0.000000\n2    capture_amine         power             swiss_storage_CH     2   0.000000\n3    capture_amine         power                   waste_1_CH     0  13.577313\n4    capture_amine         power                   waste_1_CH     1  22.528265\n..             ...           ...                          ...   ...        ...\n103    truck_batch         power        waste_1_CH-waste_2_CH     1   0.000000\n104    truck_batch         power        waste_1_CH-waste_2_CH     2   0.000000\n105    truck_batch         power  waste_2_CH-swiss_storage_CH     0   0.000000\n106    truck_batch         power  waste_2_CH-swiss_storage_CH     1   0.000000\n107    truck_batch         power  waste_2_CH-swiss_storage_CH     2   1.513804\n\n[108 rows x 5 columns]",
      "text/html": "<div>\n<style scoped>\n    .dataframe tbody tr th:only-of-type {\n        vertical-align: middle;\n    }\n\n    .dataframe tbody tr th {\n        vertical-align: top;\n    }\n\n    .dataframe thead th {\n        text-align: right;\n    }\n</style>\n<table border=\"1\" class=\"dataframe\">\n  <thead>\n    <tr style=\"text-align: right;\">\n      <th></th>\n      <th>technology</th>\n      <th>capacity_type</th>\n      <th>location</th>\n      <th>year</th>\n      <th>capacity</th>\n    </tr>\n  </thead>\n  <tbody>\n    <tr>\n      <th>0</th>\n      <td>capture_amine</td>\n      <td>power</td>\n      <td>swiss_storage_CH</td>\n      <td>0</td>\n      <td>0.000000</td>\n    </tr>\n    <tr>\n      <th>1</th>\n      <td>capture_amine</td>\n      <td>power</td>\n      <td>swiss_storage_CH</td>\n      <td>1</td>\n      <td>0.000000</td>\n    </tr>\n    <tr>\n      <th>2</th>\n      <td>capture_amine</td>\n      <td>power</td>\n      <td>swiss_storage_CH</td>\n      <td>2</td>\n      <td>0.000000</td>\n    </tr>\n    <tr>\n      <th>3</th>\n      <td>capture_amine</td>\n      <td>power</td>\n      <td>waste_1_CH</td>\n      <td>0</td>\n      <td>13.577313</td>\n    </tr>\n    <tr>\n      <th>4</th>\n      <td>capture_amine</td>\n      <td>power</td>\n      <td>waste_1_CH</td>\n      <td>1</td>\n      <td>22.528265</td>\n    </tr>\n    <tr>\n      <th>...</th>\n      <td>...</td>\n      <td>...</td>\n      <td>...</td>\n      <td>...</td>\n      <td>...</td>\n    </tr>\n    <tr>\n      <th>103</th>\n      <td>truck_batch</td>\n      <td>power</td>\n      <td>waste_1_CH-waste_2_CH</td>\n      <td>1</td>\n      <td>0.000000</td>\n    </tr>\n    <tr>\n      <th>104</th>\n      <td>truck_batch</td>\n      <td>power</td>\n      <td>waste_1_CH-waste_2_CH</td>\n      <td>2</td>\n      <td>0.000000</td>\n    </tr>\n    <tr>\n      <th>105</th>\n      <td>truck_batch</td>\n      <td>power</td>\n      <td>waste_2_CH-swiss_storage_CH</td>\n      <td>0</td>\n      <td>0.000000</td>\n    </tr>\n    <tr>\n      <th>106</th>\n      <td>truck_batch</td>\n      <td>power</td>\n      <td>waste_2_CH-swiss_storage_CH</td>\n      <td>1</td>\n      <td>0.000000</td>\n    </tr>\n    <tr>\n      <th>107</th>\n      <td>truck_batch</td>\n      <td>power</td>\n      <td>waste_2_CH-swiss_storage_CH</td>\n      <td>2</td>\n      <td>1.513804</td>\n    </tr>\n  </tbody>\n</table>\n<p>108 rows × 5 columns</p>\n</div>"
     },
     "execution_count": 9,
     "metadata": {},
     "output_type": "execute_result"
    }
   ],
   "source": [
    "df"
   ],
   "metadata": {
    "collapsed": false,
    "ExecuteTime": {
     "end_time": "2023-12-12T22:07:17.796612Z",
     "start_time": "2023-12-12T22:07:17.764630Z"
    }
   },
   "id": "6c8296a56be45c1a"
  },
  {
   "cell_type": "code",
   "execution_count": 10,
   "outputs": [
    {
     "data": {
      "text/plain": "Empty DataFrame\nColumns: [technology, capacity_type, location, year, capacity]\nIndex: []",
      "text/html": "<div>\n<style scoped>\n    .dataframe tbody tr th:only-of-type {\n        vertical-align: middle;\n    }\n\n    .dataframe tbody tr th {\n        vertical-align: top;\n    }\n\n    .dataframe thead th {\n        text-align: right;\n    }\n</style>\n<table border=\"1\" class=\"dataframe\">\n  <thead>\n    <tr style=\"text-align: right;\">\n      <th></th>\n      <th>technology</th>\n      <th>capacity_type</th>\n      <th>location</th>\n      <th>year</th>\n      <th>capacity</th>\n    </tr>\n  </thead>\n  <tbody>\n  </tbody>\n</table>\n</div>"
     },
     "execution_count": 10,
     "metadata": {},
     "output_type": "execute_result"
    }
   ],
   "source": [
    "# Subtract 'capacity' values in df from df2\n",
    "result_df = df2.copy()  # Make a copy of df2 to avoid modifying the original DataFrame\n",
    "result_df['capacity'] = df2['capacity'] - df['capacity']\n",
    "result_df = result_df[result_df['capacity'] != 0]\n",
    "result_df"
   ],
   "metadata": {
    "collapsed": false,
    "ExecuteTime": {
     "end_time": "2023-12-12T22:07:20.414178Z",
     "start_time": "2023-12-12T22:07:20.383571Z"
    }
   },
   "id": "e243de869c9e11bf"
  },
  {
   "cell_type": "code",
   "execution_count": 22,
   "outputs": [
    {
     "data": {
      "text/plain": "array(['capture_amine', 'compression_16_110bar', 'condition_110bar',\n       'condition_16bar', 'decompression_110_16bar',\n       'decompression_110bar_ambient', 'emergency_storage', 'emitter_wte',\n       'heat_pump', 'permanent_storage', 'flowline', 'truck_batch'],\n      dtype=object)"
     },
     "execution_count": 22,
     "metadata": {},
     "output_type": "execute_result"
    }
   ],
   "source": [
    "#Find unique Technologies\n",
    "technology = df['technology'].unique()\n",
    "technology"
   ],
   "metadata": {
    "collapsed": false,
    "ExecuteTime": {
     "end_time": "2023-12-12T21:54:13.622140Z",
     "start_time": "2023-12-12T21:54:13.593151Z"
    }
   },
   "id": "d3fca5d70659439c"
  },
  {
   "cell_type": "code",
   "execution_count": 24,
   "outputs": [],
   "source": [
    "#Create existing capacity files\n",
    "\n",
    "for i in range(len(technology)):\n",
    "     \n",
    "    #Get table of one technology \n",
    "    tec = technology[i]\n",
    "    x = df[df['technology'] == tec]\n",
    "    \n",
    "    #Set path\n",
    "    parent_path = Path('/Users/davidbertschinger/Documents/GitHub/ZEN-garden/data/01_mini_CCTS_existing')\n",
    "    path = [file for file in Path(parent_path).rglob(tec)]\n",
    "    path = path[0]\n",
    "    filepath = Path(str(path)+'/capacity_existing.csv')\n",
    "    \n",
    "    #Clean up table\n",
    "    x = x.drop(columns='capacity_type')\n",
    "    x = x.drop(columns='technology')\n",
    "    x = x[x['capacity'] != 0]\n",
    "    x = x.rename(columns={'year': 'year_construction'})\n",
    "    x = x.rename(columns={'capacity': 'capacity_existing'})\n",
    "    x['year_construction'] = x['year_construction'] + 2025 \n",
    "    if not x['capacity_existing'].empty:\n",
    "        x['capacity_existing'] = x['capacity_existing'].diff().fillna(x['capacity_existing'].iat[0]).clip(lower=0)\n",
    "    \n",
    "    if  tec == 'biomethane_boiler':\n",
    "        x['capacity_existing'] = x['capacity_existing'] / 1000\n",
    "    \n",
    "    #clean up table, differentiate between node and edge\n",
    "    if path.parent.name == 'set_transport_technologies':\n",
    "        x = x.rename(columns={'location': 'edge'})\n",
    "\n",
    "    else:\n",
    "        x = x.rename(columns={'location': 'node'})\n",
    "\n",
    "    #Safe\n",
    "    x.to_csv(filepath, index=False)"
   ],
   "metadata": {
    "collapsed": false,
    "ExecuteTime": {
     "end_time": "2023-12-12T21:55:17.367346Z",
     "start_time": "2023-12-12T21:55:17.268355Z"
    }
   },
   "id": "74d03fb0b90ce096"
  },
  {
   "cell_type": "code",
   "execution_count": 19,
   "outputs": [
    {
     "data": {
      "text/plain": "Empty DataFrame\nColumns: [location, year_construction, capacity_existing]\nIndex: []",
      "text/html": "<div>\n<style scoped>\n    .dataframe tbody tr th:only-of-type {\n        vertical-align: middle;\n    }\n\n    .dataframe tbody tr th {\n        vertical-align: top;\n    }\n\n    .dataframe thead th {\n        text-align: right;\n    }\n</style>\n<table border=\"1\" class=\"dataframe\">\n  <thead>\n    <tr style=\"text-align: right;\">\n      <th></th>\n      <th>location</th>\n      <th>year_construction</th>\n      <th>capacity_existing</th>\n    </tr>\n  </thead>\n  <tbody>\n  </tbody>\n</table>\n</div>"
     },
     "execution_count": 19,
     "metadata": {},
     "output_type": "execute_result"
    }
   ],
   "source": [
    "tec = technology[2]\n",
    "x = df[df['technology'] == tec]\n",
    "\n",
    "#Clean up table\n",
    "x = x.drop(columns='capacity_type')\n",
    "x = x.drop(columns='technology')\n",
    "x = x[x['capacity'] != 0]\n",
    "x = x.rename(columns={'year': 'year_construction'})\n",
    "x = x.rename(columns={'capacity': 'capacity_existing'})\n",
    "x['year_construction'] = x['year_construction'] + 2025 \n",
    "x"
   ],
   "metadata": {
    "collapsed": false,
    "ExecuteTime": {
     "end_time": "2023-11-30T10:13:44.657761Z",
     "start_time": "2023-11-30T10:13:44.621355Z"
    }
   },
   "id": "c77fd62cb57951e3"
  },
  {
   "cell_type": "code",
   "execution_count": 30,
   "outputs": [
    {
     "data": {
      "text/plain": "          location  year   capacity\n12300  cement_1_CH     0  57.941061\n12301  cement_1_CH     1  57.941061\n12302  cement_1_CH     2  57.941061\n12303  cement_1_CH     3  57.941061\n12304  cement_1_CH     4  57.941061\n...            ...   ...        ...\n12445  cement_6_CH    20  40.444902\n12446  cement_6_CH    21  40.444902\n12447  cement_6_CH    22  40.444902\n12448  cement_6_CH    23  40.444902\n12449  cement_6_CH    24  40.444902\n\n[150 rows x 3 columns]",
      "text/html": "<div>\n<style scoped>\n    .dataframe tbody tr th:only-of-type {\n        vertical-align: middle;\n    }\n\n    .dataframe tbody tr th {\n        vertical-align: top;\n    }\n\n    .dataframe thead th {\n        text-align: right;\n    }\n</style>\n<table border=\"1\" class=\"dataframe\">\n  <thead>\n    <tr style=\"text-align: right;\">\n      <th></th>\n      <th>location</th>\n      <th>year</th>\n      <th>capacity</th>\n    </tr>\n  </thead>\n  <tbody>\n    <tr>\n      <th>12300</th>\n      <td>cement_1_CH</td>\n      <td>0</td>\n      <td>57.941061</td>\n    </tr>\n    <tr>\n      <th>12301</th>\n      <td>cement_1_CH</td>\n      <td>1</td>\n      <td>57.941061</td>\n    </tr>\n    <tr>\n      <th>12302</th>\n      <td>cement_1_CH</td>\n      <td>2</td>\n      <td>57.941061</td>\n    </tr>\n    <tr>\n      <th>12303</th>\n      <td>cement_1_CH</td>\n      <td>3</td>\n      <td>57.941061</td>\n    </tr>\n    <tr>\n      <th>12304</th>\n      <td>cement_1_CH</td>\n      <td>4</td>\n      <td>57.941061</td>\n    </tr>\n    <tr>\n      <th>...</th>\n      <td>...</td>\n      <td>...</td>\n      <td>...</td>\n    </tr>\n    <tr>\n      <th>12445</th>\n      <td>cement_6_CH</td>\n      <td>20</td>\n      <td>40.444902</td>\n    </tr>\n    <tr>\n      <th>12446</th>\n      <td>cement_6_CH</td>\n      <td>21</td>\n      <td>40.444902</td>\n    </tr>\n    <tr>\n      <th>12447</th>\n      <td>cement_6_CH</td>\n      <td>22</td>\n      <td>40.444902</td>\n    </tr>\n    <tr>\n      <th>12448</th>\n      <td>cement_6_CH</td>\n      <td>23</td>\n      <td>40.444902</td>\n    </tr>\n    <tr>\n      <th>12449</th>\n      <td>cement_6_CH</td>\n      <td>24</td>\n      <td>40.444902</td>\n    </tr>\n  </tbody>\n</table>\n<p>150 rows × 3 columns</p>\n</div>"
     },
     "execution_count": 30,
     "metadata": {},
     "output_type": "execute_result"
    }
   ],
   "source": [
    "tec = technology[10]\n",
    "x = df[df['technology'] == tec]\n",
    "\n",
    "#Clean up table\n",
    "x = x.drop(columns='capacity_type')\n",
    "x = x.drop(columns='technology')\n",
    "x = x[x['capacity'] != 0]\n",
    "\n",
    "x"
   ],
   "metadata": {
    "collapsed": false,
    "ExecuteTime": {
     "end_time": "2023-11-30T10:17:24.608908Z",
     "start_time": "2023-11-30T10:17:24.527433Z"
    }
   },
   "id": "5838ce0c9feb16e8"
  },
  {
   "cell_type": "code",
   "execution_count": 35,
   "outputs": [
    {
     "data": {
      "text/plain": "       technology capacity_type                              location  year  \\\n176775   flowline         power           basel_export_CH-cement_1_CH     0   \n176776   flowline         power           basel_export_CH-cement_1_CH     1   \n176777   flowline         power           basel_export_CH-cement_1_CH     2   \n176778   flowline         power           basel_export_CH-cement_1_CH     3   \n176779   flowline         power           basel_export_CH-cement_1_CH     4   \n...           ...           ...                                   ...   ...   \n216370   flowline         power  zeebrugge_BE-wintershall_dea_luna_NO    20   \n216371   flowline         power  zeebrugge_BE-wintershall_dea_luna_NO    21   \n216372   flowline         power  zeebrugge_BE-wintershall_dea_luna_NO    22   \n216373   flowline         power  zeebrugge_BE-wintershall_dea_luna_NO    23   \n216374   flowline         power  zeebrugge_BE-wintershall_dea_luna_NO    24   \n\n        capacity  \n176775       0.0  \n176776       0.0  \n176777       0.0  \n176778       0.0  \n176779       0.0  \n...          ...  \n216370       0.0  \n216371       0.0  \n216372       0.0  \n216373       0.0  \n216374       0.0  \n\n[39600 rows x 5 columns]",
      "text/html": "<div>\n<style scoped>\n    .dataframe tbody tr th:only-of-type {\n        vertical-align: middle;\n    }\n\n    .dataframe tbody tr th {\n        vertical-align: top;\n    }\n\n    .dataframe thead th {\n        text-align: right;\n    }\n</style>\n<table border=\"1\" class=\"dataframe\">\n  <thead>\n    <tr style=\"text-align: right;\">\n      <th></th>\n      <th>technology</th>\n      <th>capacity_type</th>\n      <th>location</th>\n      <th>year</th>\n      <th>capacity</th>\n    </tr>\n  </thead>\n  <tbody>\n    <tr>\n      <th>176775</th>\n      <td>flowline</td>\n      <td>power</td>\n      <td>basel_export_CH-cement_1_CH</td>\n      <td>0</td>\n      <td>0.0</td>\n    </tr>\n    <tr>\n      <th>176776</th>\n      <td>flowline</td>\n      <td>power</td>\n      <td>basel_export_CH-cement_1_CH</td>\n      <td>1</td>\n      <td>0.0</td>\n    </tr>\n    <tr>\n      <th>176777</th>\n      <td>flowline</td>\n      <td>power</td>\n      <td>basel_export_CH-cement_1_CH</td>\n      <td>2</td>\n      <td>0.0</td>\n    </tr>\n    <tr>\n      <th>176778</th>\n      <td>flowline</td>\n      <td>power</td>\n      <td>basel_export_CH-cement_1_CH</td>\n      <td>3</td>\n      <td>0.0</td>\n    </tr>\n    <tr>\n      <th>176779</th>\n      <td>flowline</td>\n      <td>power</td>\n      <td>basel_export_CH-cement_1_CH</td>\n      <td>4</td>\n      <td>0.0</td>\n    </tr>\n    <tr>\n      <th>...</th>\n      <td>...</td>\n      <td>...</td>\n      <td>...</td>\n      <td>...</td>\n      <td>...</td>\n    </tr>\n    <tr>\n      <th>216370</th>\n      <td>flowline</td>\n      <td>power</td>\n      <td>zeebrugge_BE-wintershall_dea_luna_NO</td>\n      <td>20</td>\n      <td>0.0</td>\n    </tr>\n    <tr>\n      <th>216371</th>\n      <td>flowline</td>\n      <td>power</td>\n      <td>zeebrugge_BE-wintershall_dea_luna_NO</td>\n      <td>21</td>\n      <td>0.0</td>\n    </tr>\n    <tr>\n      <th>216372</th>\n      <td>flowline</td>\n      <td>power</td>\n      <td>zeebrugge_BE-wintershall_dea_luna_NO</td>\n      <td>22</td>\n      <td>0.0</td>\n    </tr>\n    <tr>\n      <th>216373</th>\n      <td>flowline</td>\n      <td>power</td>\n      <td>zeebrugge_BE-wintershall_dea_luna_NO</td>\n      <td>23</td>\n      <td>0.0</td>\n    </tr>\n    <tr>\n      <th>216374</th>\n      <td>flowline</td>\n      <td>power</td>\n      <td>zeebrugge_BE-wintershall_dea_luna_NO</td>\n      <td>24</td>\n      <td>0.0</td>\n    </tr>\n  </tbody>\n</table>\n<p>39600 rows × 5 columns</p>\n</div>"
     },
     "execution_count": 35,
     "metadata": {},
     "output_type": "execute_result"
    }
   ],
   "source": [
    "x['increments'] = x['capacity_existing'].diff().fillna(0).clip(lower=0)"
   ],
   "metadata": {
    "collapsed": false,
    "ExecuteTime": {
     "end_time": "2023-11-20T21:52:31.365389Z",
     "start_time": "2023-11-20T21:52:31.332542Z"
    }
   },
   "id": "ad8729f1c96f5df7"
  },
  {
   "cell_type": "code",
   "execution_count": 26,
   "outputs": [
    {
     "ename": "TypeError",
     "evalue": "unsupported operand type(s) for -: 'str' and 'str'",
     "output_type": "error",
     "traceback": [
      "\u001B[0;31m---------------------------------------------------------------------------\u001B[0m",
      "\u001B[0;31mTypeError\u001B[0m                                 Traceback (most recent call last)",
      "File \u001B[0;32m~/anaconda3/envs/zen-garden-linopy/lib/python3.11/site-packages/pandas/core/ops/array_ops.py:220\u001B[0m, in \u001B[0;36m_na_arithmetic_op\u001B[0;34m(left, right, op, is_cmp)\u001B[0m\n\u001B[1;32m    219\u001B[0m \u001B[38;5;28;01mtry\u001B[39;00m:\n\u001B[0;32m--> 220\u001B[0m     result \u001B[38;5;241m=\u001B[39m func(left, right)\n\u001B[1;32m    221\u001B[0m \u001B[38;5;28;01mexcept\u001B[39;00m \u001B[38;5;167;01mTypeError\u001B[39;00m:\n",
      "File \u001B[0;32m~/anaconda3/envs/zen-garden-linopy/lib/python3.11/site-packages/pandas/core/computation/expressions.py:242\u001B[0m, in \u001B[0;36mevaluate\u001B[0;34m(op, a, b, use_numexpr)\u001B[0m\n\u001B[1;32m    240\u001B[0m     \u001B[38;5;28;01mif\u001B[39;00m use_numexpr:\n\u001B[1;32m    241\u001B[0m         \u001B[38;5;66;03m# error: \"None\" not callable\u001B[39;00m\n\u001B[0;32m--> 242\u001B[0m         \u001B[38;5;28;01mreturn\u001B[39;00m _evaluate(op, op_str, a, b)  \u001B[38;5;66;03m# type: ignore[misc]\u001B[39;00m\n\u001B[1;32m    243\u001B[0m \u001B[38;5;28;01mreturn\u001B[39;00m _evaluate_standard(op, op_str, a, b)\n",
      "File \u001B[0;32m~/anaconda3/envs/zen-garden-linopy/lib/python3.11/site-packages/pandas/core/computation/expressions.py:131\u001B[0m, in \u001B[0;36m_evaluate_numexpr\u001B[0;34m(op, op_str, a, b)\u001B[0m\n\u001B[1;32m    130\u001B[0m \u001B[38;5;28;01mif\u001B[39;00m result \u001B[38;5;129;01mis\u001B[39;00m \u001B[38;5;28;01mNone\u001B[39;00m:\n\u001B[0;32m--> 131\u001B[0m     result \u001B[38;5;241m=\u001B[39m _evaluate_standard(op, op_str, a, b)\n\u001B[1;32m    133\u001B[0m \u001B[38;5;28;01mreturn\u001B[39;00m result\n",
      "File \u001B[0;32m~/anaconda3/envs/zen-garden-linopy/lib/python3.11/site-packages/pandas/core/computation/expressions.py:73\u001B[0m, in \u001B[0;36m_evaluate_standard\u001B[0;34m(op, op_str, a, b)\u001B[0m\n\u001B[1;32m     72\u001B[0m     _store_test_result(\u001B[38;5;28;01mFalse\u001B[39;00m)\n\u001B[0;32m---> 73\u001B[0m \u001B[38;5;28;01mreturn\u001B[39;00m op(a, b)\n",
      "\u001B[0;31mTypeError\u001B[0m: unsupported operand type(s) for -: 'str' and 'str'",
      "\nDuring handling of the above exception, another exception occurred:\n",
      "\u001B[0;31mTypeError\u001B[0m                                 Traceback (most recent call last)",
      "Cell \u001B[0;32mIn[26], line 1\u001B[0m\n\u001B[0;32m----> 1\u001B[0m x3 \u001B[38;5;241m=\u001B[39m x2 \u001B[38;5;241m-\u001B[39m x\n\u001B[1;32m      2\u001B[0m x3\n",
      "File \u001B[0;32m~/anaconda3/envs/zen-garden-linopy/lib/python3.11/site-packages/pandas/core/ops/common.py:76\u001B[0m, in \u001B[0;36m_unpack_zerodim_and_defer.<locals>.new_method\u001B[0;34m(self, other)\u001B[0m\n\u001B[1;32m     72\u001B[0m             \u001B[38;5;28;01mreturn\u001B[39;00m \u001B[38;5;28mNotImplemented\u001B[39m\n\u001B[1;32m     74\u001B[0m other \u001B[38;5;241m=\u001B[39m item_from_zerodim(other)\n\u001B[0;32m---> 76\u001B[0m \u001B[38;5;28;01mreturn\u001B[39;00m method(\u001B[38;5;28mself\u001B[39m, other)\n",
      "File \u001B[0;32m~/anaconda3/envs/zen-garden-linopy/lib/python3.11/site-packages/pandas/core/arraylike.py:194\u001B[0m, in \u001B[0;36mOpsMixin.__sub__\u001B[0;34m(self, other)\u001B[0m\n\u001B[1;32m    192\u001B[0m \u001B[38;5;129m@unpack_zerodim_and_defer\u001B[39m(\u001B[38;5;124m\"\u001B[39m\u001B[38;5;124m__sub__\u001B[39m\u001B[38;5;124m\"\u001B[39m)\n\u001B[1;32m    193\u001B[0m \u001B[38;5;28;01mdef\u001B[39;00m \u001B[38;5;21m__sub__\u001B[39m(\u001B[38;5;28mself\u001B[39m, other):\n\u001B[0;32m--> 194\u001B[0m     \u001B[38;5;28;01mreturn\u001B[39;00m \u001B[38;5;28mself\u001B[39m\u001B[38;5;241m.\u001B[39m_arith_method(other, operator\u001B[38;5;241m.\u001B[39msub)\n",
      "File \u001B[0;32m~/anaconda3/envs/zen-garden-linopy/lib/python3.11/site-packages/pandas/core/frame.py:7644\u001B[0m, in \u001B[0;36mDataFrame._arith_method\u001B[0;34m(self, other, op)\u001B[0m\n\u001B[1;32m   7641\u001B[0m \u001B[38;5;28mself\u001B[39m, other \u001B[38;5;241m=\u001B[39m \u001B[38;5;28mself\u001B[39m\u001B[38;5;241m.\u001B[39m_align_for_op(other, axis, flex\u001B[38;5;241m=\u001B[39m\u001B[38;5;28;01mTrue\u001B[39;00m, level\u001B[38;5;241m=\u001B[39m\u001B[38;5;28;01mNone\u001B[39;00m)\n\u001B[1;32m   7643\u001B[0m \u001B[38;5;28;01mwith\u001B[39;00m np\u001B[38;5;241m.\u001B[39merrstate(\u001B[38;5;28mall\u001B[39m\u001B[38;5;241m=\u001B[39m\u001B[38;5;124m\"\u001B[39m\u001B[38;5;124mignore\u001B[39m\u001B[38;5;124m\"\u001B[39m):\n\u001B[0;32m-> 7644\u001B[0m     new_data \u001B[38;5;241m=\u001B[39m \u001B[38;5;28mself\u001B[39m\u001B[38;5;241m.\u001B[39m_dispatch_frame_op(other, op, axis\u001B[38;5;241m=\u001B[39maxis)\n\u001B[1;32m   7645\u001B[0m \u001B[38;5;28;01mreturn\u001B[39;00m \u001B[38;5;28mself\u001B[39m\u001B[38;5;241m.\u001B[39m_construct_result(new_data)\n",
      "File \u001B[0;32m~/anaconda3/envs/zen-garden-linopy/lib/python3.11/site-packages/pandas/core/frame.py:7687\u001B[0m, in \u001B[0;36mDataFrame._dispatch_frame_op\u001B[0;34m(self, right, func, axis)\u001B[0m\n\u001B[1;32m   7681\u001B[0m     \u001B[38;5;28;01massert\u001B[39;00m \u001B[38;5;28mself\u001B[39m\u001B[38;5;241m.\u001B[39mcolumns\u001B[38;5;241m.\u001B[39mequals(right\u001B[38;5;241m.\u001B[39mcolumns)\n\u001B[1;32m   7682\u001B[0m     \u001B[38;5;66;03m# TODO: The previous assertion `assert right._indexed_same(self)`\u001B[39;00m\n\u001B[1;32m   7683\u001B[0m     \u001B[38;5;66;03m#  fails in cases with empty columns reached via\u001B[39;00m\n\u001B[1;32m   7684\u001B[0m     \u001B[38;5;66;03m#  _frame_arith_method_with_reindex\u001B[39;00m\n\u001B[1;32m   7685\u001B[0m \n\u001B[1;32m   7686\u001B[0m     \u001B[38;5;66;03m# TODO operate_blockwise expects a manager of the same type\u001B[39;00m\n\u001B[0;32m-> 7687\u001B[0m     bm \u001B[38;5;241m=\u001B[39m \u001B[38;5;28mself\u001B[39m\u001B[38;5;241m.\u001B[39m_mgr\u001B[38;5;241m.\u001B[39moperate_blockwise(\n\u001B[1;32m   7688\u001B[0m         \u001B[38;5;66;03m# error: Argument 1 to \"operate_blockwise\" of \"ArrayManager\" has\u001B[39;00m\n\u001B[1;32m   7689\u001B[0m         \u001B[38;5;66;03m# incompatible type \"Union[ArrayManager, BlockManager]\"; expected\u001B[39;00m\n\u001B[1;32m   7690\u001B[0m         \u001B[38;5;66;03m# \"ArrayManager\"\u001B[39;00m\n\u001B[1;32m   7691\u001B[0m         \u001B[38;5;66;03m# error: Argument 1 to \"operate_blockwise\" of \"BlockManager\" has\u001B[39;00m\n\u001B[1;32m   7692\u001B[0m         \u001B[38;5;66;03m# incompatible type \"Union[ArrayManager, BlockManager]\"; expected\u001B[39;00m\n\u001B[1;32m   7693\u001B[0m         \u001B[38;5;66;03m# \"BlockManager\"\u001B[39;00m\n\u001B[1;32m   7694\u001B[0m         right\u001B[38;5;241m.\u001B[39m_mgr,  \u001B[38;5;66;03m# type: ignore[arg-type]\u001B[39;00m\n\u001B[1;32m   7695\u001B[0m         array_op,\n\u001B[1;32m   7696\u001B[0m     )\n\u001B[1;32m   7697\u001B[0m     \u001B[38;5;28;01mreturn\u001B[39;00m \u001B[38;5;28mself\u001B[39m\u001B[38;5;241m.\u001B[39m_constructor_from_mgr(bm, axes\u001B[38;5;241m=\u001B[39mbm\u001B[38;5;241m.\u001B[39maxes)\n\u001B[1;32m   7699\u001B[0m \u001B[38;5;28;01melif\u001B[39;00m \u001B[38;5;28misinstance\u001B[39m(right, Series) \u001B[38;5;129;01mand\u001B[39;00m axis \u001B[38;5;241m==\u001B[39m \u001B[38;5;241m1\u001B[39m:\n\u001B[1;32m   7700\u001B[0m     \u001B[38;5;66;03m# axis=1 means we want to operate row-by-row\u001B[39;00m\n",
      "File \u001B[0;32m~/anaconda3/envs/zen-garden-linopy/lib/python3.11/site-packages/pandas/core/internals/managers.py:1470\u001B[0m, in \u001B[0;36mBlockManager.operate_blockwise\u001B[0;34m(self, other, array_op)\u001B[0m\n\u001B[1;32m   1466\u001B[0m \u001B[38;5;28;01mdef\u001B[39;00m \u001B[38;5;21moperate_blockwise\u001B[39m(\u001B[38;5;28mself\u001B[39m, other: BlockManager, array_op) \u001B[38;5;241m-\u001B[39m\u001B[38;5;241m>\u001B[39m BlockManager:\n\u001B[1;32m   1467\u001B[0m \u001B[38;5;250m    \u001B[39m\u001B[38;5;124;03m\"\"\"\u001B[39;00m\n\u001B[1;32m   1468\u001B[0m \u001B[38;5;124;03m    Apply array_op blockwise with another (aligned) BlockManager.\u001B[39;00m\n\u001B[1;32m   1469\u001B[0m \u001B[38;5;124;03m    \"\"\"\u001B[39;00m\n\u001B[0;32m-> 1470\u001B[0m     \u001B[38;5;28;01mreturn\u001B[39;00m operate_blockwise(\u001B[38;5;28mself\u001B[39m, other, array_op)\n",
      "File \u001B[0;32m~/anaconda3/envs/zen-garden-linopy/lib/python3.11/site-packages/pandas/core/internals/ops.py:65\u001B[0m, in \u001B[0;36moperate_blockwise\u001B[0;34m(left, right, array_op)\u001B[0m\n\u001B[1;32m     63\u001B[0m res_blks: \u001B[38;5;28mlist\u001B[39m[Block] \u001B[38;5;241m=\u001B[39m []\n\u001B[1;32m     64\u001B[0m \u001B[38;5;28;01mfor\u001B[39;00m lvals, rvals, locs, left_ea, right_ea, rblk \u001B[38;5;129;01min\u001B[39;00m _iter_block_pairs(left, right):\n\u001B[0;32m---> 65\u001B[0m     res_values \u001B[38;5;241m=\u001B[39m array_op(lvals, rvals)\n\u001B[1;32m     66\u001B[0m     \u001B[38;5;28;01mif\u001B[39;00m (\n\u001B[1;32m     67\u001B[0m         left_ea\n\u001B[1;32m     68\u001B[0m         \u001B[38;5;129;01mand\u001B[39;00m \u001B[38;5;129;01mnot\u001B[39;00m right_ea\n\u001B[1;32m     69\u001B[0m         \u001B[38;5;129;01mand\u001B[39;00m \u001B[38;5;28mhasattr\u001B[39m(res_values, \u001B[38;5;124m\"\u001B[39m\u001B[38;5;124mreshape\u001B[39m\u001B[38;5;124m\"\u001B[39m)\n\u001B[1;32m     70\u001B[0m         \u001B[38;5;129;01mand\u001B[39;00m \u001B[38;5;129;01mnot\u001B[39;00m is_1d_only_ea_dtype(res_values\u001B[38;5;241m.\u001B[39mdtype)\n\u001B[1;32m     71\u001B[0m     ):\n\u001B[1;32m     72\u001B[0m         res_values \u001B[38;5;241m=\u001B[39m res_values\u001B[38;5;241m.\u001B[39mreshape(\u001B[38;5;241m1\u001B[39m, \u001B[38;5;241m-\u001B[39m\u001B[38;5;241m1\u001B[39m)\n",
      "File \u001B[0;32m~/anaconda3/envs/zen-garden-linopy/lib/python3.11/site-packages/pandas/core/ops/array_ops.py:285\u001B[0m, in \u001B[0;36marithmetic_op\u001B[0;34m(left, right, op)\u001B[0m\n\u001B[1;32m    281\u001B[0m     _bool_arith_check(op, left, right)  \u001B[38;5;66;03m# type: ignore[arg-type]\u001B[39;00m\n\u001B[1;32m    283\u001B[0m     \u001B[38;5;66;03m# error: Argument 1 to \"_na_arithmetic_op\" has incompatible type\u001B[39;00m\n\u001B[1;32m    284\u001B[0m     \u001B[38;5;66;03m# \"Union[ExtensionArray, ndarray[Any, Any]]\"; expected \"ndarray[Any, Any]\"\u001B[39;00m\n\u001B[0;32m--> 285\u001B[0m     res_values \u001B[38;5;241m=\u001B[39m _na_arithmetic_op(left, right, op)  \u001B[38;5;66;03m# type: ignore[arg-type]\u001B[39;00m\n\u001B[1;32m    287\u001B[0m \u001B[38;5;28;01mreturn\u001B[39;00m res_values\n",
      "File \u001B[0;32m~/anaconda3/envs/zen-garden-linopy/lib/python3.11/site-packages/pandas/core/ops/array_ops.py:229\u001B[0m, in \u001B[0;36m_na_arithmetic_op\u001B[0;34m(left, right, op, is_cmp)\u001B[0m\n\u001B[1;32m    221\u001B[0m \u001B[38;5;28;01mexcept\u001B[39;00m \u001B[38;5;167;01mTypeError\u001B[39;00m:\n\u001B[1;32m    222\u001B[0m     \u001B[38;5;28;01mif\u001B[39;00m \u001B[38;5;129;01mnot\u001B[39;00m is_cmp \u001B[38;5;129;01mand\u001B[39;00m (\n\u001B[1;32m    223\u001B[0m         left\u001B[38;5;241m.\u001B[39mdtype \u001B[38;5;241m==\u001B[39m \u001B[38;5;28mobject\u001B[39m \u001B[38;5;129;01mor\u001B[39;00m \u001B[38;5;28mgetattr\u001B[39m(right, \u001B[38;5;124m\"\u001B[39m\u001B[38;5;124mdtype\u001B[39m\u001B[38;5;124m\"\u001B[39m, \u001B[38;5;28;01mNone\u001B[39;00m) \u001B[38;5;241m==\u001B[39m \u001B[38;5;28mobject\u001B[39m\n\u001B[1;32m    224\u001B[0m     ):\n\u001B[0;32m   (...)\u001B[0m\n\u001B[1;32m    227\u001B[0m         \u001B[38;5;66;03m# Don't do this for comparisons, as that will handle complex numbers\u001B[39;00m\n\u001B[1;32m    228\u001B[0m         \u001B[38;5;66;03m#  incorrectly, see GH#32047\u001B[39;00m\n\u001B[0;32m--> 229\u001B[0m         result \u001B[38;5;241m=\u001B[39m _masked_arith_op(left, right, op)\n\u001B[1;32m    230\u001B[0m     \u001B[38;5;28;01melse\u001B[39;00m:\n\u001B[1;32m    231\u001B[0m         \u001B[38;5;28;01mraise\u001B[39;00m\n",
      "File \u001B[0;32m~/anaconda3/envs/zen-garden-linopy/lib/python3.11/site-packages/pandas/core/ops/array_ops.py:165\u001B[0m, in \u001B[0;36m_masked_arith_op\u001B[0;34m(x, y, op)\u001B[0m\n\u001B[1;32m    163\u001B[0m     \u001B[38;5;66;03m# See GH#5284, GH#5035, GH#19448 for historical reference\u001B[39;00m\n\u001B[1;32m    164\u001B[0m     \u001B[38;5;28;01mif\u001B[39;00m mask\u001B[38;5;241m.\u001B[39many():\n\u001B[0;32m--> 165\u001B[0m         result[mask] \u001B[38;5;241m=\u001B[39m op(xrav[mask], yrav[mask])\n\u001B[1;32m    167\u001B[0m \u001B[38;5;28;01melse\u001B[39;00m:\n\u001B[1;32m    168\u001B[0m     \u001B[38;5;28;01mif\u001B[39;00m \u001B[38;5;129;01mnot\u001B[39;00m is_scalar(y):\n",
      "\u001B[0;31mTypeError\u001B[0m: unsupported operand type(s) for -: 'str' and 'str'"
     ]
    }
   ],
   "source": [
    "x\n"
   ],
   "metadata": {
    "collapsed": false,
    "ExecuteTime": {
     "end_time": "2023-11-20T21:48:20.863077Z",
     "start_time": "2023-11-20T21:48:20.770101Z"
    }
   },
   "id": "f53263fce9520833"
  },
  {
   "cell_type": "code",
   "execution_count": 33,
   "outputs": [
    {
     "ename": "NameError",
     "evalue": "name 'column' is not defined",
     "output_type": "error",
     "traceback": [
      "\u001B[0;31m---------------------------------------------------------------------------\u001B[0m",
      "\u001B[0;31mNameError\u001B[0m                                 Traceback (most recent call last)",
      "Cell \u001B[0;32mIn[33], line 1\u001B[0m\n\u001B[0;32m----> 1\u001B[0m x3 \u001B[38;5;241m=\u001B[39m (x2\u001B[38;5;241m.\u001B[39mset_index([column\u001B[38;5;241m==\u001B[39m\u001B[38;5;241m0\u001B[39m]) \u001B[38;5;241m-\u001B[39m x2\u001B[38;5;241m.\u001B[39mset_index([column\u001B[38;5;241m==\u001B[39m\u001B[38;5;241m0\u001B[39m]))\u001B[38;5;241m.\u001B[39mreset_index()\n\u001B[1;32m      2\u001B[0m x3\n",
      "\u001B[0;31mNameError\u001B[0m: name 'column' is not defined"
     ]
    }
   ],
   "source": [],
   "metadata": {
    "collapsed": false,
    "ExecuteTime": {
     "end_time": "2023-11-20T21:51:20.527641Z",
     "start_time": "2023-11-20T21:51:20.500161Z"
    }
   },
   "id": "2685e2ece43ea5af"
  }
 ],
 "metadata": {
  "kernelspec": {
   "display_name": "Python 3",
   "language": "python",
   "name": "python3"
  },
  "language_info": {
   "codemirror_mode": {
    "name": "ipython",
    "version": 2
   },
   "file_extension": ".py",
   "mimetype": "text/x-python",
   "name": "python",
   "nbconvert_exporter": "python",
   "pygments_lexer": "ipython2",
   "version": "2.7.6"
  }
 },
 "nbformat": 4,
 "nbformat_minor": 5
}
