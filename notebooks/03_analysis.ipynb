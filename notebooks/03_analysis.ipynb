{
 "cells": [
  {
   "cell_type": "code",
   "execution_count": 5,
   "id": "initial_id",
   "metadata": {
    "collapsed": true,
    "ExecuteTime": {
     "end_time": "2024-01-08T13:57:39.241799Z",
     "start_time": "2024-01-08T13:57:39.202930Z"
    }
   },
   "outputs": [
    {
     "name": "stdout",
     "output_type": "stream",
     "text": [
      "The autoreload extension is already loaded. To reload it, use:\n",
      "  %reload_ext autoreload\n"
     ]
    }
   ],
   "source": [
    "import pandas as pd\n",
    "%load_ext autoreload\n",
    "%autoreload 2"
   ]
  },
  {
   "cell_type": "code",
   "execution_count": 11,
   "outputs": [],
   "source": [
    "%matplotlib inline\n",
    "\n",
    "from pprint import pprint\n",
    "from zen_garden.postprocess.results import Results\n",
    "\n",
    "from pathlib import Path\n",
    "from os import chdir"
   ],
   "metadata": {
    "collapsed": false,
    "ExecuteTime": {
     "end_time": "2024-01-08T13:58:33.701758Z",
     "start_time": "2024-01-08T13:58:33.635446Z"
    }
   },
   "id": "780397ba889ec419"
  },
  {
   "cell_type": "code",
   "execution_count": 15,
   "outputs": [],
   "source": [
    "#Set path\n",
    "path = Path('/Users/davidbertschinger/Documents/GitHub/ZEN-garden/notebooks')\n",
    "chdir(path)"
   ],
   "metadata": {
    "collapsed": false,
    "ExecuteTime": {
     "end_time": "2024-01-08T14:00:55.379218Z",
     "start_time": "2024-01-08T14:00:55.356739Z"
    }
   },
   "id": "1993ef780d414ee9"
  },
  {
   "cell_type": "code",
   "execution_count": 16,
   "outputs": [],
   "source": [
    "# cost optimal solution\n",
    "res_basic = Results(\"../data/outputs/01_mini_CCTS\")\n",
    "\n",
    "# cost optimal solution with existing capacities\n",
    "res_existing = Results(\"../data/outputs/01_mini_CCTS_existing\")"
   ],
   "metadata": {
    "collapsed": false,
    "ExecuteTime": {
     "end_time": "2024-01-08T14:00:55.824658Z",
     "start_time": "2024-01-08T14:00:55.792682Z"
    }
   },
   "id": "c77fd62cb57951e3"
  },
  {
   "cell_type": "code",
   "execution_count": 19,
   "outputs": [],
   "source": [
    "df = res_basic.get_df('capacity', to_csv=\"capacity\")\n",
    "df2 = res_existing.get_df('capacity', to_csv=\"capacity2\")"
   ],
   "metadata": {
    "collapsed": false,
    "ExecuteTime": {
     "end_time": "2024-01-08T14:03:14.901835Z",
     "start_time": "2024-01-08T14:03:14.817684Z"
    }
   },
   "id": "5838ce0c9feb16e8"
  },
  {
   "cell_type": "code",
   "execution_count": 27,
   "outputs": [],
   "source": [
    "df = pd.read_csv('capacity.csv')\n",
    "df2 = pd.read_csv('capacity2.csv')"
   ],
   "metadata": {
    "collapsed": false,
    "ExecuteTime": {
     "end_time": "2024-01-08T14:05:20.622046Z",
     "start_time": "2024-01-08T14:05:20.578975Z"
    }
   },
   "id": "ee54d05ccfcb3442"
  },
  {
   "cell_type": "code",
   "execution_count": 28,
   "outputs": [
    {
     "data": {
      "text/plain": "      technology capacity_type    location  year      capacity\n4  capture_amine         power  waste_1_CH     1  3.552714e-15\n5  capture_amine         power  waste_1_CH     2  3.552714e-15",
      "text/html": "<div>\n<style scoped>\n    .dataframe tbody tr th:only-of-type {\n        vertical-align: middle;\n    }\n\n    .dataframe tbody tr th {\n        vertical-align: top;\n    }\n\n    .dataframe thead th {\n        text-align: right;\n    }\n</style>\n<table border=\"1\" class=\"dataframe\">\n  <thead>\n    <tr style=\"text-align: right;\">\n      <th></th>\n      <th>technology</th>\n      <th>capacity_type</th>\n      <th>location</th>\n      <th>year</th>\n      <th>capacity</th>\n    </tr>\n  </thead>\n  <tbody>\n    <tr>\n      <th>4</th>\n      <td>capture_amine</td>\n      <td>power</td>\n      <td>waste_1_CH</td>\n      <td>1</td>\n      <td>3.552714e-15</td>\n    </tr>\n    <tr>\n      <th>5</th>\n      <td>capture_amine</td>\n      <td>power</td>\n      <td>waste_1_CH</td>\n      <td>2</td>\n      <td>3.552714e-15</td>\n    </tr>\n  </tbody>\n</table>\n</div>"
     },
     "execution_count": 28,
     "metadata": {},
     "output_type": "execute_result"
    }
   ],
   "source": [
    "# Subtract 'capacity' values in df from df2\n",
    "result_df = df2.copy()  # Make a copy of df2 to avoid modifying the original DataFrame\n",
    "result_df['capacity'] = df2['capacity'] - df['capacity']\n",
    "result_df = result_df[result_df['capacity'] != 0]\n",
    "result_df"
   ],
   "metadata": {
    "collapsed": false,
    "ExecuteTime": {
     "end_time": "2024-01-08T14:05:21.203266Z",
     "start_time": "2024-01-08T14:05:21.182746Z"
    }
   },
   "id": "ad8729f1c96f5df7"
  },
  {
   "cell_type": "code",
   "execution_count": 30,
   "outputs": [
    {
     "data": {
      "text/plain": "technology   edge                         time_operation\nflowline     waste_1_CH-swiss_storage_CH  0                  0.000000\n                                          1                  0.000000\n                                          2                  0.000000\n             waste_2_CH-swiss_storage_CH  0                  0.000000\n                                          1                  0.000000\n                                          2                  0.000000\n             waste_1_CH-waste_2_CH        0                  0.000000\n                                          1                  0.000000\n                                          2                  0.000000\ntruck_batch  waste_1_CH-swiss_storage_CH  0                 13.524567\n                                          1                 22.440746\n                                          2                 26.285072\n             waste_2_CH-swiss_storage_CH  0                  0.000000\n                                          1                  0.000000\n                                          2                  1.513804\n             waste_1_CH-waste_2_CH        0                  0.000000\n                                          1                  0.000000\n                                          2                  0.000000\nName: flow_transport, dtype: float64"
     },
     "execution_count": 30,
     "metadata": {},
     "output_type": "execute_result"
    }
   ],
   "source": [
    "res_basic.get_df(\"flow_transport\")"
   ],
   "metadata": {
    "collapsed": false,
    "ExecuteTime": {
     "end_time": "2024-01-08T14:07:13.703094Z",
     "start_time": "2024-01-08T14:07:13.635047Z"
    }
   },
   "id": "47460a848df8fd0"
  },
  {
   "cell_type": "code",
   "execution_count": 31,
   "outputs": [
    {
     "data": {
      "text/plain": "technology   edge                         year\nflowline     waste_1_CH-swiss_storage_CH  0             inf\n                                          1             inf\n                                          2             inf\n             waste_2_CH-swiss_storage_CH  0             inf\n                                          1             inf\n                                          2             inf\n             waste_1_CH-waste_2_CH        0             inf\n                                          1             inf\n                                          2             inf\ntruck_batch  waste_1_CH-swiss_storage_CH  0       13.524567\n                                          1       22.440746\n                                          2       26.285072\n             waste_2_CH-swiss_storage_CH  0             inf\n                                          1             inf\n                                          2        1.513804\n             waste_1_CH-waste_2_CH        0             inf\n                                          1             inf\n                                          2             inf\nName: nominal_flow_transport, dtype: float64"
     },
     "execution_count": 31,
     "metadata": {},
     "output_type": "execute_result"
    }
   ],
   "source": [
    "res_existing.get_df(\"nominal_flow_transport\")"
   ],
   "metadata": {
    "collapsed": false,
    "ExecuteTime": {
     "end_time": "2024-01-08T14:07:32.674347Z",
     "start_time": "2024-01-08T14:07:32.631283Z"
    }
   },
   "id": "94c2465e654941b0"
  },
  {
   "cell_type": "code",
   "execution_count": 32,
   "outputs": [
    {
     "data": {
      "text/plain": "technology   edge                         time_operation\nflowline     waste_1_CH-swiss_storage_CH  0                  0.000000\n                                          1                  0.000000\n                                          2                  0.000000\n             waste_2_CH-swiss_storage_CH  0                  0.000000\n                                          1                  0.000000\n                                          2                  0.000000\n             waste_1_CH-waste_2_CH        0                  0.000000\n                                          1                  0.000000\n                                          2                  0.000000\ntruck_batch  waste_1_CH-swiss_storage_CH  0                 13.524567\n                                          1                 22.440746\n                                          2                 26.285072\n             waste_2_CH-swiss_storage_CH  0                  0.000000\n                                          1                  0.000000\n                                          2                  1.513804\n             waste_1_CH-waste_2_CH        0                  0.000000\n                                          1                  0.000000\n                                          2                  0.000000\nName: flow_transport, dtype: float64"
     },
     "execution_count": 32,
     "metadata": {},
     "output_type": "execute_result"
    }
   ],
   "source": [
    "res_basic.get_df(\"flow_transport\")"
   ],
   "metadata": {
    "collapsed": false,
    "ExecuteTime": {
     "end_time": "2024-01-08T14:08:19.595836Z",
     "start_time": "2024-01-08T14:08:19.520361Z"
    }
   },
   "id": "db6dec08ac2df6e"
  },
  {
   "cell_type": "code",
   "execution_count": 33,
   "outputs": [
    {
     "data": {
      "text/plain": "technology   edge                         failure_states                            time_operation\nflowline     waste_1_CH-swiss_storage_CH  truck_batch: waste_1_CH-swiss_storage_CH  0                  0.000000\n                                                                                    1                  0.000000\n                                                                                    2                  0.000000\n                                          truck_batch: waste_2_CH-swiss_storage_CH  0                  0.000000\n                                                                                    1                  0.000000\n                                                                                    2                  0.000000\n             waste_2_CH-swiss_storage_CH  truck_batch: waste_1_CH-swiss_storage_CH  0                  0.000000\n                                                                                    1                  0.000000\n                                                                                    2                  0.000000\n                                          truck_batch: waste_2_CH-swiss_storage_CH  0                  0.000000\n                                                                                    1                  0.000000\n                                                                                    2                  0.000000\n             waste_1_CH-waste_2_CH        truck_batch: waste_1_CH-swiss_storage_CH  0                  0.000000\n                                                                                    1                  0.000000\n                                                                                    2                  0.000000\n                                          truck_batch: waste_2_CH-swiss_storage_CH  0                  0.000000\n                                                                                    1                  0.000000\n                                                                                    2                  0.000000\ntruck_batch  waste_1_CH-swiss_storage_CH  truck_batch: waste_1_CH-swiss_storage_CH  0                  6.739132\n                                                                                    1                 11.181958\n                                                                                    2                 13.142536\n                                          truck_batch: waste_2_CH-swiss_storage_CH  0                  6.739132\n                                                                                    1                 11.181958\n                                                                                    2                 13.142536\n             waste_2_CH-swiss_storage_CH  truck_batch: waste_1_CH-swiss_storage_CH  0                  0.000000\n                                                                                    1                  0.000000\n                                                                                    2                  0.707077\n                                          truck_batch: waste_2_CH-swiss_storage_CH  0                  0.000000\n                                                                                    1                  0.000000\n                                                                                    2                  0.707077\n             waste_1_CH-waste_2_CH        truck_batch: waste_1_CH-swiss_storage_CH  0                  0.000000\n                                                                                    1                  0.000000\n                                                                                    2                  0.000000\n                                          truck_batch: waste_2_CH-swiss_storage_CH  0                  0.000000\n                                                                                    1                  0.000000\n                                                                                    2                  0.000000\nName: flow_transport, dtype: float64"
     },
     "execution_count": 33,
     "metadata": {},
     "output_type": "execute_result"
    }
   ],
   "source": [
    "res_existing.get_df(\"flow_transport\")"
   ],
   "metadata": {
    "collapsed": false,
    "ExecuteTime": {
     "end_time": "2024-01-08T14:08:34.038851Z",
     "start_time": "2024-01-08T14:08:33.990365Z"
    }
   },
   "id": "a4f6d4d782d4747d"
  },
  {
   "cell_type": "code",
   "execution_count": null,
   "outputs": [],
   "source": [],
   "metadata": {
    "collapsed": false
   },
   "id": "4aebc8bc29a61a29"
  }
 ],
 "metadata": {
  "kernelspec": {
   "display_name": "Python 3",
   "language": "python",
   "name": "python3"
  },
  "language_info": {
   "codemirror_mode": {
    "name": "ipython",
    "version": 2
   },
   "file_extension": ".py",
   "mimetype": "text/x-python",
   "name": "python",
   "nbconvert_exporter": "python",
   "pygments_lexer": "ipython2",
   "version": "2.7.6"
  }
 },
 "nbformat": 4,
 "nbformat_minor": 5
}
