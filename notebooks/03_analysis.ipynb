{
 "cells": [
  {
   "cell_type": "code",
   "execution_count": 1,
   "id": "initial_id",
   "metadata": {
    "collapsed": true,
    "ExecuteTime": {
     "end_time": "2024-01-26T08:58:37.485960Z",
     "start_time": "2024-01-26T08:58:37.180886Z"
    }
   },
   "outputs": [],
   "source": [
    "import pandas as pd\n",
    "%load_ext autoreload\n",
    "%autoreload 2"
   ]
  },
  {
   "cell_type": "code",
   "execution_count": 2,
   "outputs": [],
   "source": [
    "%matplotlib inline\n",
    "\n",
    "from pprint import pprint\n",
    "from zen_garden.postprocess.results import Results\n",
    "\n",
    "from pathlib import Path\n",
    "from os import chdir"
   ],
   "metadata": {
    "collapsed": false,
    "ExecuteTime": {
     "end_time": "2024-01-26T08:58:38.507761Z",
     "start_time": "2024-01-26T08:58:37.486241Z"
    }
   },
   "id": "780397ba889ec419"
  },
  {
   "cell_type": "code",
   "execution_count": 3,
   "outputs": [],
   "source": [
    "#Set path\n",
    "path = Path('/Users/davidbertschinger/Documents/GitHub/ZEN-garden/notebooks')\n",
    "chdir(path)"
   ],
   "metadata": {
    "collapsed": false,
    "ExecuteTime": {
     "end_time": "2024-01-26T08:58:38.519733Z",
     "start_time": "2024-01-26T08:58:38.506873Z"
    }
   },
   "id": "1993ef780d414ee9"
  },
  {
   "cell_type": "code",
   "execution_count": 5,
   "outputs": [],
   "source": [
    "# cost optimal solution\n",
    "res_basic = Results(\"../data/outputs/01_mini_CCTS\")\n",
    "\n",
    "# cost optimal solution with existing capacities\n",
    "res_existing = Results(\"../data/outputs/01_mini_CCTS_existing\")"
   ],
   "metadata": {
    "collapsed": false,
    "ExecuteTime": {
     "end_time": "2024-01-22T13:40:06.029127Z",
     "start_time": "2024-01-22T13:40:05.987600Z"
    }
   },
   "id": "c77fd62cb57951e3"
  },
  {
   "cell_type": "code",
   "execution_count": 6,
   "outputs": [],
   "source": [
    "df = res_basic.get_df('capacity', to_csv=\"capacity\")\n",
    "df2 = res_existing.get_df('capacity', to_csv=\"capacity2\")"
   ],
   "metadata": {
    "collapsed": false,
    "ExecuteTime": {
     "end_time": "2024-01-22T13:40:07.836326Z",
     "start_time": "2024-01-22T13:40:07.789154Z"
    }
   },
   "id": "5838ce0c9feb16e8"
  },
  {
   "cell_type": "code",
   "execution_count": 7,
   "outputs": [],
   "source": [
    "df = pd.read_csv('capacity.csv')\n",
    "df2 = pd.read_csv('capacity2.csv')"
   ],
   "metadata": {
    "collapsed": false,
    "ExecuteTime": {
     "end_time": "2024-01-22T13:40:10.395165Z",
     "start_time": "2024-01-22T13:40:10.369133Z"
    }
   },
   "id": "ee54d05ccfcb3442"
  },
  {
   "cell_type": "code",
   "execution_count": 8,
   "outputs": [
    {
     "data": {
      "text/plain": "            technology capacity_type                     location  year  \\\n4        capture_amine         power                   waste_1_CH     1   \n5        capture_amine         power                   waste_1_CH     2   \n6        capture_amine         power                   waste_2_CH     0   \n7        capture_amine         power                   waste_2_CH     1   \n8        capture_amine         power                   waste_2_CH     2   \n33     condition_16bar         power                   waste_2_CH     0   \n34     condition_16bar         power                   waste_2_CH     1   \n35     condition_16bar         power                   waste_2_CH     2   \n78           heat_pump         power                   waste_2_CH     0   \n79           heat_pump         power                   waste_2_CH     1   \n80           heat_pump         power                   waste_2_CH     2   \n81   permanent_storage         power             swiss_storage_CH     0   \n82   permanent_storage         power             swiss_storage_CH     1   \n83   permanent_storage         power             swiss_storage_CH     2   \n90         truck_batch         power  waste_1_CH-swiss_storage_CH     0   \n91         truck_batch         power  waste_1_CH-swiss_storage_CH     1   \n92         truck_batch         power  waste_1_CH-swiss_storage_CH     2   \n93         truck_batch         power        waste_1_CH-waste_2_CH     0   \n94         truck_batch         power        waste_1_CH-waste_2_CH     1   \n95         truck_batch         power        waste_1_CH-waste_2_CH     2   \n96         truck_batch         power  waste_2_CH-swiss_storage_CH     0   \n97         truck_batch         power  waste_2_CH-swiss_storage_CH     1   \n98         truck_batch         power  waste_2_CH-swiss_storage_CH     2   \n99         truck_batch         power        waste_2_CH-waste_1_CH     0   \n100        truck_batch         power        waste_2_CH-waste_1_CH     1   \n101        truck_batch         power        waste_2_CH-waste_1_CH     2   \n\n         capacity  \n4    3.552714e-15  \n5    3.552714e-15  \n6    2.786938e-05  \n7    4.624249e-05  \n8    5.666884e-05  \n33   2.776111e-05  \n34   4.606285e-05  \n35   5.644869e-05  \n78   2.245052e-05  \n79   3.725120e-05  \n80   4.565027e-05  \n81   2.776097e-05  \n82   4.606260e-05  \n83   5.644839e-05  \n90   2.776111e-05  \n91   4.606285e-05  \n92   6.131412e-04  \n93   2.748151e-03  \n94   4.559892e-03  \n95   5.341047e-03  \n96   2.775912e-03  \n97   4.605955e-03  \n98   5.397496e-03  \n99   2.776111e-05  \n100  4.606285e-05  \n101  6.131412e-04  ",
      "text/html": "<div>\n<style scoped>\n    .dataframe tbody tr th:only-of-type {\n        vertical-align: middle;\n    }\n\n    .dataframe tbody tr th {\n        vertical-align: top;\n    }\n\n    .dataframe thead th {\n        text-align: right;\n    }\n</style>\n<table border=\"1\" class=\"dataframe\">\n  <thead>\n    <tr style=\"text-align: right;\">\n      <th></th>\n      <th>technology</th>\n      <th>capacity_type</th>\n      <th>location</th>\n      <th>year</th>\n      <th>capacity</th>\n    </tr>\n  </thead>\n  <tbody>\n    <tr>\n      <th>4</th>\n      <td>capture_amine</td>\n      <td>power</td>\n      <td>waste_1_CH</td>\n      <td>1</td>\n      <td>3.552714e-15</td>\n    </tr>\n    <tr>\n      <th>5</th>\n      <td>capture_amine</td>\n      <td>power</td>\n      <td>waste_1_CH</td>\n      <td>2</td>\n      <td>3.552714e-15</td>\n    </tr>\n    <tr>\n      <th>6</th>\n      <td>capture_amine</td>\n      <td>power</td>\n      <td>waste_2_CH</td>\n      <td>0</td>\n      <td>2.786938e-05</td>\n    </tr>\n    <tr>\n      <th>7</th>\n      <td>capture_amine</td>\n      <td>power</td>\n      <td>waste_2_CH</td>\n      <td>1</td>\n      <td>4.624249e-05</td>\n    </tr>\n    <tr>\n      <th>8</th>\n      <td>capture_amine</td>\n      <td>power</td>\n      <td>waste_2_CH</td>\n      <td>2</td>\n      <td>5.666884e-05</td>\n    </tr>\n    <tr>\n      <th>33</th>\n      <td>condition_16bar</td>\n      <td>power</td>\n      <td>waste_2_CH</td>\n      <td>0</td>\n      <td>2.776111e-05</td>\n    </tr>\n    <tr>\n      <th>34</th>\n      <td>condition_16bar</td>\n      <td>power</td>\n      <td>waste_2_CH</td>\n      <td>1</td>\n      <td>4.606285e-05</td>\n    </tr>\n    <tr>\n      <th>35</th>\n      <td>condition_16bar</td>\n      <td>power</td>\n      <td>waste_2_CH</td>\n      <td>2</td>\n      <td>5.644869e-05</td>\n    </tr>\n    <tr>\n      <th>78</th>\n      <td>heat_pump</td>\n      <td>power</td>\n      <td>waste_2_CH</td>\n      <td>0</td>\n      <td>2.245052e-05</td>\n    </tr>\n    <tr>\n      <th>79</th>\n      <td>heat_pump</td>\n      <td>power</td>\n      <td>waste_2_CH</td>\n      <td>1</td>\n      <td>3.725120e-05</td>\n    </tr>\n    <tr>\n      <th>80</th>\n      <td>heat_pump</td>\n      <td>power</td>\n      <td>waste_2_CH</td>\n      <td>2</td>\n      <td>4.565027e-05</td>\n    </tr>\n    <tr>\n      <th>81</th>\n      <td>permanent_storage</td>\n      <td>power</td>\n      <td>swiss_storage_CH</td>\n      <td>0</td>\n      <td>2.776097e-05</td>\n    </tr>\n    <tr>\n      <th>82</th>\n      <td>permanent_storage</td>\n      <td>power</td>\n      <td>swiss_storage_CH</td>\n      <td>1</td>\n      <td>4.606260e-05</td>\n    </tr>\n    <tr>\n      <th>83</th>\n      <td>permanent_storage</td>\n      <td>power</td>\n      <td>swiss_storage_CH</td>\n      <td>2</td>\n      <td>5.644839e-05</td>\n    </tr>\n    <tr>\n      <th>90</th>\n      <td>truck_batch</td>\n      <td>power</td>\n      <td>waste_1_CH-swiss_storage_CH</td>\n      <td>0</td>\n      <td>2.776111e-05</td>\n    </tr>\n    <tr>\n      <th>91</th>\n      <td>truck_batch</td>\n      <td>power</td>\n      <td>waste_1_CH-swiss_storage_CH</td>\n      <td>1</td>\n      <td>4.606285e-05</td>\n    </tr>\n    <tr>\n      <th>92</th>\n      <td>truck_batch</td>\n      <td>power</td>\n      <td>waste_1_CH-swiss_storage_CH</td>\n      <td>2</td>\n      <td>6.131412e-04</td>\n    </tr>\n    <tr>\n      <th>93</th>\n      <td>truck_batch</td>\n      <td>power</td>\n      <td>waste_1_CH-waste_2_CH</td>\n      <td>0</td>\n      <td>2.748151e-03</td>\n    </tr>\n    <tr>\n      <th>94</th>\n      <td>truck_batch</td>\n      <td>power</td>\n      <td>waste_1_CH-waste_2_CH</td>\n      <td>1</td>\n      <td>4.559892e-03</td>\n    </tr>\n    <tr>\n      <th>95</th>\n      <td>truck_batch</td>\n      <td>power</td>\n      <td>waste_1_CH-waste_2_CH</td>\n      <td>2</td>\n      <td>5.341047e-03</td>\n    </tr>\n    <tr>\n      <th>96</th>\n      <td>truck_batch</td>\n      <td>power</td>\n      <td>waste_2_CH-swiss_storage_CH</td>\n      <td>0</td>\n      <td>2.775912e-03</td>\n    </tr>\n    <tr>\n      <th>97</th>\n      <td>truck_batch</td>\n      <td>power</td>\n      <td>waste_2_CH-swiss_storage_CH</td>\n      <td>1</td>\n      <td>4.605955e-03</td>\n    </tr>\n    <tr>\n      <th>98</th>\n      <td>truck_batch</td>\n      <td>power</td>\n      <td>waste_2_CH-swiss_storage_CH</td>\n      <td>2</td>\n      <td>5.397496e-03</td>\n    </tr>\n    <tr>\n      <th>99</th>\n      <td>truck_batch</td>\n      <td>power</td>\n      <td>waste_2_CH-waste_1_CH</td>\n      <td>0</td>\n      <td>2.776111e-05</td>\n    </tr>\n    <tr>\n      <th>100</th>\n      <td>truck_batch</td>\n      <td>power</td>\n      <td>waste_2_CH-waste_1_CH</td>\n      <td>1</td>\n      <td>4.606285e-05</td>\n    </tr>\n    <tr>\n      <th>101</th>\n      <td>truck_batch</td>\n      <td>power</td>\n      <td>waste_2_CH-waste_1_CH</td>\n      <td>2</td>\n      <td>6.131412e-04</td>\n    </tr>\n  </tbody>\n</table>\n</div>"
     },
     "execution_count": 8,
     "metadata": {},
     "output_type": "execute_result"
    }
   ],
   "source": [
    "# Subtract 'capacity' values in df from df2\n",
    "result_df = df2.copy()  # Make a copy of df2 to avoid modifying the original DataFrame\n",
    "result_df['capacity'] = df2['capacity'] - df['capacity']\n",
    "result_df = result_df[result_df['capacity'] != 0]\n",
    "result_df"
   ],
   "metadata": {
    "collapsed": false,
    "ExecuteTime": {
     "end_time": "2024-01-22T13:40:11.015963Z",
     "start_time": "2024-01-22T13:40:10.989921Z"
    }
   },
   "id": "ad8729f1c96f5df7"
  },
  {
   "cell_type": "code",
   "execution_count": 9,
   "outputs": [
    {
     "data": {
      "text/plain": "technology   edge                         time_operation\ntruck_batch  waste_1_CH-swiss_storage_CH  0                 13.524567\n                                          1                 22.440746\n                                          2                 26.285072\n             waste_2_CH-swiss_storage_CH  0                  0.000000\n                                          1                  0.000000\n                                          2                  1.513804\n             waste_1_CH-waste_2_CH        0                  0.000000\n                                          1                  0.000000\n                                          2                  0.000000\n             waste_2_CH-waste_1_CH        0                  0.000000\n                                          1                  0.000000\n                                          2                  0.000000\nName: flow_transport, dtype: float64"
     },
     "execution_count": 9,
     "metadata": {},
     "output_type": "execute_result"
    }
   ],
   "source": [
    "res_basic.get_df(\"flow_transport\")"
   ],
   "metadata": {
    "collapsed": false,
    "ExecuteTime": {
     "end_time": "2024-01-22T13:40:22.588539Z",
     "start_time": "2024-01-22T13:40:22.549353Z"
    }
   },
   "id": "47460a848df8fd0"
  },
  {
   "cell_type": "code",
   "execution_count": 10,
   "outputs": [
    {
     "data": {
      "text/plain": "technology   edge                         time_operation\ntruck_batch  waste_1_CH-swiss_storage_CH  0                 13.524567\n                                          1                 22.440746\n                                          2                 26.285072\n             waste_2_CH-swiss_storage_CH  0                  0.000000\n                                          1                  0.000000\n                                          2                  1.513804\n             waste_1_CH-waste_2_CH        0                  0.000000\n                                          1                  0.000000\n                                          2                  0.000000\n             waste_2_CH-waste_1_CH        0                  0.000000\n                                          1                  0.000000\n                                          2                  0.000000\nName: nominal_flow_transport, dtype: float64"
     },
     "execution_count": 10,
     "metadata": {},
     "output_type": "execute_result"
    }
   ],
   "source": [
    "res_existing.get_df(\"nominal_flow_transport\")"
   ],
   "metadata": {
    "collapsed": false,
    "ExecuteTime": {
     "end_time": "2024-01-22T13:40:26.997678Z",
     "start_time": "2024-01-22T13:40:26.962499Z"
    }
   },
   "id": "94c2465e654941b0"
  },
  {
   "cell_type": "code",
   "execution_count": 11,
   "outputs": [
    {
     "data": {
      "text/plain": "technology   edge                         failure_states                            time_operation\ntruck_batch  waste_1_CH-swiss_storage_CH  truck_batch: waste_1_CH-swiss_storage_CH  0                 13.521819\n                                                                                    1                 22.436186\n                                                                                    2                 26.279731\n                                          truck_batch: waste_2_CH-swiss_storage_CH  0                 13.524595\n                                                                                    1                 22.440792\n                                                                                    2                 26.285685\n             waste_2_CH-swiss_storage_CH  truck_batch: waste_1_CH-swiss_storage_CH  0                  0.002776\n                                                                                    1                  0.004606\n                                                                                    2                  1.519201\n                                          truck_batch: waste_2_CH-swiss_storage_CH  0                  0.000000\n                                                                                    1                  0.000000\n                                                                                    2                  1.513247\n             waste_1_CH-waste_2_CH        truck_batch: waste_1_CH-swiss_storage_CH  0                  0.002748\n                                                                                    1                  0.004560\n                                                                                    2                  0.005341\n                                          truck_batch: waste_2_CH-swiss_storage_CH  0                  0.000000\n                                                                                    1                  0.000000\n                                                                                    2                  0.000000\n             waste_2_CH-waste_1_CH        truck_batch: waste_1_CH-swiss_storage_CH  0                  0.000000\n                                                                                    1                  0.000000\n                                                                                    2                  0.000000\n                                          truck_batch: waste_2_CH-swiss_storage_CH  0                  0.000028\n                                                                                    1                  0.000046\n                                                                                    2                  0.000613\nName: flow_transport, dtype: float64"
     },
     "execution_count": 11,
     "metadata": {},
     "output_type": "execute_result"
    }
   ],
   "source": [
    "res_existing.get_df(\"flow_transport\")"
   ],
   "metadata": {
    "collapsed": false,
    "ExecuteTime": {
     "end_time": "2024-01-22T13:40:41.814025Z",
     "start_time": "2024-01-22T13:40:41.763124Z"
    }
   },
   "id": "db6dec08ac2df6e"
  },
  {
   "cell_type": "code",
   "execution_count": 12,
   "outputs": [
    {
     "data": {
      "text/plain": "technology     capacity_type  location                     year\ncapture_amine  power          swiss_storage_CH             0        0.000000\n                                                           1        0.000000\n                                                           2        0.000000\n                              waste_1_CH                   0       13.577313\n                                                           1       22.528265\n                                                                     ...    \ntruck_batch    power          waste_2_CH-swiss_storage_CH  1        0.004606\n                                                           2        1.519201\n                              waste_2_CH-waste_1_CH        0        0.000028\n                                                           1        0.000046\n                                                           2        0.000613\nName: capacity, Length: 102, dtype: float64"
     },
     "execution_count": 12,
     "metadata": {},
     "output_type": "execute_result"
    }
   ],
   "source": [
    "res_existing.get_df(\"capacity\")"
   ],
   "metadata": {
    "collapsed": false,
    "ExecuteTime": {
     "end_time": "2024-01-22T13:42:00.513891Z",
     "start_time": "2024-01-22T13:42:00.439350Z"
    }
   },
   "id": "a4f6d4d782d4747d"
  },
  {
   "cell_type": "code",
   "execution_count": null,
   "outputs": [],
   "source": [],
   "metadata": {
    "collapsed": false
   },
   "id": "4aebc8bc29a61a29"
  }
 ],
 "metadata": {
  "kernelspec": {
   "display_name": "Python 3",
   "language": "python",
   "name": "python3"
  },
  "language_info": {
   "codemirror_mode": {
    "name": "ipython",
    "version": 2
   },
   "file_extension": ".py",
   "mimetype": "text/x-python",
   "name": "python",
   "nbconvert_exporter": "python",
   "pygments_lexer": "ipython2",
   "version": "2.7.6"
  }
 },
 "nbformat": 4,
 "nbformat_minor": 5
}
