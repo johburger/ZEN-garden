{
 "cells": [
  {
   "cell_type": "code",
   "execution_count": 1,
   "id": "initial_id",
   "metadata": {
    "collapsed": true,
    "ExecuteTime": {
     "end_time": "2024-03-25T18:46:34.724409Z",
     "start_time": "2024-03-25T18:46:33.496543Z"
    }
   },
   "outputs": [],
   "source": [
    "%load_ext autoreload\n",
    "%autoreload 2\n",
    "%matplotlib inline\n",
    "\n",
    "# import\n",
    "import pandas as pd\n",
    "from pprint import pprint\n",
    "from zen_garden.postprocess.results import Results\n",
    "from pathlib import Path\n",
    "from os import chdir\n",
    "\n",
    "# set path\n",
    "path = Path('/Users/davidbertschinger/Documents/GitHub/ZEN-garden/notebooks')\n",
    "chdir(path)"
   ]
  },
  {
   "cell_type": "code",
   "execution_count": 12,
   "outputs": [],
   "source": [
    "# define import path\n",
    "path_import = Path(\"../data/outputs/05_CCTS_WTE_small_01_cost_optimal\")\n",
    "\n",
    "# define export path\n",
    "path_export = Path(\"/Users/davidbertschinger/Documents/GitHub/ZEN-garden/data/05_CCTS_WTE_small_02_n1\")"
   ],
   "metadata": {
    "collapsed": false,
    "ExecuteTime": {
     "end_time": "2024-03-25T18:46:50.981963Z",
     "start_time": "2024-03-25T18:46:50.948139Z"
    }
   },
   "id": "780397ba889ec419"
  },
  {
   "cell_type": "code",
   "execution_count": 13,
   "outputs": [],
   "source": [
    "# cost optimal solution\n",
    "results = Results(path_import)"
   ],
   "metadata": {
    "collapsed": false,
    "ExecuteTime": {
     "end_time": "2024-03-25T18:46:51.148507Z",
     "start_time": "2024-03-25T18:46:51.112183Z"
    }
   },
   "id": "fde41797d10bccf6"
  },
  {
   "cell_type": "code",
   "execution_count": 14,
   "outputs": [
    {
     "data": {
      "text/plain": "technology   edge                          time_operation\nflowline     waste_1_CH-swiss_storage_CH   0                  0.00000\n             waste_1_CH-waste_2_CH         0                  0.00000\n             waste_1_CH-waste_9_CH         0                  0.00000\n             waste_1_CH-waste_11_CH        0                  0.00000\n             waste_1_CH-waste_19_CH        0                 26.08242\n                                                               ...   \ntruck_batch  waste_19_CH-swiss_storage_CH  0                  0.00000\n             waste_19_CH-waste_1_CH        0                  0.00000\n             waste_19_CH-waste_2_CH        0                  0.00000\n             waste_19_CH-waste_9_CH        0                  0.00000\n             waste_19_CH-waste_11_CH       0                  0.00000\nName: flow_transport, Length: 75, dtype: float64"
     },
     "execution_count": 14,
     "metadata": {},
     "output_type": "execute_result"
    }
   ],
   "source": [
    "# get flow transport and save as csv\n",
    "results.get_df('flow_transport', to_csv=\"flow_transport\")"
   ],
   "metadata": {
    "collapsed": false,
    "ExecuteTime": {
     "end_time": "2024-03-25T18:46:51.321777Z",
     "start_time": "2024-03-25T18:46:51.281587Z"
    }
   },
   "id": "fc5db256355e390e"
  },
  {
   "cell_type": "code",
   "execution_count": 15,
   "outputs": [],
   "source": [
    "# get flow transport csv\n",
    "df = pd.read_csv('flow_transport.csv')"
   ],
   "metadata": {
    "collapsed": false,
    "ExecuteTime": {
     "end_time": "2024-03-25T18:46:51.506521Z",
     "start_time": "2024-03-25T18:46:51.481531Z"
    }
   },
   "id": "c5b46bb8b4725cdb"
  },
  {
   "cell_type": "code",
   "execution_count": 16,
   "outputs": [],
   "source": [
    "# create nominal flow transport files\n",
    "\n",
    "# find unique technologies\n",
    "technology = df['technology'].unique()\n",
    "\n",
    "for i in range(len(technology)):\n",
    "     \n",
    "    #Get table of one technology \n",
    "    tec = technology[i]\n",
    "    x = df[df['technology'] == tec]\n",
    "    \n",
    "    #Set path\n",
    "    parent_path = Path(path_export)\n",
    "    path = [file for file in Path(parent_path).rglob(tec)]\n",
    "    path = path[0]\n",
    "    filepath = Path(str(path)+'/nominal_flow_transport.csv')\n",
    "    \n",
    "    #Clean up table\n",
    "    x = x.drop(columns='technology')\n",
    "    x = x[x['flow_transport'] != 0]\n",
    "    x = x.rename(columns={'time_operation': 'year'})\n",
    "    x['year'] = x['year'] + 2025 \n",
    "    \n",
    "    #clean up table, differentiate between node and edge\n",
    "    if path.parent.name == 'set_transport_technologies':\n",
    "        x = x.rename(columns={'location': 'edge'})\n",
    "\n",
    "    else:\n",
    "        x = x.rename(columns={'location': 'node'})\n",
    "\n",
    "    #Safe\n",
    "    x.to_csv(filepath, index=False)"
   ],
   "metadata": {
    "collapsed": false,
    "ExecuteTime": {
     "end_time": "2024-03-25T18:46:51.911332Z",
     "start_time": "2024-03-25T18:46:51.887056Z"
    }
   },
   "id": "74d03fb0b90ce096"
  },
  {
   "cell_type": "code",
   "execution_count": null,
   "outputs": [],
   "source": [],
   "metadata": {
    "collapsed": false
   },
   "id": "3c6a912dcbd98089"
  }
 ],
 "metadata": {
  "kernelspec": {
   "display_name": "Python 3",
   "language": "python",
   "name": "python3"
  },
  "language_info": {
   "codemirror_mode": {
    "name": "ipython",
    "version": 2
   },
   "file_extension": ".py",
   "mimetype": "text/x-python",
   "name": "python",
   "nbconvert_exporter": "python",
   "pygments_lexer": "ipython2",
   "version": "2.7.6"
  }
 },
 "nbformat": 4,
 "nbformat_minor": 5
}
