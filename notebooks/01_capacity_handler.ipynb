{
 "cells": [
  {
   "cell_type": "code",
   "execution_count": 5,
   "id": "initial_id",
   "metadata": {
    "collapsed": true,
    "ExecuteTime": {
     "end_time": "2024-01-08T19:53:44.563572Z",
     "start_time": "2024-01-08T19:53:43.644281Z"
    }
   },
   "outputs": [
    {
     "name": "stderr",
     "output_type": "stream",
     "text": [
      "/Users/davidbertschinger/Applications/PyCharm Professional Edition.app/Contents/plugins/python/helpers/pydev/pydevd_plugins/__init__.py:2: DeprecationWarning: Deprecated call to `pkg_resources.declare_namespace('pydevd_plugins')`.\n",
      "Implementing implicit namespace packages (as specified in PEP 420) is preferred to `pkg_resources.declare_namespace`. See https://setuptools.pypa.io/en/latest/references/keywords.html#keyword-namespace-packages\n",
      "  __import__('pkg_resources').declare_namespace(__name__)\n",
      "\n",
      "/Users/davidbertschinger/Applications/PyCharm Professional Edition.app/Contents/plugins/python/helpers/pydev/pydevd_plugins/extensions/__init__.py:2: DeprecationWarning: Deprecated call to `pkg_resources.declare_namespace('pydevd_plugins.extensions')`.\n",
      "Implementing implicit namespace packages (as specified in PEP 420) is preferred to `pkg_resources.declare_namespace`. See https://setuptools.pypa.io/en/latest/references/keywords.html#keyword-namespace-packages\n",
      "  __import__('pkg_resources').declare_namespace(__name__)\n",
      "\n",
      "/Users/davidbertschinger/Applications/PyCharm Professional Edition.app/Contents/plugins/python/helpers/pydev/pydevd_plugins/extensions/types/__init__.py:2: DeprecationWarning: Deprecated call to `pkg_resources.declare_namespace('pydevd_plugins.extensions.types')`.\n",
      "Implementing implicit namespace packages (as specified in PEP 420) is preferred to `pkg_resources.declare_namespace`. See https://setuptools.pypa.io/en/latest/references/keywords.html#keyword-namespace-packages\n",
      "  __import__('pkg_resources').declare_namespace(__name__)\n",
      "\n"
     ]
    },
    {
     "name": "stdout",
     "output_type": "stream",
     "text": [
      "The autoreload extension is already loaded. To reload it, use:\n",
      "  %reload_ext autoreload\n"
     ]
    }
   ],
   "source": [
    "import pandas as pd\n",
    "%load_ext autoreload\n",
    "%autoreload 2"
   ]
  },
  {
   "cell_type": "code",
   "execution_count": 6,
   "outputs": [],
   "source": [
    "%matplotlib inline\n",
    "\n",
    "from pprint import pprint\n",
    "from zen_garden.postprocess.results import Results\n",
    "\n",
    "from pathlib import Path\n",
    "from os import chdir"
   ],
   "metadata": {
    "collapsed": false,
    "ExecuteTime": {
     "end_time": "2024-01-08T19:53:44.575188Z",
     "start_time": "2024-01-08T19:53:44.561917Z"
    }
   },
   "id": "780397ba889ec419"
  },
  {
   "cell_type": "code",
   "execution_count": 7,
   "outputs": [],
   "source": [
    "# set path\n",
    "path = Path('/Users/davidbertschinger/Documents/GitHub/ZEN-garden/notebooks')\n",
    "chdir(path)"
   ],
   "metadata": {
    "collapsed": false,
    "ExecuteTime": {
     "end_time": "2024-01-08T19:53:44.590906Z",
     "start_time": "2024-01-08T19:53:44.575522Z"
    }
   },
   "id": "1993ef780d414ee9"
  },
  {
   "cell_type": "code",
   "execution_count": 8,
   "outputs": [],
   "source": [
    "# cost optimal solution\n",
    "res_basic = Results(\"../data/outputs/01_mini_CCTS\")"
   ],
   "metadata": {
    "collapsed": false,
    "ExecuteTime": {
     "end_time": "2024-01-08T19:53:44.950881Z",
     "start_time": "2024-01-08T19:53:44.889423Z"
    }
   },
   "id": "fde41797d10bccf6"
  },
  {
   "cell_type": "code",
   "execution_count": 9,
   "outputs": [
    {
     "name": "stdout",
     "output_type": "stream",
     "text": [
      "{'dataset': '/Users/davidbertschinger/Documents/GitHub/ZEN-garden/data/01_mini_CCTS',\n",
      " 'earliest_year_of_data': 1900,\n",
      " 'folder_output': '/Users/davidbertschinger/Documents/GitHub/ZEN-garden/data/outputs',\n",
      " 'header_data_inputs': {'set_capacity_types': 'capacity_type',\n",
      "                        'set_carriers': 'carrier',\n",
      "                        'set_conversion_technologies': 'technology',\n",
      "                        'set_dependent_carriers': 'carrier',\n",
      "                        'set_edges': 'edge',\n",
      "                        'set_elements': 'element',\n",
      "                        'set_input_carriers': 'carrier',\n",
      "                        'set_lca_impact_categories': 'impact_category',\n",
      "                        'set_location': 'location',\n",
      "                        'set_nodes': 'node',\n",
      "                        'set_output_carriers': 'carrier',\n",
      "                        'set_retrofitting_technologies': 'technology',\n",
      "                        'set_storage_technologies': 'technology',\n",
      "                        'set_super_edges': 'super_edge',\n",
      "                        'set_super_nodes': 'super_node',\n",
      "                        'set_technologies': 'technology',\n",
      "                        'set_technologies_existing': 'technology_existing',\n",
      "                        'set_time_steps': 'time',\n",
      "                        'set_time_steps_operation': 'time_operation',\n",
      "                        'set_time_steps_storage': 'time_storage_level',\n",
      "                        'set_time_steps_storage_level': 'time_storage_level',\n",
      "                        'set_time_steps_yearly': 'year',\n",
      "                        'set_time_steps_yearly_entire_horizon': 'year_entire_horizon',\n",
      "                        'set_transport_technologies': 'technology'},\n",
      " 'max_output_size_mb': 500,\n",
      " 'objective': 'total_cost',\n",
      " 'output_format': 'h5',\n",
      " 'overwrite_output': True,\n",
      " 'postprocess': False,\n",
      " 'sense': 'minimize',\n",
      " 'subsets': {'set_carriers': [],\n",
      "             'set_technologies': {'set_conversion_technologies': ['set_retrofitting_technologies'],\n",
      "                                  'set_storage_technologies': [],\n",
      "                                  'set_transport_technologies': []}},\n",
      " 'time_series_aggregation': {'clusterMethod': 'k_means',\n",
      "                             'extremePeriodMethod': 'None',\n",
      "                             'hoursPerPeriod': 1,\n",
      "                             'noSegments': 12,\n",
      "                             'representationMethod': 'meanRepresentation',\n",
      "                             'rescaleClusterPeriods': False,\n",
      "                             'resolution': 1,\n",
      "                             'segmentation': False,\n",
      "                             'solver': 'gurobi'},\n",
      " 'transport_distance': 'Euclidean',\n",
      " 'use_capacities_existing': True,\n",
      " 'write_results_yml': False}\n"
     ]
    }
   ],
   "source": [
    "# show the deafult analysis settings\n",
    "pprint(res_basic.results[None][\"analysis\"])"
   ],
   "metadata": {
    "collapsed": false,
    "ExecuteTime": {
     "end_time": "2024-01-08T19:53:46.201960Z",
     "start_time": "2024-01-08T19:53:46.175459Z"
    }
   },
   "id": "b1d9eb78fb003e8a"
  },
  {
   "cell_type": "code",
   "execution_count": 10,
   "outputs": [
    {
     "data": {
      "text/plain": "technology     capacity_type  location                     year\ncapture_amine  power          swiss_storage_CH             0        0.000000\n                                                           1        0.000000\n                                                           2        0.000000\n                              waste_1_CH                   0       13.577313\n                                                           1        8.950952\n                                                                     ...    \ntruck_batch    power          waste_1_CH-waste_2_CH        1        0.000000\n                                                           2        0.000000\n                              waste_2_CH-swiss_storage_CH  0        0.000000\n                                                           1        0.000000\n                                                           2        1.513804\nName: capacity_addition, Length: 108, dtype: float64"
     },
     "execution_count": 10,
     "metadata": {},
     "output_type": "execute_result"
    }
   ],
   "source": [
    "# get capacity addition and save as csv\n",
    "res_basic.get_df('capacity_addition', to_csv=\"capacity_addition\")"
   ],
   "metadata": {
    "collapsed": false,
    "ExecuteTime": {
     "end_time": "2024-01-08T19:53:54.445559Z",
     "start_time": "2024-01-08T19:53:54.390271Z"
    }
   },
   "id": "fc5db256355e390e"
  },
  {
   "cell_type": "code",
   "execution_count": 11,
   "outputs": [],
   "source": [
    "# get capacity csv\n",
    "df = pd.read_csv('capacity_addition.csv')"
   ],
   "metadata": {
    "collapsed": false,
    "ExecuteTime": {
     "end_time": "2024-01-08T19:53:55.295281Z",
     "start_time": "2024-01-08T19:53:55.269712Z"
    }
   },
   "id": "c5b46bb8b4725cdb"
  },
  {
   "cell_type": "code",
   "execution_count": 12,
   "outputs": [
    {
     "data": {
      "text/plain": "        technology capacity_type                     location  year  \\\n0    capture_amine         power             swiss_storage_CH     0   \n1    capture_amine         power             swiss_storage_CH     1   \n2    capture_amine         power             swiss_storage_CH     2   \n3    capture_amine         power                   waste_1_CH     0   \n4    capture_amine         power                   waste_1_CH     1   \n..             ...           ...                          ...   ...   \n103    truck_batch         power        waste_1_CH-waste_2_CH     1   \n104    truck_batch         power        waste_1_CH-waste_2_CH     2   \n105    truck_batch         power  waste_2_CH-swiss_storage_CH     0   \n106    truck_batch         power  waste_2_CH-swiss_storage_CH     1   \n107    truck_batch         power  waste_2_CH-swiss_storage_CH     2   \n\n     capacity_addition  \n0             0.000000  \n1             0.000000  \n2             0.000000  \n3            13.577313  \n4             8.950952  \n..                 ...  \n103           0.000000  \n104           0.000000  \n105           0.000000  \n106           0.000000  \n107           1.513804  \n\n[108 rows x 5 columns]",
      "text/html": "<div>\n<style scoped>\n    .dataframe tbody tr th:only-of-type {\n        vertical-align: middle;\n    }\n\n    .dataframe tbody tr th {\n        vertical-align: top;\n    }\n\n    .dataframe thead th {\n        text-align: right;\n    }\n</style>\n<table border=\"1\" class=\"dataframe\">\n  <thead>\n    <tr style=\"text-align: right;\">\n      <th></th>\n      <th>technology</th>\n      <th>capacity_type</th>\n      <th>location</th>\n      <th>year</th>\n      <th>capacity_addition</th>\n    </tr>\n  </thead>\n  <tbody>\n    <tr>\n      <th>0</th>\n      <td>capture_amine</td>\n      <td>power</td>\n      <td>swiss_storage_CH</td>\n      <td>0</td>\n      <td>0.000000</td>\n    </tr>\n    <tr>\n      <th>1</th>\n      <td>capture_amine</td>\n      <td>power</td>\n      <td>swiss_storage_CH</td>\n      <td>1</td>\n      <td>0.000000</td>\n    </tr>\n    <tr>\n      <th>2</th>\n      <td>capture_amine</td>\n      <td>power</td>\n      <td>swiss_storage_CH</td>\n      <td>2</td>\n      <td>0.000000</td>\n    </tr>\n    <tr>\n      <th>3</th>\n      <td>capture_amine</td>\n      <td>power</td>\n      <td>waste_1_CH</td>\n      <td>0</td>\n      <td>13.577313</td>\n    </tr>\n    <tr>\n      <th>4</th>\n      <td>capture_amine</td>\n      <td>power</td>\n      <td>waste_1_CH</td>\n      <td>1</td>\n      <td>8.950952</td>\n    </tr>\n    <tr>\n      <th>...</th>\n      <td>...</td>\n      <td>...</td>\n      <td>...</td>\n      <td>...</td>\n      <td>...</td>\n    </tr>\n    <tr>\n      <th>103</th>\n      <td>truck_batch</td>\n      <td>power</td>\n      <td>waste_1_CH-waste_2_CH</td>\n      <td>1</td>\n      <td>0.000000</td>\n    </tr>\n    <tr>\n      <th>104</th>\n      <td>truck_batch</td>\n      <td>power</td>\n      <td>waste_1_CH-waste_2_CH</td>\n      <td>2</td>\n      <td>0.000000</td>\n    </tr>\n    <tr>\n      <th>105</th>\n      <td>truck_batch</td>\n      <td>power</td>\n      <td>waste_2_CH-swiss_storage_CH</td>\n      <td>0</td>\n      <td>0.000000</td>\n    </tr>\n    <tr>\n      <th>106</th>\n      <td>truck_batch</td>\n      <td>power</td>\n      <td>waste_2_CH-swiss_storage_CH</td>\n      <td>1</td>\n      <td>0.000000</td>\n    </tr>\n    <tr>\n      <th>107</th>\n      <td>truck_batch</td>\n      <td>power</td>\n      <td>waste_2_CH-swiss_storage_CH</td>\n      <td>2</td>\n      <td>1.513804</td>\n    </tr>\n  </tbody>\n</table>\n<p>108 rows × 5 columns</p>\n</div>"
     },
     "execution_count": 12,
     "metadata": {},
     "output_type": "execute_result"
    }
   ],
   "source": [
    "df"
   ],
   "metadata": {
    "collapsed": false,
    "ExecuteTime": {
     "end_time": "2024-01-08T19:53:57.299056Z",
     "start_time": "2024-01-08T19:53:57.253609Z"
    }
   },
   "id": "6c8296a56be45c1a"
  },
  {
   "cell_type": "code",
   "execution_count": 13,
   "outputs": [
    {
     "data": {
      "text/plain": "array(['capture_amine', 'compression_16_110bar', 'condition_110bar',\n       'condition_16bar', 'decompression_110_16bar',\n       'decompression_110bar_ambient', 'emergency_storage', 'emitter_wte',\n       'heat_pump', 'permanent_storage', 'flowline', 'truck_batch'],\n      dtype=object)"
     },
     "execution_count": 13,
     "metadata": {},
     "output_type": "execute_result"
    }
   ],
   "source": [
    "# find unique technologies\n",
    "technology = df['technology'].unique()\n",
    "technology"
   ],
   "metadata": {
    "collapsed": false,
    "ExecuteTime": {
     "end_time": "2024-01-08T19:53:59.807010Z",
     "start_time": "2024-01-08T19:53:59.756120Z"
    }
   },
   "id": "d3fca5d70659439c"
  },
  {
   "cell_type": "code",
   "execution_count": 14,
   "outputs": [],
   "source": [
    "# create existing capacity files\n",
    "\n",
    "for i in range(len(technology)):\n",
    "     \n",
    "    #Get table of one technology \n",
    "    tec = technology[i]\n",
    "    x = df[df['technology'] == tec]\n",
    "    \n",
    "    #Set path\n",
    "    parent_path = Path('/Users/davidbertschinger/Documents/GitHub/ZEN-garden/data/01_mini_CCTS_existing')\n",
    "    path = [file for file in Path(parent_path).rglob(tec)]\n",
    "    path = path[0]\n",
    "    filepath = Path(str(path)+'/capacity_existing.csv')\n",
    "    \n",
    "    #Clean up table\n",
    "    x = x.drop(columns='capacity_type')\n",
    "    x = x.drop(columns='technology')\n",
    "    x = x[x['capacity_addition'] != 0]\n",
    "    x = x.rename(columns={'year': 'year_construction'})\n",
    "    x = x.rename(columns={'capacity_addition': 'capacity_existing'})\n",
    "    x['year_construction'] = x['year_construction'] + 2025 \n",
    "    \n",
    "    if  tec == 'biomethane_boiler':\n",
    "        x['capacity_existing'] = x['capacity_existing'] / 1000\n",
    "    \n",
    "    #clean up table, differentiate between node and edge\n",
    "    if path.parent.name == 'set_transport_technologies':\n",
    "        x = x.rename(columns={'location': 'edge'})\n",
    "\n",
    "    else:\n",
    "        x = x.rename(columns={'location': 'node'})\n",
    "\n",
    "    #Safe\n",
    "    x.to_csv(filepath, index=False)"
   ],
   "metadata": {
    "collapsed": false,
    "ExecuteTime": {
     "end_time": "2024-01-08T19:54:01.712176Z",
     "start_time": "2024-01-08T19:54:01.654081Z"
    }
   },
   "id": "74d03fb0b90ce096"
  },
  {
   "cell_type": "code",
   "execution_count": null,
   "outputs": [],
   "source": [],
   "metadata": {
    "collapsed": false
   },
   "id": "58f76481a3d72797"
  }
 ],
 "metadata": {
  "kernelspec": {
   "display_name": "Python 3",
   "language": "python",
   "name": "python3"
  },
  "language_info": {
   "codemirror_mode": {
    "name": "ipython",
    "version": 2
   },
   "file_extension": ".py",
   "mimetype": "text/x-python",
   "name": "python",
   "nbconvert_exporter": "python",
   "pygments_lexer": "ipython2",
   "version": "2.7.6"
  }
 },
 "nbformat": 4,
 "nbformat_minor": 5
}
