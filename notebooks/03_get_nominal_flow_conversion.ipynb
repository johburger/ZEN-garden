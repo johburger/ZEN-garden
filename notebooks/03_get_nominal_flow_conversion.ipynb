{
 "cells": [
  {
   "cell_type": "markdown",
   "source": [],
   "metadata": {
    "collapsed": false
   },
   "id": "cd059af0e5f8c5fc"
  },
  {
   "cell_type": "code",
   "execution_count": 1,
   "id": "initial_id",
   "metadata": {
    "collapsed": true,
    "ExecuteTime": {
     "end_time": "2024-03-25T18:46:59.066040Z",
     "start_time": "2024-03-25T18:46:57.728136Z"
    }
   },
   "outputs": [],
   "source": [
    "%load_ext autoreload\n",
    "%autoreload 2\n",
    "%matplotlib inline\n",
    "\n",
    "# import\n",
    "import pandas as pd\n",
    "from pprint import pprint\n",
    "from zen_garden.postprocess.results import Results\n",
    "from pathlib import Path\n",
    "from os import chdir\n",
    "\n",
    "# set path\n",
    "path = Path('/Users/davidbertschinger/Documents/GitHub/ZEN-garden/notebooks')\n",
    "chdir(path)"
   ]
  },
  {
   "cell_type": "code",
   "execution_count": 12,
   "outputs": [],
   "source": [
    "# define import path\n",
    "path_import = Path(\"../data/outputs/05_CCTS_WTE_small_01_cost_optimal\")\n",
    "\n",
    "# define export path\n",
    "path_export = Path(\"/Users/davidbertschinger/Documents/GitHub/ZEN-garden/data/05_CCTS_WTE_small_02_n1\")"
   ],
   "metadata": {
    "collapsed": false,
    "ExecuteTime": {
     "end_time": "2024-03-25T18:47:15.315910Z",
     "start_time": "2024-03-25T18:47:15.260897Z"
    }
   },
   "id": "780397ba889ec419"
  },
  {
   "cell_type": "code",
   "execution_count": 13,
   "outputs": [],
   "source": [
    "# cost optimal solution\n",
    "results = Results(path_import)"
   ],
   "metadata": {
    "collapsed": false,
    "ExecuteTime": {
     "end_time": "2024-03-25T18:47:15.427033Z",
     "start_time": "2024-03-25T18:47:15.399657Z"
    }
   },
   "id": "fde41797d10bccf6"
  },
  {
   "cell_type": "code",
   "execution_count": 14,
   "outputs": [
    {
     "data": {
      "text/plain": "technology         carrier           node              time_operation\ncapture_amine      flue_gas          swiss_storage_CH  0                  0.000000\n                                     waste_11_CH       0                 24.844685\n                                     waste_19_CH       0                 33.982036\n                                     waste_1_CH        0                 29.319244\n                                     waste_2_CH        0                 21.518910\n                                                                           ...    \npermanent_storage  co2_liquid_16bar  waste_11_CH       0                  0.000000\n                                     waste_19_CH       0                  0.000000\n                                     waste_1_CH        0                  0.000000\n                                     waste_2_CH        0                  0.000000\n                                     waste_9_CH        0                  0.000000\nName: flow_conversion_input, Length: 96, dtype: float64"
     },
     "execution_count": 14,
     "metadata": {},
     "output_type": "execute_result"
    }
   ],
   "source": [
    "# get flow conversion and save as csv\n",
    "results.get_df('flow_conversion_input', to_csv=\"flow_conversion_input\")"
   ],
   "metadata": {
    "collapsed": false,
    "ExecuteTime": {
     "end_time": "2024-03-25T18:47:15.619837Z",
     "start_time": "2024-03-25T18:47:15.589616Z"
    }
   },
   "id": "fc5db256355e390e"
  },
  {
   "cell_type": "code",
   "execution_count": 15,
   "outputs": [],
   "source": [
    "# get flow conversion csv\n",
    "df = pd.read_csv('flow_conversion_input.csv')"
   ],
   "metadata": {
    "collapsed": false,
    "ExecuteTime": {
     "end_time": "2024-03-25T18:47:15.844034Z",
     "start_time": "2024-03-25T18:47:15.828307Z"
    }
   },
   "id": "c5b46bb8b4725cdb"
  },
  {
   "cell_type": "code",
   "execution_count": 16,
   "outputs": [],
   "source": [
    "# create nominal flow conversion files\n",
    "\n",
    "# find unique technologies\n",
    "technology = df['technology'].unique()\n",
    "\n",
    "for i in range(len(technology)):\n",
    "     \n",
    "    #Get table of one technology \n",
    "    tec = technology[i]\n",
    "    x = df[df['technology'] == tec]\n",
    "    \n",
    "    #Set path\n",
    "    parent_path = Path(path_export)\n",
    "    path = [file for file in Path(parent_path).rglob(tec)]\n",
    "    path = path[0]\n",
    "    filepath = Path(str(path)+'/nominal_flow_conversion_input.csv')\n",
    "    \n",
    "    #Clean up table\n",
    "    x = x.drop(columns='technology')\n",
    "    x = x[x['flow_conversion_input'] != 0]\n",
    "    x = x.rename(columns={'time_operation': 'year'})\n",
    "    x['year'] = x['year'] + 2025\n",
    "    \n",
    "    # Pivot the DataFrame\n",
    "    x = x.pivot(index=['node', 'year'], columns='carrier', values='flow_conversion_input').reset_index()\n",
    "    x.columns.name = None  # Remove the 'carrier' label on columns\n",
    "    \n",
    "    #clean up table, differentiate between node and edge\n",
    "    if path.parent.name == 'set_transport_technologies':\n",
    "        x = x.rename(columns={'location': 'edge'})\n",
    "\n",
    "    else:\n",
    "        x = x.rename(columns={'location': 'node'})\n",
    "\n",
    "    #Safe\n",
    "    x.to_csv(filepath, index=False)"
   ],
   "metadata": {
    "collapsed": false,
    "ExecuteTime": {
     "end_time": "2024-03-25T18:47:16.219568Z",
     "start_time": "2024-03-25T18:47:16.160188Z"
    }
   },
   "id": "74d03fb0b90ce096"
  },
  {
   "cell_type": "code",
   "execution_count": null,
   "outputs": [],
   "source": [],
   "metadata": {
    "collapsed": false
   },
   "id": "cf1bf3b388d2bb41"
  }
 ],
 "metadata": {
  "kernelspec": {
   "display_name": "Python 3",
   "language": "python",
   "name": "python3"
  },
  "language_info": {
   "codemirror_mode": {
    "name": "ipython",
    "version": 2
   },
   "file_extension": ".py",
   "mimetype": "text/x-python",
   "name": "python",
   "nbconvert_exporter": "python",
   "pygments_lexer": "ipython2",
   "version": "2.7.6"
  }
 },
 "nbformat": 4,
 "nbformat_minor": 5
}
